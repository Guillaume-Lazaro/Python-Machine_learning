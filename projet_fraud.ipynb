{
 "cells": [
  {
   "cell_type": "markdown",
   "metadata": {},
   "source": [
    "# Projet Fraude \n",
    "\n"
   ]
  },
  {
   "cell_type": "code",
   "execution_count": 3,
   "metadata": {},
   "outputs": [],
   "source": [
    "import warnings\n",
    "import pandas as pd\n",
    "warnings.simplefilter('ignore')"
   ]
  },
  {
   "cell_type": "markdown",
   "metadata": {},
   "source": [
    "### Importer les dataset"
   ]
  },
  {
   "cell_type": "code",
   "execution_count": 4,
   "metadata": {},
   "outputs": [
    {
     "output_type": "stream",
     "name": "stdout",
     "text": [
      "<class 'pandas.core.frame.DataFrame'>\nRangeIndex: 151112 entries, 0 to 151111\nData columns (total 11 columns):\n #   Column          Non-Null Count   Dtype  \n---  ------          --------------   -----  \n 0   user_id         151112 non-null  int64  \n 1   signup_time     151112 non-null  object \n 2   purchase_time   151112 non-null  object \n 3   purchase_value  151112 non-null  int64  \n 4   device_id       151112 non-null  object \n 5   source          151112 non-null  object \n 6   browser         151112 non-null  object \n 7   sex             151112 non-null  object \n 8   age             151112 non-null  int64  \n 9   ip_address      151112 non-null  float64\n 10  class           151112 non-null  int64  \ndtypes: float64(1), int64(4), object(6)\nmemory usage: 12.7+ MB\n"
     ]
    }
   ],
   "source": [
    "path = './dataset/'\n",
    "fd = pd.read_csv(path+'Fraud_Data.csv')\n",
    "ip_address = pd.read_csv(path+'IpAddress_to_Country.csv')\n",
    "#target --> class : 1 Fraud | 0 ok \n",
    "fd.info()"
   ]
  },
  {
   "cell_type": "code",
   "execution_count": 5,
   "metadata": {},
   "outputs": [
    {
     "output_type": "execute_result",
     "data": {
      "text/plain": [
       "        lower_bound_ip_address  upper_bound_ip_address    country\n",
       "0                 1.677722e+07                16777471  Australia\n",
       "1                 1.677747e+07                16777727      China\n",
       "2                 1.677773e+07                16778239      China\n",
       "3                 1.677824e+07                16779263  Australia\n",
       "4                 1.677926e+07                16781311      China\n",
       "...                        ...                     ...        ...\n",
       "138841            3.758092e+09              3758093311  Hong Kong\n",
       "138842            3.758093e+09              3758094335      India\n",
       "138843            3.758095e+09              3758095871      China\n",
       "138844            3.758096e+09              3758096127  Singapore\n",
       "138845            3.758096e+09              3758096383  Australia\n",
       "\n",
       "[138846 rows x 3 columns]"
      ],
      "text/html": "<div>\n<style scoped>\n    .dataframe tbody tr th:only-of-type {\n        vertical-align: middle;\n    }\n\n    .dataframe tbody tr th {\n        vertical-align: top;\n    }\n\n    .dataframe thead th {\n        text-align: right;\n    }\n</style>\n<table border=\"1\" class=\"dataframe\">\n  <thead>\n    <tr style=\"text-align: right;\">\n      <th></th>\n      <th>lower_bound_ip_address</th>\n      <th>upper_bound_ip_address</th>\n      <th>country</th>\n    </tr>\n  </thead>\n  <tbody>\n    <tr>\n      <th>0</th>\n      <td>1.677722e+07</td>\n      <td>16777471</td>\n      <td>Australia</td>\n    </tr>\n    <tr>\n      <th>1</th>\n      <td>1.677747e+07</td>\n      <td>16777727</td>\n      <td>China</td>\n    </tr>\n    <tr>\n      <th>2</th>\n      <td>1.677773e+07</td>\n      <td>16778239</td>\n      <td>China</td>\n    </tr>\n    <tr>\n      <th>3</th>\n      <td>1.677824e+07</td>\n      <td>16779263</td>\n      <td>Australia</td>\n    </tr>\n    <tr>\n      <th>4</th>\n      <td>1.677926e+07</td>\n      <td>16781311</td>\n      <td>China</td>\n    </tr>\n    <tr>\n      <th>...</th>\n      <td>...</td>\n      <td>...</td>\n      <td>...</td>\n    </tr>\n    <tr>\n      <th>138841</th>\n      <td>3.758092e+09</td>\n      <td>3758093311</td>\n      <td>Hong Kong</td>\n    </tr>\n    <tr>\n      <th>138842</th>\n      <td>3.758093e+09</td>\n      <td>3758094335</td>\n      <td>India</td>\n    </tr>\n    <tr>\n      <th>138843</th>\n      <td>3.758095e+09</td>\n      <td>3758095871</td>\n      <td>China</td>\n    </tr>\n    <tr>\n      <th>138844</th>\n      <td>3.758096e+09</td>\n      <td>3758096127</td>\n      <td>Singapore</td>\n    </tr>\n    <tr>\n      <th>138845</th>\n      <td>3.758096e+09</td>\n      <td>3758096383</td>\n      <td>Australia</td>\n    </tr>\n  </tbody>\n</table>\n<p>138846 rows × 3 columns</p>\n</div>"
     },
     "metadata": {},
     "execution_count": 5
    }
   ],
   "source": [
    "ip_address"
   ]
  },
  {
   "cell_type": "code",
   "execution_count": 6,
   "metadata": {},
   "outputs": [],
   "source": [
    "#fd1 = pd.merge(fd, ip_address, left_on = ['ip_address'], right_on = ['upper_bound_ip_address'], how='left')\n",
    "#fd1.describe()\n",
    "fd['country'] = (fd.ip_address.apply(lambda country: ip_address.query('lower_bound_ip_address <= @country <= upper_bound_ip_address').index.values).apply(lambda country: country[0] if len(country) else -1))"
   ]
  },
  {
   "cell_type": "code",
   "execution_count": 7,
   "metadata": {},
   "outputs": [
    {
     "output_type": "execute_result",
     "data": {
      "text/plain": [
       "        user_id          signup_time        purchase_time  purchase_value  \\\n",
       "0         22058  2015-02-24 22:55:49  2015-04-18 02:47:11              34   \n",
       "1        333320  2015-06-07 20:39:50  2015-06-08 01:38:54              16   \n",
       "2          1359  2015-01-01 18:52:44  2015-01-01 18:52:45              15   \n",
       "3        150084  2015-04-28 21:13:25  2015-05-04 13:54:50              44   \n",
       "4        221365  2015-07-21 07:09:52  2015-09-09 18:40:53              39   \n",
       "...         ...                  ...                  ...             ...   \n",
       "151107   345170  2015-01-27 03:03:34  2015-03-29 00:30:47              43   \n",
       "151108   274471  2015-05-15 17:43:29  2015-05-26 12:24:39              35   \n",
       "151109   368416  2015-03-03 23:07:31  2015-05-20 07:07:47              40   \n",
       "151110   207709  2015-07-09 20:06:07  2015-09-07 09:34:46              46   \n",
       "151111   138208  2015-06-10 07:02:20  2015-07-21 02:03:53              20   \n",
       "\n",
       "            device_id  source browser sex  age    ip_address  class  \\\n",
       "0       QVPSPJUOCKZAR     SEO  Chrome   M   39  7.327584e+08      0   \n",
       "1       EOGFQPIZPYXFZ     Ads  Chrome   F   53  3.503114e+08      0   \n",
       "2       YSSKYOSJHPPLJ     SEO   Opera   M   53  2.621474e+09      1   \n",
       "3       ATGTXKYKUDUQN     SEO  Safari   M   41  3.840542e+09      0   \n",
       "4       NAUITBZFJKHWW     Ads  Safari   M   45  4.155831e+08      0   \n",
       "...               ...     ...     ...  ..  ...           ...    ...   \n",
       "151107  XPSKTWGPWINLR     SEO  Chrome   M   28  3.451155e+09      1   \n",
       "151108  LYSFABUCPCGBA     SEO  Safari   M   32  2.439047e+09      0   \n",
       "151109  MEQHCSJUBRBFE     SEO      IE   F   26  2.748471e+09      0   \n",
       "151110  CMCXFGRHYSTVJ     SEO  Chrome   M   37  3.601175e+09      0   \n",
       "151111  ZINIADFCLHYPG  Direct      IE   M   38  4.103825e+09      0   \n",
       "\n",
       "            country_y  \n",
       "0               Japan  \n",
       "1       United States  \n",
       "2       United States  \n",
       "3                 NaN  \n",
       "4       United States  \n",
       "...               ...  \n",
       "151107  United States  \n",
       "151108    Netherlands  \n",
       "151109          Japan  \n",
       "151110  United States  \n",
       "151111            NaN  \n",
       "\n",
       "[151112 rows x 12 columns]"
      ],
      "text/html": "<div>\n<style scoped>\n    .dataframe tbody tr th:only-of-type {\n        vertical-align: middle;\n    }\n\n    .dataframe tbody tr th {\n        vertical-align: top;\n    }\n\n    .dataframe thead th {\n        text-align: right;\n    }\n</style>\n<table border=\"1\" class=\"dataframe\">\n  <thead>\n    <tr style=\"text-align: right;\">\n      <th></th>\n      <th>user_id</th>\n      <th>signup_time</th>\n      <th>purchase_time</th>\n      <th>purchase_value</th>\n      <th>device_id</th>\n      <th>source</th>\n      <th>browser</th>\n      <th>sex</th>\n      <th>age</th>\n      <th>ip_address</th>\n      <th>class</th>\n      <th>country_y</th>\n    </tr>\n  </thead>\n  <tbody>\n    <tr>\n      <th>0</th>\n      <td>22058</td>\n      <td>2015-02-24 22:55:49</td>\n      <td>2015-04-18 02:47:11</td>\n      <td>34</td>\n      <td>QVPSPJUOCKZAR</td>\n      <td>SEO</td>\n      <td>Chrome</td>\n      <td>M</td>\n      <td>39</td>\n      <td>7.327584e+08</td>\n      <td>0</td>\n      <td>Japan</td>\n    </tr>\n    <tr>\n      <th>1</th>\n      <td>333320</td>\n      <td>2015-06-07 20:39:50</td>\n      <td>2015-06-08 01:38:54</td>\n      <td>16</td>\n      <td>EOGFQPIZPYXFZ</td>\n      <td>Ads</td>\n      <td>Chrome</td>\n      <td>F</td>\n      <td>53</td>\n      <td>3.503114e+08</td>\n      <td>0</td>\n      <td>United States</td>\n    </tr>\n    <tr>\n      <th>2</th>\n      <td>1359</td>\n      <td>2015-01-01 18:52:44</td>\n      <td>2015-01-01 18:52:45</td>\n      <td>15</td>\n      <td>YSSKYOSJHPPLJ</td>\n      <td>SEO</td>\n      <td>Opera</td>\n      <td>M</td>\n      <td>53</td>\n      <td>2.621474e+09</td>\n      <td>1</td>\n      <td>United States</td>\n    </tr>\n    <tr>\n      <th>3</th>\n      <td>150084</td>\n      <td>2015-04-28 21:13:25</td>\n      <td>2015-05-04 13:54:50</td>\n      <td>44</td>\n      <td>ATGTXKYKUDUQN</td>\n      <td>SEO</td>\n      <td>Safari</td>\n      <td>M</td>\n      <td>41</td>\n      <td>3.840542e+09</td>\n      <td>0</td>\n      <td>NaN</td>\n    </tr>\n    <tr>\n      <th>4</th>\n      <td>221365</td>\n      <td>2015-07-21 07:09:52</td>\n      <td>2015-09-09 18:40:53</td>\n      <td>39</td>\n      <td>NAUITBZFJKHWW</td>\n      <td>Ads</td>\n      <td>Safari</td>\n      <td>M</td>\n      <td>45</td>\n      <td>4.155831e+08</td>\n      <td>0</td>\n      <td>United States</td>\n    </tr>\n    <tr>\n      <th>...</th>\n      <td>...</td>\n      <td>...</td>\n      <td>...</td>\n      <td>...</td>\n      <td>...</td>\n      <td>...</td>\n      <td>...</td>\n      <td>...</td>\n      <td>...</td>\n      <td>...</td>\n      <td>...</td>\n      <td>...</td>\n    </tr>\n    <tr>\n      <th>151107</th>\n      <td>345170</td>\n      <td>2015-01-27 03:03:34</td>\n      <td>2015-03-29 00:30:47</td>\n      <td>43</td>\n      <td>XPSKTWGPWINLR</td>\n      <td>SEO</td>\n      <td>Chrome</td>\n      <td>M</td>\n      <td>28</td>\n      <td>3.451155e+09</td>\n      <td>1</td>\n      <td>United States</td>\n    </tr>\n    <tr>\n      <th>151108</th>\n      <td>274471</td>\n      <td>2015-05-15 17:43:29</td>\n      <td>2015-05-26 12:24:39</td>\n      <td>35</td>\n      <td>LYSFABUCPCGBA</td>\n      <td>SEO</td>\n      <td>Safari</td>\n      <td>M</td>\n      <td>32</td>\n      <td>2.439047e+09</td>\n      <td>0</td>\n      <td>Netherlands</td>\n    </tr>\n    <tr>\n      <th>151109</th>\n      <td>368416</td>\n      <td>2015-03-03 23:07:31</td>\n      <td>2015-05-20 07:07:47</td>\n      <td>40</td>\n      <td>MEQHCSJUBRBFE</td>\n      <td>SEO</td>\n      <td>IE</td>\n      <td>F</td>\n      <td>26</td>\n      <td>2.748471e+09</td>\n      <td>0</td>\n      <td>Japan</td>\n    </tr>\n    <tr>\n      <th>151110</th>\n      <td>207709</td>\n      <td>2015-07-09 20:06:07</td>\n      <td>2015-09-07 09:34:46</td>\n      <td>46</td>\n      <td>CMCXFGRHYSTVJ</td>\n      <td>SEO</td>\n      <td>Chrome</td>\n      <td>M</td>\n      <td>37</td>\n      <td>3.601175e+09</td>\n      <td>0</td>\n      <td>United States</td>\n    </tr>\n    <tr>\n      <th>151111</th>\n      <td>138208</td>\n      <td>2015-06-10 07:02:20</td>\n      <td>2015-07-21 02:03:53</td>\n      <td>20</td>\n      <td>ZINIADFCLHYPG</td>\n      <td>Direct</td>\n      <td>IE</td>\n      <td>M</td>\n      <td>38</td>\n      <td>4.103825e+09</td>\n      <td>0</td>\n      <td>NaN</td>\n    </tr>\n  </tbody>\n</table>\n<p>151112 rows × 12 columns</p>\n</div>"
     },
     "metadata": {},
     "execution_count": 7
    }
   ],
   "source": [
    "pd.merge(fd, ip_address, left_on='country', right_index=True, how='left').drop('lower_bound_ip_address',1).drop('upper_bound_ip_address',1).drop('country_x',1)"
   ]
  },
  {
   "cell_type": "code",
   "execution_count": 3,
   "metadata": {},
   "outputs": [
    {
     "data": {
      "text/html": [
       "<div>\n",
       "<style scoped>\n",
       "    .dataframe tbody tr th:only-of-type {\n",
       "        vertical-align: middle;\n",
       "    }\n",
       "\n",
       "    .dataframe tbody tr th {\n",
       "        vertical-align: top;\n",
       "    }\n",
       "\n",
       "    .dataframe thead th {\n",
       "        text-align: right;\n",
       "    }\n",
       "</style>\n",
       "<table border=\"1\" class=\"dataframe\">\n",
       "  <thead>\n",
       "    <tr style=\"text-align: right;\">\n",
       "      <th></th>\n",
       "      <th>lower_bound_ip_address</th>\n",
       "      <th>upper_bound_ip_address</th>\n",
       "      <th>country</th>\n",
       "    </tr>\n",
       "  </thead>\n",
       "  <tbody>\n",
       "    <tr>\n",
       "      <th>0</th>\n",
       "      <td>16777216.0</td>\n",
       "      <td>16777471</td>\n",
       "      <td>Australia</td>\n",
       "    </tr>\n",
       "    <tr>\n",
       "      <th>1</th>\n",
       "      <td>16777472.0</td>\n",
       "      <td>16777727</td>\n",
       "      <td>China</td>\n",
       "    </tr>\n",
       "    <tr>\n",
       "      <th>2</th>\n",
       "      <td>16777728.0</td>\n",
       "      <td>16778239</td>\n",
       "      <td>China</td>\n",
       "    </tr>\n",
       "    <tr>\n",
       "      <th>3</th>\n",
       "      <td>16778240.0</td>\n",
       "      <td>16779263</td>\n",
       "      <td>Australia</td>\n",
       "    </tr>\n",
       "    <tr>\n",
       "      <th>4</th>\n",
       "      <td>16779264.0</td>\n",
       "      <td>16781311</td>\n",
       "      <td>China</td>\n",
       "    </tr>\n",
       "  </tbody>\n",
       "</table>\n",
       "</div>"
      ],
      "text/plain": [
       "   lower_bound_ip_address  upper_bound_ip_address    country\n",
       "0              16777216.0                16777471  Australia\n",
       "1              16777472.0                16777727      China\n",
       "2              16777728.0                16778239      China\n",
       "3              16778240.0                16779263  Australia\n",
       "4              16779264.0                16781311      China"
      ]
     },
     "execution_count": 3,
     "metadata": {},
     "output_type": "execute_result"
    }
   ],
   "source": []
  },
  {
   "cell_type": "markdown",
   "metadata": {},
   "source": [
    "### Créer une nouvelle colonne `country` en effectuant une jointure entre les deux dataset "
   ]
  },
  {
   "cell_type": "code",
   "execution_count": 4,
   "metadata": {},
   "outputs": [
    {
     "data": {
      "text/html": [
       "<div>\n",
       "<style scoped>\n",
       "    .dataframe tbody tr th:only-of-type {\n",
       "        vertical-align: middle;\n",
       "    }\n",
       "\n",
       "    .dataframe tbody tr th {\n",
       "        vertical-align: top;\n",
       "    }\n",
       "\n",
       "    .dataframe thead th {\n",
       "        text-align: right;\n",
       "    }\n",
       "</style>\n",
       "<table border=\"1\" class=\"dataframe\">\n",
       "  <thead>\n",
       "    <tr style=\"text-align: right;\">\n",
       "      <th></th>\n",
       "      <th>user_id</th>\n",
       "      <th>signup_time</th>\n",
       "      <th>purchase_time</th>\n",
       "      <th>purchase_value</th>\n",
       "      <th>device_id</th>\n",
       "      <th>source</th>\n",
       "      <th>browser</th>\n",
       "      <th>sex</th>\n",
       "      <th>age</th>\n",
       "      <th>ip_address</th>\n",
       "      <th>class</th>\n",
       "      <th>country</th>\n",
       "    </tr>\n",
       "  </thead>\n",
       "  <tbody>\n",
       "    <tr>\n",
       "      <th>0</th>\n",
       "      <td>22058</td>\n",
       "      <td>2015-02-24 22:55:49</td>\n",
       "      <td>2015-04-18 02:47:11</td>\n",
       "      <td>34</td>\n",
       "      <td>QVPSPJUOCKZAR</td>\n",
       "      <td>SEO</td>\n",
       "      <td>Chrome</td>\n",
       "      <td>M</td>\n",
       "      <td>39</td>\n",
       "      <td>7.327584e+08</td>\n",
       "      <td>0</td>\n",
       "      <td>Japan</td>\n",
       "    </tr>\n",
       "    <tr>\n",
       "      <th>1</th>\n",
       "      <td>333320</td>\n",
       "      <td>2015-06-07 20:39:50</td>\n",
       "      <td>2015-06-08 01:38:54</td>\n",
       "      <td>16</td>\n",
       "      <td>EOGFQPIZPYXFZ</td>\n",
       "      <td>Ads</td>\n",
       "      <td>Chrome</td>\n",
       "      <td>F</td>\n",
       "      <td>53</td>\n",
       "      <td>3.503114e+08</td>\n",
       "      <td>0</td>\n",
       "      <td>United States</td>\n",
       "    </tr>\n",
       "    <tr>\n",
       "      <th>2</th>\n",
       "      <td>1359</td>\n",
       "      <td>2015-01-01 18:52:44</td>\n",
       "      <td>2015-01-01 18:52:45</td>\n",
       "      <td>15</td>\n",
       "      <td>YSSKYOSJHPPLJ</td>\n",
       "      <td>SEO</td>\n",
       "      <td>Opera</td>\n",
       "      <td>M</td>\n",
       "      <td>53</td>\n",
       "      <td>2.621474e+09</td>\n",
       "      <td>1</td>\n",
       "      <td>United States</td>\n",
       "    </tr>\n",
       "    <tr>\n",
       "      <th>3</th>\n",
       "      <td>150084</td>\n",
       "      <td>2015-04-28 21:13:25</td>\n",
       "      <td>2015-05-04 13:54:50</td>\n",
       "      <td>44</td>\n",
       "      <td>ATGTXKYKUDUQN</td>\n",
       "      <td>SEO</td>\n",
       "      <td>Safari</td>\n",
       "      <td>M</td>\n",
       "      <td>41</td>\n",
       "      <td>3.840542e+09</td>\n",
       "      <td>0</td>\n",
       "      <td>NA</td>\n",
       "    </tr>\n",
       "    <tr>\n",
       "      <th>4</th>\n",
       "      <td>221365</td>\n",
       "      <td>2015-07-21 07:09:52</td>\n",
       "      <td>2015-09-09 18:40:53</td>\n",
       "      <td>39</td>\n",
       "      <td>NAUITBZFJKHWW</td>\n",
       "      <td>Ads</td>\n",
       "      <td>Safari</td>\n",
       "      <td>M</td>\n",
       "      <td>45</td>\n",
       "      <td>4.155831e+08</td>\n",
       "      <td>0</td>\n",
       "      <td>United States</td>\n",
       "    </tr>\n",
       "  </tbody>\n",
       "</table>\n",
       "</div>"
      ],
      "text/plain": [
       "   user_id         signup_time       purchase_time  purchase_value  \\\n",
       "0    22058 2015-02-24 22:55:49 2015-04-18 02:47:11              34   \n",
       "1   333320 2015-06-07 20:39:50 2015-06-08 01:38:54              16   \n",
       "2     1359 2015-01-01 18:52:44 2015-01-01 18:52:45              15   \n",
       "3   150084 2015-04-28 21:13:25 2015-05-04 13:54:50              44   \n",
       "4   221365 2015-07-21 07:09:52 2015-09-09 18:40:53              39   \n",
       "\n",
       "       device_id source browser sex  age    ip_address  class        country  \n",
       "0  QVPSPJUOCKZAR    SEO  Chrome   M   39  7.327584e+08      0          Japan  \n",
       "1  EOGFQPIZPYXFZ    Ads  Chrome   F   53  3.503114e+08      0  United States  \n",
       "2  YSSKYOSJHPPLJ    SEO   Opera   M   53  2.621474e+09      1  United States  \n",
       "3  ATGTXKYKUDUQN    SEO  Safari   M   41  3.840542e+09      0             NA  \n",
       "4  NAUITBZFJKHWW    Ads  Safari   M   45  4.155831e+08      0  United States  "
      ]
     },
     "execution_count": 4,
     "metadata": {},
     "output_type": "execute_result"
    }
   ],
   "source": []
  },
  {
   "cell_type": "markdown",
   "metadata": {},
   "source": [
    "### Créer une nouvelle variable `time_diff` qui sera la différence entre les variables `purchase_time` et `signup_time`"
   ]
  },
  {
   "cell_type": "code",
   "execution_count": 8,
   "metadata": {},
   "outputs": [
    {
     "output_type": "execute_result",
     "data": {
      "text/plain": [
       "        user_id          signup_time        purchase_time  purchase_value  \\\n",
       "0         22058  2015-02-24 22:55:49  2015-04-18 02:47:11              34   \n",
       "1        333320  2015-06-07 20:39:50  2015-06-08 01:38:54              16   \n",
       "2          1359  2015-01-01 18:52:44  2015-01-01 18:52:45              15   \n",
       "3        150084  2015-04-28 21:13:25  2015-05-04 13:54:50              44   \n",
       "4        221365  2015-07-21 07:09:52  2015-09-09 18:40:53              39   \n",
       "...         ...                  ...                  ...             ...   \n",
       "151107   345170  2015-01-27 03:03:34  2015-03-29 00:30:47              43   \n",
       "151108   274471  2015-05-15 17:43:29  2015-05-26 12:24:39              35   \n",
       "151109   368416  2015-03-03 23:07:31  2015-05-20 07:07:47              40   \n",
       "151110   207709  2015-07-09 20:06:07  2015-09-07 09:34:46              46   \n",
       "151111   138208  2015-06-10 07:02:20  2015-07-21 02:03:53              20   \n",
       "\n",
       "            device_id  source browser sex  age    ip_address  class  country  \\\n",
       "0       QVPSPJUOCKZAR     SEO  Chrome   M   39  7.327584e+08      0     4554   \n",
       "1       EOGFQPIZPYXFZ     Ads  Chrome   F   53  3.503114e+08      0     1017   \n",
       "2       YSSKYOSJHPPLJ     SEO   Opera   M   53  2.621474e+09      1    43965   \n",
       "3       ATGTXKYKUDUQN     SEO  Safari   M   41  3.840542e+09      0       -1   \n",
       "4       NAUITBZFJKHWW     Ads  Safari   M   45  4.155831e+08      0     1604   \n",
       "...               ...     ...     ...  ..  ...           ...    ...      ...   \n",
       "151107  XPSKTWGPWINLR     SEO  Chrome   M   28  3.451155e+09      1   126332   \n",
       "151108  LYSFABUCPCGBA     SEO  Safari   M   32  2.439047e+09      0    41568   \n",
       "151109  MEQHCSJUBRBFE     SEO      IE   F   26  2.748471e+09      0    46951   \n",
       "151110  CMCXFGRHYSTVJ     SEO  Chrome   M   37  3.601175e+09      0   135347   \n",
       "151111  ZINIADFCLHYPG  Direct      IE   M   38  4.103825e+09      0       -1   \n",
       "\n",
       "              time_diff  \n",
       "0      52 days 03:51:22  \n",
       "1       0 days 04:59:04  \n",
       "2       0 days 00:00:01  \n",
       "3       5 days 16:41:25  \n",
       "4      50 days 11:31:01  \n",
       "...                 ...  \n",
       "151107 60 days 21:27:13  \n",
       "151108 10 days 18:41:10  \n",
       "151109 77 days 08:00:16  \n",
       "151110 59 days 13:28:39  \n",
       "151111 40 days 19:01:33  \n",
       "\n",
       "[151112 rows x 13 columns]"
      ],
      "text/html": "<div>\n<style scoped>\n    .dataframe tbody tr th:only-of-type {\n        vertical-align: middle;\n    }\n\n    .dataframe tbody tr th {\n        vertical-align: top;\n    }\n\n    .dataframe thead th {\n        text-align: right;\n    }\n</style>\n<table border=\"1\" class=\"dataframe\">\n  <thead>\n    <tr style=\"text-align: right;\">\n      <th></th>\n      <th>user_id</th>\n      <th>signup_time</th>\n      <th>purchase_time</th>\n      <th>purchase_value</th>\n      <th>device_id</th>\n      <th>source</th>\n      <th>browser</th>\n      <th>sex</th>\n      <th>age</th>\n      <th>ip_address</th>\n      <th>class</th>\n      <th>country</th>\n      <th>time_diff</th>\n    </tr>\n  </thead>\n  <tbody>\n    <tr>\n      <th>0</th>\n      <td>22058</td>\n      <td>2015-02-24 22:55:49</td>\n      <td>2015-04-18 02:47:11</td>\n      <td>34</td>\n      <td>QVPSPJUOCKZAR</td>\n      <td>SEO</td>\n      <td>Chrome</td>\n      <td>M</td>\n      <td>39</td>\n      <td>7.327584e+08</td>\n      <td>0</td>\n      <td>4554</td>\n      <td>52 days 03:51:22</td>\n    </tr>\n    <tr>\n      <th>1</th>\n      <td>333320</td>\n      <td>2015-06-07 20:39:50</td>\n      <td>2015-06-08 01:38:54</td>\n      <td>16</td>\n      <td>EOGFQPIZPYXFZ</td>\n      <td>Ads</td>\n      <td>Chrome</td>\n      <td>F</td>\n      <td>53</td>\n      <td>3.503114e+08</td>\n      <td>0</td>\n      <td>1017</td>\n      <td>0 days 04:59:04</td>\n    </tr>\n    <tr>\n      <th>2</th>\n      <td>1359</td>\n      <td>2015-01-01 18:52:44</td>\n      <td>2015-01-01 18:52:45</td>\n      <td>15</td>\n      <td>YSSKYOSJHPPLJ</td>\n      <td>SEO</td>\n      <td>Opera</td>\n      <td>M</td>\n      <td>53</td>\n      <td>2.621474e+09</td>\n      <td>1</td>\n      <td>43965</td>\n      <td>0 days 00:00:01</td>\n    </tr>\n    <tr>\n      <th>3</th>\n      <td>150084</td>\n      <td>2015-04-28 21:13:25</td>\n      <td>2015-05-04 13:54:50</td>\n      <td>44</td>\n      <td>ATGTXKYKUDUQN</td>\n      <td>SEO</td>\n      <td>Safari</td>\n      <td>M</td>\n      <td>41</td>\n      <td>3.840542e+09</td>\n      <td>0</td>\n      <td>-1</td>\n      <td>5 days 16:41:25</td>\n    </tr>\n    <tr>\n      <th>4</th>\n      <td>221365</td>\n      <td>2015-07-21 07:09:52</td>\n      <td>2015-09-09 18:40:53</td>\n      <td>39</td>\n      <td>NAUITBZFJKHWW</td>\n      <td>Ads</td>\n      <td>Safari</td>\n      <td>M</td>\n      <td>45</td>\n      <td>4.155831e+08</td>\n      <td>0</td>\n      <td>1604</td>\n      <td>50 days 11:31:01</td>\n    </tr>\n    <tr>\n      <th>...</th>\n      <td>...</td>\n      <td>...</td>\n      <td>...</td>\n      <td>...</td>\n      <td>...</td>\n      <td>...</td>\n      <td>...</td>\n      <td>...</td>\n      <td>...</td>\n      <td>...</td>\n      <td>...</td>\n      <td>...</td>\n      <td>...</td>\n    </tr>\n    <tr>\n      <th>151107</th>\n      <td>345170</td>\n      <td>2015-01-27 03:03:34</td>\n      <td>2015-03-29 00:30:47</td>\n      <td>43</td>\n      <td>XPSKTWGPWINLR</td>\n      <td>SEO</td>\n      <td>Chrome</td>\n      <td>M</td>\n      <td>28</td>\n      <td>3.451155e+09</td>\n      <td>1</td>\n      <td>126332</td>\n      <td>60 days 21:27:13</td>\n    </tr>\n    <tr>\n      <th>151108</th>\n      <td>274471</td>\n      <td>2015-05-15 17:43:29</td>\n      <td>2015-05-26 12:24:39</td>\n      <td>35</td>\n      <td>LYSFABUCPCGBA</td>\n      <td>SEO</td>\n      <td>Safari</td>\n      <td>M</td>\n      <td>32</td>\n      <td>2.439047e+09</td>\n      <td>0</td>\n      <td>41568</td>\n      <td>10 days 18:41:10</td>\n    </tr>\n    <tr>\n      <th>151109</th>\n      <td>368416</td>\n      <td>2015-03-03 23:07:31</td>\n      <td>2015-05-20 07:07:47</td>\n      <td>40</td>\n      <td>MEQHCSJUBRBFE</td>\n      <td>SEO</td>\n      <td>IE</td>\n      <td>F</td>\n      <td>26</td>\n      <td>2.748471e+09</td>\n      <td>0</td>\n      <td>46951</td>\n      <td>77 days 08:00:16</td>\n    </tr>\n    <tr>\n      <th>151110</th>\n      <td>207709</td>\n      <td>2015-07-09 20:06:07</td>\n      <td>2015-09-07 09:34:46</td>\n      <td>46</td>\n      <td>CMCXFGRHYSTVJ</td>\n      <td>SEO</td>\n      <td>Chrome</td>\n      <td>M</td>\n      <td>37</td>\n      <td>3.601175e+09</td>\n      <td>0</td>\n      <td>135347</td>\n      <td>59 days 13:28:39</td>\n    </tr>\n    <tr>\n      <th>151111</th>\n      <td>138208</td>\n      <td>2015-06-10 07:02:20</td>\n      <td>2015-07-21 02:03:53</td>\n      <td>20</td>\n      <td>ZINIADFCLHYPG</td>\n      <td>Direct</td>\n      <td>IE</td>\n      <td>M</td>\n      <td>38</td>\n      <td>4.103825e+09</td>\n      <td>0</td>\n      <td>-1</td>\n      <td>40 days 19:01:33</td>\n    </tr>\n  </tbody>\n</table>\n<p>151112 rows × 13 columns</p>\n</div>"
     },
     "metadata": {},
     "execution_count": 8
    }
   ],
   "source": [
    "from datetime import datetime\n",
    "\n",
    "purchase_time = pd.DataFrame([datetime.strptime(date, '%Y-%m-%d %H:%M:%S') for date in fd['purchase_time']])\n",
    "signup_time = pd.DataFrame([datetime.strptime(date, '%Y-%m-%d %H:%M:%S') for date in fd['signup_time']])\n",
    "\n",
    "time_diff = purchase_time.sub(signup_time, axis=0)\n",
    "\n",
    "\n",
    "fd['time_diff'] = (purchase_time.sub(signup_time, axis=0))\n",
    "fd"
   ]
  },
  {
   "cell_type": "markdown",
   "metadata": {},
   "source": [
    "### Regroupper les `user_id` par `device_id`  afin d'avoir le nombre de device par client  "
   ]
  },
  {
   "cell_type": "code",
   "execution_count": 9,
   "metadata": {},
   "outputs": [
    {
     "output_type": "execute_result",
     "data": {
      "text/plain": [
       "   user_id          signup_time        purchase_time  purchase_value  \\\n",
       "0    22058  2015-02-24 22:55:49  2015-04-18 02:47:11              34   \n",
       "1   333320  2015-06-07 20:39:50  2015-06-08 01:38:54              16   \n",
       "2     1359  2015-01-01 18:52:44  2015-01-01 18:52:45              15   \n",
       "3   150084  2015-04-28 21:13:25  2015-05-04 13:54:50              44   \n",
       "4   221365  2015-07-21 07:09:52  2015-09-09 18:40:53              39   \n",
       "\n",
       "       device_id source browser sex  age    ip_address  class  country  \\\n",
       "0  QVPSPJUOCKZAR    SEO  Chrome   M   39  7.327584e+08      0     4554   \n",
       "1  EOGFQPIZPYXFZ    Ads  Chrome   F   53  3.503114e+08      0     1017   \n",
       "2  YSSKYOSJHPPLJ    SEO   Opera   M   53  2.621474e+09      1    43965   \n",
       "3  ATGTXKYKUDUQN    SEO  Safari   M   41  3.840542e+09      0       -1   \n",
       "4  NAUITBZFJKHWW    Ads  Safari   M   45  4.155831e+08      0     1604   \n",
       "\n",
       "         time_diff  device_num  \n",
       "0 52 days 03:51:22           1  \n",
       "1  0 days 04:59:04           1  \n",
       "2  0 days 00:00:01          12  \n",
       "3  5 days 16:41:25           1  \n",
       "4 50 days 11:31:01           1  "
      ],
      "text/html": "<div>\n<style scoped>\n    .dataframe tbody tr th:only-of-type {\n        vertical-align: middle;\n    }\n\n    .dataframe tbody tr th {\n        vertical-align: top;\n    }\n\n    .dataframe thead th {\n        text-align: right;\n    }\n</style>\n<table border=\"1\" class=\"dataframe\">\n  <thead>\n    <tr style=\"text-align: right;\">\n      <th></th>\n      <th>user_id</th>\n      <th>signup_time</th>\n      <th>purchase_time</th>\n      <th>purchase_value</th>\n      <th>device_id</th>\n      <th>source</th>\n      <th>browser</th>\n      <th>sex</th>\n      <th>age</th>\n      <th>ip_address</th>\n      <th>class</th>\n      <th>country</th>\n      <th>time_diff</th>\n      <th>device_num</th>\n    </tr>\n  </thead>\n  <tbody>\n    <tr>\n      <th>0</th>\n      <td>22058</td>\n      <td>2015-02-24 22:55:49</td>\n      <td>2015-04-18 02:47:11</td>\n      <td>34</td>\n      <td>QVPSPJUOCKZAR</td>\n      <td>SEO</td>\n      <td>Chrome</td>\n      <td>M</td>\n      <td>39</td>\n      <td>7.327584e+08</td>\n      <td>0</td>\n      <td>4554</td>\n      <td>52 days 03:51:22</td>\n      <td>1</td>\n    </tr>\n    <tr>\n      <th>1</th>\n      <td>333320</td>\n      <td>2015-06-07 20:39:50</td>\n      <td>2015-06-08 01:38:54</td>\n      <td>16</td>\n      <td>EOGFQPIZPYXFZ</td>\n      <td>Ads</td>\n      <td>Chrome</td>\n      <td>F</td>\n      <td>53</td>\n      <td>3.503114e+08</td>\n      <td>0</td>\n      <td>1017</td>\n      <td>0 days 04:59:04</td>\n      <td>1</td>\n    </tr>\n    <tr>\n      <th>2</th>\n      <td>1359</td>\n      <td>2015-01-01 18:52:44</td>\n      <td>2015-01-01 18:52:45</td>\n      <td>15</td>\n      <td>YSSKYOSJHPPLJ</td>\n      <td>SEO</td>\n      <td>Opera</td>\n      <td>M</td>\n      <td>53</td>\n      <td>2.621474e+09</td>\n      <td>1</td>\n      <td>43965</td>\n      <td>0 days 00:00:01</td>\n      <td>12</td>\n    </tr>\n    <tr>\n      <th>3</th>\n      <td>150084</td>\n      <td>2015-04-28 21:13:25</td>\n      <td>2015-05-04 13:54:50</td>\n      <td>44</td>\n      <td>ATGTXKYKUDUQN</td>\n      <td>SEO</td>\n      <td>Safari</td>\n      <td>M</td>\n      <td>41</td>\n      <td>3.840542e+09</td>\n      <td>0</td>\n      <td>-1</td>\n      <td>5 days 16:41:25</td>\n      <td>1</td>\n    </tr>\n    <tr>\n      <th>4</th>\n      <td>221365</td>\n      <td>2015-07-21 07:09:52</td>\n      <td>2015-09-09 18:40:53</td>\n      <td>39</td>\n      <td>NAUITBZFJKHWW</td>\n      <td>Ads</td>\n      <td>Safari</td>\n      <td>M</td>\n      <td>45</td>\n      <td>4.155831e+08</td>\n      <td>0</td>\n      <td>1604</td>\n      <td>50 days 11:31:01</td>\n      <td>1</td>\n    </tr>\n  </tbody>\n</table>\n</div>"
     },
     "metadata": {},
     "execution_count": 9
    }
   ],
   "source": [
    "device_num = fd[['user_id', 'device_id']].groupby('device_id').count().reset_index()\n",
    "device_num = device_num.rename(columns={'user_id': 'device_num'})\n",
    "fd = fd.merge(device_num, how='left', on='device_id')\n",
    "fd.head()"
   ]
  },
  {
   "cell_type": "markdown",
   "metadata": {},
   "source": [
    "### Faire de même pour les `ip_address` "
   ]
  },
  {
   "cell_type": "code",
   "execution_count": 10,
   "metadata": {},
   "outputs": [
    {
     "output_type": "execute_result",
     "data": {
      "text/plain": [
       "   user_id          signup_time        purchase_time  purchase_value  \\\n",
       "0    22058  2015-02-24 22:55:49  2015-04-18 02:47:11              34   \n",
       "1   333320  2015-06-07 20:39:50  2015-06-08 01:38:54              16   \n",
       "2     1359  2015-01-01 18:52:44  2015-01-01 18:52:45              15   \n",
       "3   150084  2015-04-28 21:13:25  2015-05-04 13:54:50              44   \n",
       "4   221365  2015-07-21 07:09:52  2015-09-09 18:40:53              39   \n",
       "\n",
       "       device_id source browser sex  age    ip_address  class  country  \\\n",
       "0  QVPSPJUOCKZAR    SEO  Chrome   M   39  7.327584e+08      0     4554   \n",
       "1  EOGFQPIZPYXFZ    Ads  Chrome   F   53  3.503114e+08      0     1017   \n",
       "2  YSSKYOSJHPPLJ    SEO   Opera   M   53  2.621474e+09      1    43965   \n",
       "3  ATGTXKYKUDUQN    SEO  Safari   M   41  3.840542e+09      0       -1   \n",
       "4  NAUITBZFJKHWW    Ads  Safari   M   45  4.155831e+08      0     1604   \n",
       "\n",
       "         time_diff  device_num  ip_num  \n",
       "0 52 days 03:51:22           1       1  \n",
       "1  0 days 04:59:04           1       1  \n",
       "2  0 days 00:00:01          12      12  \n",
       "3  5 days 16:41:25           1       1  \n",
       "4 50 days 11:31:01           1       1  "
      ],
      "text/html": "<div>\n<style scoped>\n    .dataframe tbody tr th:only-of-type {\n        vertical-align: middle;\n    }\n\n    .dataframe tbody tr th {\n        vertical-align: top;\n    }\n\n    .dataframe thead th {\n        text-align: right;\n    }\n</style>\n<table border=\"1\" class=\"dataframe\">\n  <thead>\n    <tr style=\"text-align: right;\">\n      <th></th>\n      <th>user_id</th>\n      <th>signup_time</th>\n      <th>purchase_time</th>\n      <th>purchase_value</th>\n      <th>device_id</th>\n      <th>source</th>\n      <th>browser</th>\n      <th>sex</th>\n      <th>age</th>\n      <th>ip_address</th>\n      <th>class</th>\n      <th>country</th>\n      <th>time_diff</th>\n      <th>device_num</th>\n      <th>ip_num</th>\n    </tr>\n  </thead>\n  <tbody>\n    <tr>\n      <th>0</th>\n      <td>22058</td>\n      <td>2015-02-24 22:55:49</td>\n      <td>2015-04-18 02:47:11</td>\n      <td>34</td>\n      <td>QVPSPJUOCKZAR</td>\n      <td>SEO</td>\n      <td>Chrome</td>\n      <td>M</td>\n      <td>39</td>\n      <td>7.327584e+08</td>\n      <td>0</td>\n      <td>4554</td>\n      <td>52 days 03:51:22</td>\n      <td>1</td>\n      <td>1</td>\n    </tr>\n    <tr>\n      <th>1</th>\n      <td>333320</td>\n      <td>2015-06-07 20:39:50</td>\n      <td>2015-06-08 01:38:54</td>\n      <td>16</td>\n      <td>EOGFQPIZPYXFZ</td>\n      <td>Ads</td>\n      <td>Chrome</td>\n      <td>F</td>\n      <td>53</td>\n      <td>3.503114e+08</td>\n      <td>0</td>\n      <td>1017</td>\n      <td>0 days 04:59:04</td>\n      <td>1</td>\n      <td>1</td>\n    </tr>\n    <tr>\n      <th>2</th>\n      <td>1359</td>\n      <td>2015-01-01 18:52:44</td>\n      <td>2015-01-01 18:52:45</td>\n      <td>15</td>\n      <td>YSSKYOSJHPPLJ</td>\n      <td>SEO</td>\n      <td>Opera</td>\n      <td>M</td>\n      <td>53</td>\n      <td>2.621474e+09</td>\n      <td>1</td>\n      <td>43965</td>\n      <td>0 days 00:00:01</td>\n      <td>12</td>\n      <td>12</td>\n    </tr>\n    <tr>\n      <th>3</th>\n      <td>150084</td>\n      <td>2015-04-28 21:13:25</td>\n      <td>2015-05-04 13:54:50</td>\n      <td>44</td>\n      <td>ATGTXKYKUDUQN</td>\n      <td>SEO</td>\n      <td>Safari</td>\n      <td>M</td>\n      <td>41</td>\n      <td>3.840542e+09</td>\n      <td>0</td>\n      <td>-1</td>\n      <td>5 days 16:41:25</td>\n      <td>1</td>\n      <td>1</td>\n    </tr>\n    <tr>\n      <th>4</th>\n      <td>221365</td>\n      <td>2015-07-21 07:09:52</td>\n      <td>2015-09-09 18:40:53</td>\n      <td>39</td>\n      <td>NAUITBZFJKHWW</td>\n      <td>Ads</td>\n      <td>Safari</td>\n      <td>M</td>\n      <td>45</td>\n      <td>4.155831e+08</td>\n      <td>0</td>\n      <td>1604</td>\n      <td>50 days 11:31:01</td>\n      <td>1</td>\n      <td>1</td>\n    </tr>\n  </tbody>\n</table>\n</div>"
     },
     "metadata": {},
     "execution_count": 10
    }
   ],
   "source": [
    "ip_num = fd[['user_id', 'ip_address']].groupby('ip_address').count().reset_index()\n",
    "ip_num = ip_num.rename(columns={'user_id': 'ip_num'})\n",
    "\n",
    "fd = fd.merge(ip_num, how='left', on='ip_address')\n",
    "#fd.drop('device_num_x',1)\n",
    "fd.head()"
   ]
  },
  {
   "cell_type": "markdown",
   "metadata": {},
   "source": [
    "### Traiter les variables `signup_time` & `purchase_time` afin de les différentier suivant la semaine et le week end  "
   ]
  },
  {
   "cell_type": "code",
   "execution_count": 11,
   "metadata": {},
   "outputs": [
    {
     "output_type": "execute_result",
     "data": {
      "text/plain": [
       "   user_id          signup_time        purchase_time  purchase_value  \\\n",
       "0    22058  2015-02-24 22:55:49  2015-04-18 02:47:11              34   \n",
       "1   333320  2015-06-07 20:39:50  2015-06-08 01:38:54              16   \n",
       "2     1359  2015-01-01 18:52:44  2015-01-01 18:52:45              15   \n",
       "3   150084  2015-04-28 21:13:25  2015-05-04 13:54:50              44   \n",
       "4   221365  2015-07-21 07:09:52  2015-09-09 18:40:53              39   \n",
       "\n",
       "       device_id source browser sex  age    ip_address  class  country  \\\n",
       "0  QVPSPJUOCKZAR    SEO  Chrome   M   39  7.327584e+08      0     4554   \n",
       "1  EOGFQPIZPYXFZ    Ads  Chrome   F   53  3.503114e+08      0     1017   \n",
       "2  YSSKYOSJHPPLJ    SEO   Opera   M   53  2.621474e+09      1    43965   \n",
       "3  ATGTXKYKUDUQN    SEO  Safari   M   41  3.840542e+09      0       -1   \n",
       "4  NAUITBZFJKHWW    Ads  Safari   M   45  4.155831e+08      0     1604   \n",
       "\n",
       "         time_diff  device_num  ip_num  \n",
       "0 52 days 03:51:22           1       1  \n",
       "1  0 days 04:59:04           1       1  \n",
       "2  0 days 00:00:01          12      12  \n",
       "3  5 days 16:41:25           1       1  \n",
       "4 50 days 11:31:01           1       1  "
      ],
      "text/html": "<div>\n<style scoped>\n    .dataframe tbody tr th:only-of-type {\n        vertical-align: middle;\n    }\n\n    .dataframe tbody tr th {\n        vertical-align: top;\n    }\n\n    .dataframe thead th {\n        text-align: right;\n    }\n</style>\n<table border=\"1\" class=\"dataframe\">\n  <thead>\n    <tr style=\"text-align: right;\">\n      <th></th>\n      <th>user_id</th>\n      <th>signup_time</th>\n      <th>purchase_time</th>\n      <th>purchase_value</th>\n      <th>device_id</th>\n      <th>source</th>\n      <th>browser</th>\n      <th>sex</th>\n      <th>age</th>\n      <th>ip_address</th>\n      <th>class</th>\n      <th>country</th>\n      <th>time_diff</th>\n      <th>device_num</th>\n      <th>ip_num</th>\n    </tr>\n  </thead>\n  <tbody>\n    <tr>\n      <th>0</th>\n      <td>22058</td>\n      <td>2015-02-24 22:55:49</td>\n      <td>2015-04-18 02:47:11</td>\n      <td>34</td>\n      <td>QVPSPJUOCKZAR</td>\n      <td>SEO</td>\n      <td>Chrome</td>\n      <td>M</td>\n      <td>39</td>\n      <td>7.327584e+08</td>\n      <td>0</td>\n      <td>4554</td>\n      <td>52 days 03:51:22</td>\n      <td>1</td>\n      <td>1</td>\n    </tr>\n    <tr>\n      <th>1</th>\n      <td>333320</td>\n      <td>2015-06-07 20:39:50</td>\n      <td>2015-06-08 01:38:54</td>\n      <td>16</td>\n      <td>EOGFQPIZPYXFZ</td>\n      <td>Ads</td>\n      <td>Chrome</td>\n      <td>F</td>\n      <td>53</td>\n      <td>3.503114e+08</td>\n      <td>0</td>\n      <td>1017</td>\n      <td>0 days 04:59:04</td>\n      <td>1</td>\n      <td>1</td>\n    </tr>\n    <tr>\n      <th>2</th>\n      <td>1359</td>\n      <td>2015-01-01 18:52:44</td>\n      <td>2015-01-01 18:52:45</td>\n      <td>15</td>\n      <td>YSSKYOSJHPPLJ</td>\n      <td>SEO</td>\n      <td>Opera</td>\n      <td>M</td>\n      <td>53</td>\n      <td>2.621474e+09</td>\n      <td>1</td>\n      <td>43965</td>\n      <td>0 days 00:00:01</td>\n      <td>12</td>\n      <td>12</td>\n    </tr>\n    <tr>\n      <th>3</th>\n      <td>150084</td>\n      <td>2015-04-28 21:13:25</td>\n      <td>2015-05-04 13:54:50</td>\n      <td>44</td>\n      <td>ATGTXKYKUDUQN</td>\n      <td>SEO</td>\n      <td>Safari</td>\n      <td>M</td>\n      <td>41</td>\n      <td>3.840542e+09</td>\n      <td>0</td>\n      <td>-1</td>\n      <td>5 days 16:41:25</td>\n      <td>1</td>\n      <td>1</td>\n    </tr>\n    <tr>\n      <th>4</th>\n      <td>221365</td>\n      <td>2015-07-21 07:09:52</td>\n      <td>2015-09-09 18:40:53</td>\n      <td>39</td>\n      <td>NAUITBZFJKHWW</td>\n      <td>Ads</td>\n      <td>Safari</td>\n      <td>M</td>\n      <td>45</td>\n      <td>4.155831e+08</td>\n      <td>0</td>\n      <td>1604</td>\n      <td>50 days 11:31:01</td>\n      <td>1</td>\n      <td>1</td>\n    </tr>\n  </tbody>\n</table>\n</div>"
     },
     "metadata": {},
     "execution_count": 11
    }
   ],
   "source": [
    "#fd.drop('device_num_x',0)\n",
    "fd.head()"
   ]
  },
  {
   "cell_type": "code",
   "execution_count": 12,
   "metadata": {},
   "outputs": [
    {
     "output_type": "execute_result",
     "data": {
      "text/plain": [
       "   user_id          signup_time        purchase_time  purchase_value  \\\n",
       "0    22058  2015-02-24 22:55:49  2015-04-18 02:47:11              34   \n",
       "1   333320  2015-06-07 20:39:50  2015-06-08 01:38:54              16   \n",
       "2     1359  2015-01-01 18:52:44  2015-01-01 18:52:45              15   \n",
       "3   150084  2015-04-28 21:13:25  2015-05-04 13:54:50              44   \n",
       "4   221365  2015-07-21 07:09:52  2015-09-09 18:40:53              39   \n",
       "\n",
       "       device_id source browser sex  age    ip_address  class  country  \\\n",
       "0  QVPSPJUOCKZAR    SEO  Chrome   M   39  7.327584e+08      0     4554   \n",
       "1  EOGFQPIZPYXFZ    Ads  Chrome   F   53  3.503114e+08      0     1017   \n",
       "2  YSSKYOSJHPPLJ    SEO   Opera   M   53  2.621474e+09      1    43965   \n",
       "3  ATGTXKYKUDUQN    SEO  Safari   M   41  3.840542e+09      0       -1   \n",
       "4  NAUITBZFJKHWW    Ads  Safari   M   45  4.155831e+08      0     1604   \n",
       "\n",
       "         time_diff  device_num  ip_num  signup_day  signup_week  purchase_day  \\\n",
       "0 52 days 03:51:22           1       1          24            9            18   \n",
       "1  0 days 04:59:04           1       1           7           23             8   \n",
       "2  0 days 00:00:01          12      12           1            1             1   \n",
       "3  5 days 16:41:25           1       1          28           18             4   \n",
       "4 50 days 11:31:01           1       1          21           30             9   \n",
       "\n",
       "   purchase_week  \n",
       "0             16  \n",
       "1             24  \n",
       "2              1  \n",
       "3             19  \n",
       "4             37  "
      ],
      "text/html": "<div>\n<style scoped>\n    .dataframe tbody tr th:only-of-type {\n        vertical-align: middle;\n    }\n\n    .dataframe tbody tr th {\n        vertical-align: top;\n    }\n\n    .dataframe thead th {\n        text-align: right;\n    }\n</style>\n<table border=\"1\" class=\"dataframe\">\n  <thead>\n    <tr style=\"text-align: right;\">\n      <th></th>\n      <th>user_id</th>\n      <th>signup_time</th>\n      <th>purchase_time</th>\n      <th>purchase_value</th>\n      <th>device_id</th>\n      <th>source</th>\n      <th>browser</th>\n      <th>sex</th>\n      <th>age</th>\n      <th>ip_address</th>\n      <th>class</th>\n      <th>country</th>\n      <th>time_diff</th>\n      <th>device_num</th>\n      <th>ip_num</th>\n      <th>signup_day</th>\n      <th>signup_week</th>\n      <th>purchase_day</th>\n      <th>purchase_week</th>\n    </tr>\n  </thead>\n  <tbody>\n    <tr>\n      <th>0</th>\n      <td>22058</td>\n      <td>2015-02-24 22:55:49</td>\n      <td>2015-04-18 02:47:11</td>\n      <td>34</td>\n      <td>QVPSPJUOCKZAR</td>\n      <td>SEO</td>\n      <td>Chrome</td>\n      <td>M</td>\n      <td>39</td>\n      <td>7.327584e+08</td>\n      <td>0</td>\n      <td>4554</td>\n      <td>52 days 03:51:22</td>\n      <td>1</td>\n      <td>1</td>\n      <td>24</td>\n      <td>9</td>\n      <td>18</td>\n      <td>16</td>\n    </tr>\n    <tr>\n      <th>1</th>\n      <td>333320</td>\n      <td>2015-06-07 20:39:50</td>\n      <td>2015-06-08 01:38:54</td>\n      <td>16</td>\n      <td>EOGFQPIZPYXFZ</td>\n      <td>Ads</td>\n      <td>Chrome</td>\n      <td>F</td>\n      <td>53</td>\n      <td>3.503114e+08</td>\n      <td>0</td>\n      <td>1017</td>\n      <td>0 days 04:59:04</td>\n      <td>1</td>\n      <td>1</td>\n      <td>7</td>\n      <td>23</td>\n      <td>8</td>\n      <td>24</td>\n    </tr>\n    <tr>\n      <th>2</th>\n      <td>1359</td>\n      <td>2015-01-01 18:52:44</td>\n      <td>2015-01-01 18:52:45</td>\n      <td>15</td>\n      <td>YSSKYOSJHPPLJ</td>\n      <td>SEO</td>\n      <td>Opera</td>\n      <td>M</td>\n      <td>53</td>\n      <td>2.621474e+09</td>\n      <td>1</td>\n      <td>43965</td>\n      <td>0 days 00:00:01</td>\n      <td>12</td>\n      <td>12</td>\n      <td>1</td>\n      <td>1</td>\n      <td>1</td>\n      <td>1</td>\n    </tr>\n    <tr>\n      <th>3</th>\n      <td>150084</td>\n      <td>2015-04-28 21:13:25</td>\n      <td>2015-05-04 13:54:50</td>\n      <td>44</td>\n      <td>ATGTXKYKUDUQN</td>\n      <td>SEO</td>\n      <td>Safari</td>\n      <td>M</td>\n      <td>41</td>\n      <td>3.840542e+09</td>\n      <td>0</td>\n      <td>-1</td>\n      <td>5 days 16:41:25</td>\n      <td>1</td>\n      <td>1</td>\n      <td>28</td>\n      <td>18</td>\n      <td>4</td>\n      <td>19</td>\n    </tr>\n    <tr>\n      <th>4</th>\n      <td>221365</td>\n      <td>2015-07-21 07:09:52</td>\n      <td>2015-09-09 18:40:53</td>\n      <td>39</td>\n      <td>NAUITBZFJKHWW</td>\n      <td>Ads</td>\n      <td>Safari</td>\n      <td>M</td>\n      <td>45</td>\n      <td>4.155831e+08</td>\n      <td>0</td>\n      <td>1604</td>\n      <td>50 days 11:31:01</td>\n      <td>1</td>\n      <td>1</td>\n      <td>21</td>\n      <td>30</td>\n      <td>9</td>\n      <td>37</td>\n    </tr>\n  </tbody>\n</table>\n</div>"
     },
     "metadata": {},
     "execution_count": 12
    }
   ],
   "source": [
    "fd['signup_day'] = pd.DataFrame([datetime.strptime(date, '%Y-%m-%d %H:%M:%S').day for date in fd['signup_time']])\n",
    "fd['signup_week'] = pd.DataFrame([datetime.strptime(date, '%Y-%m-%d %H:%M:%S').isocalendar()[1] for date in fd['signup_time']])\n",
    "\n",
    "fd['purchase_day'] = pd.DataFrame([datetime.strptime(date, '%Y-%m-%d %H:%M:%S').day for date in fd['purchase_time']])\n",
    "fd['purchase_week'] = pd.DataFrame([datetime.strptime(date, '%Y-%m-%d %H:%M:%S').isocalendar()[1] for date in fd['purchase_time']])\n",
    "\n",
    "#pd.DataFrame([datetime.strptime(date, '%Y-%m-%d %H:%M:%S') for date in fd['signup_time']])\n",
    "\n",
    "fd.head()"
   ]
  },
  {
   "cell_type": "code",
   "execution_count": 13,
   "metadata": {},
   "outputs": [
    {
     "output_type": "execute_result",
     "data": {
      "text/plain": [
       "   user_id          signup_time        purchase_time  purchase_value  \\\n",
       "0    22058  2015-02-24 22:55:49  2015-04-18 02:47:11              34   \n",
       "1   333320  2015-06-07 20:39:50  2015-06-08 01:38:54              16   \n",
       "2     1359  2015-01-01 18:52:44  2015-01-01 18:52:45              15   \n",
       "3   150084  2015-04-28 21:13:25  2015-05-04 13:54:50              44   \n",
       "4   221365  2015-07-21 07:09:52  2015-09-09 18:40:53              39   \n",
       "\n",
       "       device_id source browser sex  age    ip_address  class  country  \\\n",
       "0  QVPSPJUOCKZAR    SEO  Chrome   M   39  7.327584e+08      0     4554   \n",
       "1  EOGFQPIZPYXFZ    Ads  Chrome   F   53  3.503114e+08      0     1017   \n",
       "2  YSSKYOSJHPPLJ    SEO   Opera   M   53  2.621474e+09      1    43965   \n",
       "3  ATGTXKYKUDUQN    SEO  Safari   M   41  3.840542e+09      0       -1   \n",
       "4  NAUITBZFJKHWW    Ads  Safari   M   45  4.155831e+08      0     1604   \n",
       "\n",
       "         time_diff  device_num  ip_num  signup_day  signup_week  purchase_day  \\\n",
       "0 52 days 03:51:22           1       1          24            9            18   \n",
       "1  0 days 04:59:04           1       1           7           23             8   \n",
       "2  0 days 00:00:01          12      12           1            1             1   \n",
       "3  5 days 16:41:25           1       1          28           18             4   \n",
       "4 50 days 11:31:01           1       1          21           30             9   \n",
       "\n",
       "   purchase_week  time_diff_ms  \n",
       "0             16      13882000  \n",
       "1             24      17944000  \n",
       "2              1          1000  \n",
       "3             19      60085000  \n",
       "4             37      41461000  "
      ],
      "text/html": "<div>\n<style scoped>\n    .dataframe tbody tr th:only-of-type {\n        vertical-align: middle;\n    }\n\n    .dataframe tbody tr th {\n        vertical-align: top;\n    }\n\n    .dataframe thead th {\n        text-align: right;\n    }\n</style>\n<table border=\"1\" class=\"dataframe\">\n  <thead>\n    <tr style=\"text-align: right;\">\n      <th></th>\n      <th>user_id</th>\n      <th>signup_time</th>\n      <th>purchase_time</th>\n      <th>purchase_value</th>\n      <th>device_id</th>\n      <th>source</th>\n      <th>browser</th>\n      <th>sex</th>\n      <th>age</th>\n      <th>ip_address</th>\n      <th>class</th>\n      <th>country</th>\n      <th>time_diff</th>\n      <th>device_num</th>\n      <th>ip_num</th>\n      <th>signup_day</th>\n      <th>signup_week</th>\n      <th>purchase_day</th>\n      <th>purchase_week</th>\n      <th>time_diff_ms</th>\n    </tr>\n  </thead>\n  <tbody>\n    <tr>\n      <th>0</th>\n      <td>22058</td>\n      <td>2015-02-24 22:55:49</td>\n      <td>2015-04-18 02:47:11</td>\n      <td>34</td>\n      <td>QVPSPJUOCKZAR</td>\n      <td>SEO</td>\n      <td>Chrome</td>\n      <td>M</td>\n      <td>39</td>\n      <td>7.327584e+08</td>\n      <td>0</td>\n      <td>4554</td>\n      <td>52 days 03:51:22</td>\n      <td>1</td>\n      <td>1</td>\n      <td>24</td>\n      <td>9</td>\n      <td>18</td>\n      <td>16</td>\n      <td>13882000</td>\n    </tr>\n    <tr>\n      <th>1</th>\n      <td>333320</td>\n      <td>2015-06-07 20:39:50</td>\n      <td>2015-06-08 01:38:54</td>\n      <td>16</td>\n      <td>EOGFQPIZPYXFZ</td>\n      <td>Ads</td>\n      <td>Chrome</td>\n      <td>F</td>\n      <td>53</td>\n      <td>3.503114e+08</td>\n      <td>0</td>\n      <td>1017</td>\n      <td>0 days 04:59:04</td>\n      <td>1</td>\n      <td>1</td>\n      <td>7</td>\n      <td>23</td>\n      <td>8</td>\n      <td>24</td>\n      <td>17944000</td>\n    </tr>\n    <tr>\n      <th>2</th>\n      <td>1359</td>\n      <td>2015-01-01 18:52:44</td>\n      <td>2015-01-01 18:52:45</td>\n      <td>15</td>\n      <td>YSSKYOSJHPPLJ</td>\n      <td>SEO</td>\n      <td>Opera</td>\n      <td>M</td>\n      <td>53</td>\n      <td>2.621474e+09</td>\n      <td>1</td>\n      <td>43965</td>\n      <td>0 days 00:00:01</td>\n      <td>12</td>\n      <td>12</td>\n      <td>1</td>\n      <td>1</td>\n      <td>1</td>\n      <td>1</td>\n      <td>1000</td>\n    </tr>\n    <tr>\n      <th>3</th>\n      <td>150084</td>\n      <td>2015-04-28 21:13:25</td>\n      <td>2015-05-04 13:54:50</td>\n      <td>44</td>\n      <td>ATGTXKYKUDUQN</td>\n      <td>SEO</td>\n      <td>Safari</td>\n      <td>M</td>\n      <td>41</td>\n      <td>3.840542e+09</td>\n      <td>0</td>\n      <td>-1</td>\n      <td>5 days 16:41:25</td>\n      <td>1</td>\n      <td>1</td>\n      <td>28</td>\n      <td>18</td>\n      <td>4</td>\n      <td>19</td>\n      <td>60085000</td>\n    </tr>\n    <tr>\n      <th>4</th>\n      <td>221365</td>\n      <td>2015-07-21 07:09:52</td>\n      <td>2015-09-09 18:40:53</td>\n      <td>39</td>\n      <td>NAUITBZFJKHWW</td>\n      <td>Ads</td>\n      <td>Safari</td>\n      <td>M</td>\n      <td>45</td>\n      <td>4.155831e+08</td>\n      <td>0</td>\n      <td>1604</td>\n      <td>50 days 11:31:01</td>\n      <td>1</td>\n      <td>1</td>\n      <td>21</td>\n      <td>30</td>\n      <td>9</td>\n      <td>37</td>\n      <td>41461000</td>\n    </tr>\n  </tbody>\n</table>\n</div>"
     },
     "metadata": {},
     "execution_count": 13
    }
   ],
   "source": [
    "time_diff_ms = fd.time_diff.apply(lambda time_diff_ms: time_diff_ms.seconds*1000)\n",
    "fd['time_diff_ms'] = time_diff_ms\n",
    "\n",
    "fd.head()"
   ]
  },
  {
   "cell_type": "markdown",
   "metadata": {},
   "source": [
    "### Définir vos variables de travail (X,y)"
   ]
  },
  {
   "cell_type": "code",
   "execution_count": 10,
   "metadata": {},
   "outputs": [
    {
     "data": {
      "text/html": [
       "<div>\n",
       "<style scoped>\n",
       "    .dataframe tbody tr th:only-of-type {\n",
       "        vertical-align: middle;\n",
       "    }\n",
       "\n",
       "    .dataframe tbody tr th {\n",
       "        vertical-align: top;\n",
       "    }\n",
       "\n",
       "    .dataframe thead th {\n",
       "        text-align: right;\n",
       "    }\n",
       "</style>\n",
       "<table border=\"1\" class=\"dataframe\">\n",
       "  <thead>\n",
       "    <tr style=\"text-align: right;\">\n",
       "      <th></th>\n",
       "      <th>signup_day</th>\n",
       "      <th>signup_week</th>\n",
       "      <th>purchase_day</th>\n",
       "      <th>purchase_week</th>\n",
       "      <th>purchase_value</th>\n",
       "      <th>source</th>\n",
       "      <th>browser</th>\n",
       "      <th>sex</th>\n",
       "      <th>age</th>\n",
       "      <th>country</th>\n",
       "      <th>time_diff</th>\n",
       "      <th>device_num</th>\n",
       "      <th>ip_num</th>\n",
       "      <th>class</th>\n",
       "    </tr>\n",
       "  </thead>\n",
       "  <tbody>\n",
       "    <tr>\n",
       "      <th>0</th>\n",
       "      <td>1</td>\n",
       "      <td>9</td>\n",
       "      <td>5</td>\n",
       "      <td>16</td>\n",
       "      <td>34</td>\n",
       "      <td>SEO</td>\n",
       "      <td>Chrome</td>\n",
       "      <td>M</td>\n",
       "      <td>39</td>\n",
       "      <td>Japan</td>\n",
       "      <td>13882</td>\n",
       "      <td>1</td>\n",
       "      <td>1</td>\n",
       "      <td>0</td>\n",
       "    </tr>\n",
       "    <tr>\n",
       "      <th>1</th>\n",
       "      <td>6</td>\n",
       "      <td>23</td>\n",
       "      <td>0</td>\n",
       "      <td>24</td>\n",
       "      <td>16</td>\n",
       "      <td>Ads</td>\n",
       "      <td>Chrome</td>\n",
       "      <td>F</td>\n",
       "      <td>53</td>\n",
       "      <td>United States</td>\n",
       "      <td>17944</td>\n",
       "      <td>1</td>\n",
       "      <td>1</td>\n",
       "      <td>0</td>\n",
       "    </tr>\n",
       "    <tr>\n",
       "      <th>2</th>\n",
       "      <td>3</td>\n",
       "      <td>1</td>\n",
       "      <td>3</td>\n",
       "      <td>1</td>\n",
       "      <td>15</td>\n",
       "      <td>SEO</td>\n",
       "      <td>Opera</td>\n",
       "      <td>M</td>\n",
       "      <td>53</td>\n",
       "      <td>United States</td>\n",
       "      <td>1</td>\n",
       "      <td>12</td>\n",
       "      <td>12</td>\n",
       "      <td>1</td>\n",
       "    </tr>\n",
       "    <tr>\n",
       "      <th>3</th>\n",
       "      <td>1</td>\n",
       "      <td>18</td>\n",
       "      <td>0</td>\n",
       "      <td>19</td>\n",
       "      <td>44</td>\n",
       "      <td>SEO</td>\n",
       "      <td>Safari</td>\n",
       "      <td>M</td>\n",
       "      <td>41</td>\n",
       "      <td>NA</td>\n",
       "      <td>60085</td>\n",
       "      <td>1</td>\n",
       "      <td>1</td>\n",
       "      <td>0</td>\n",
       "    </tr>\n",
       "    <tr>\n",
       "      <th>4</th>\n",
       "      <td>1</td>\n",
       "      <td>30</td>\n",
       "      <td>2</td>\n",
       "      <td>37</td>\n",
       "      <td>39</td>\n",
       "      <td>Ads</td>\n",
       "      <td>Safari</td>\n",
       "      <td>M</td>\n",
       "      <td>45</td>\n",
       "      <td>United States</td>\n",
       "      <td>41461</td>\n",
       "      <td>1</td>\n",
       "      <td>1</td>\n",
       "      <td>0</td>\n",
       "    </tr>\n",
       "  </tbody>\n",
       "</table>\n",
       "</div>"
      ],
      "text/plain": [
       "   signup_day  signup_week  purchase_day  purchase_week  purchase_value  \\\n",
       "0           1            9             5             16              34   \n",
       "1           6           23             0             24              16   \n",
       "2           3            1             3              1              15   \n",
       "3           1           18             0             19              44   \n",
       "4           1           30             2             37              39   \n",
       "\n",
       "  source browser sex  age        country  time_diff  device_num  ip_num  class  \n",
       "0    SEO  Chrome   M   39          Japan      13882           1       1      0  \n",
       "1    Ads  Chrome   F   53  United States      17944           1       1      0  \n",
       "2    SEO   Opera   M   53  United States          1          12      12      1  \n",
       "3    SEO  Safari   M   41             NA      60085           1       1      0  \n",
       "4    Ads  Safari   M   45  United States      41461           1       1      0  "
      ]
     },
     "execution_count": 10,
     "metadata": {},
     "output_type": "execute_result"
    }
   ],
   "source": []
  },
  {
   "cell_type": "code",
   "execution_count": 14,
   "metadata": {},
   "outputs": [
    {
     "output_type": "execute_result",
     "data": {
      "text/plain": [
       "        s_day  s_week  p_day  p_week  p_value  source browser sex  age  \\\n",
       "0          24       9     18      16       34     SEO  Chrome   M   39   \n",
       "1           7      23      8      24       16     Ads  Chrome   F   53   \n",
       "2           1       1      1       1       15     SEO   Opera   M   53   \n",
       "3          28      18      4      19       44     SEO  Safari   M   41   \n",
       "4          21      30      9      37       39     Ads  Safari   M   45   \n",
       "...       ...     ...    ...     ...      ...     ...     ...  ..  ...   \n",
       "151107     27       5     29      13       43     SEO  Chrome   M   28   \n",
       "151108     15      20     26      22       35     SEO  Safari   M   32   \n",
       "151109      3      10     20      21       40     SEO      IE   F   26   \n",
       "151110      9      28      7      37       46     SEO  Chrome   M   37   \n",
       "151111     10      24     21      30       20  Direct      IE   M   38   \n",
       "\n",
       "        country  time_diff  device_num  ip_num  class  \n",
       "0          4554   13882000           1       1      0  \n",
       "1          1017   17944000           1       1      0  \n",
       "2         43965       1000          12      12      1  \n",
       "3            -1   60085000           1       1      0  \n",
       "4          1604   41461000           1       1      0  \n",
       "...         ...        ...         ...     ...    ...  \n",
       "151107   126332   77233000           2       1      1  \n",
       "151108    41568   67270000           1       1      0  \n",
       "151109    46951   28816000           1       1      0  \n",
       "151110   135347   48519000           2       1      0  \n",
       "151111       -1   68493000           1       1      0  \n",
       "\n",
       "[151112 rows x 14 columns]"
      ],
      "text/html": "<div>\n<style scoped>\n    .dataframe tbody tr th:only-of-type {\n        vertical-align: middle;\n    }\n\n    .dataframe tbody tr th {\n        vertical-align: top;\n    }\n\n    .dataframe thead th {\n        text-align: right;\n    }\n</style>\n<table border=\"1\" class=\"dataframe\">\n  <thead>\n    <tr style=\"text-align: right;\">\n      <th></th>\n      <th>s_day</th>\n      <th>s_week</th>\n      <th>p_day</th>\n      <th>p_week</th>\n      <th>p_value</th>\n      <th>source</th>\n      <th>browser</th>\n      <th>sex</th>\n      <th>age</th>\n      <th>country</th>\n      <th>time_diff</th>\n      <th>device_num</th>\n      <th>ip_num</th>\n      <th>class</th>\n    </tr>\n  </thead>\n  <tbody>\n    <tr>\n      <th>0</th>\n      <td>24</td>\n      <td>9</td>\n      <td>18</td>\n      <td>16</td>\n      <td>34</td>\n      <td>SEO</td>\n      <td>Chrome</td>\n      <td>M</td>\n      <td>39</td>\n      <td>4554</td>\n      <td>13882000</td>\n      <td>1</td>\n      <td>1</td>\n      <td>0</td>\n    </tr>\n    <tr>\n      <th>1</th>\n      <td>7</td>\n      <td>23</td>\n      <td>8</td>\n      <td>24</td>\n      <td>16</td>\n      <td>Ads</td>\n      <td>Chrome</td>\n      <td>F</td>\n      <td>53</td>\n      <td>1017</td>\n      <td>17944000</td>\n      <td>1</td>\n      <td>1</td>\n      <td>0</td>\n    </tr>\n    <tr>\n      <th>2</th>\n      <td>1</td>\n      <td>1</td>\n      <td>1</td>\n      <td>1</td>\n      <td>15</td>\n      <td>SEO</td>\n      <td>Opera</td>\n      <td>M</td>\n      <td>53</td>\n      <td>43965</td>\n      <td>1000</td>\n      <td>12</td>\n      <td>12</td>\n      <td>1</td>\n    </tr>\n    <tr>\n      <th>3</th>\n      <td>28</td>\n      <td>18</td>\n      <td>4</td>\n      <td>19</td>\n      <td>44</td>\n      <td>SEO</td>\n      <td>Safari</td>\n      <td>M</td>\n      <td>41</td>\n      <td>-1</td>\n      <td>60085000</td>\n      <td>1</td>\n      <td>1</td>\n      <td>0</td>\n    </tr>\n    <tr>\n      <th>4</th>\n      <td>21</td>\n      <td>30</td>\n      <td>9</td>\n      <td>37</td>\n      <td>39</td>\n      <td>Ads</td>\n      <td>Safari</td>\n      <td>M</td>\n      <td>45</td>\n      <td>1604</td>\n      <td>41461000</td>\n      <td>1</td>\n      <td>1</td>\n      <td>0</td>\n    </tr>\n    <tr>\n      <th>...</th>\n      <td>...</td>\n      <td>...</td>\n      <td>...</td>\n      <td>...</td>\n      <td>...</td>\n      <td>...</td>\n      <td>...</td>\n      <td>...</td>\n      <td>...</td>\n      <td>...</td>\n      <td>...</td>\n      <td>...</td>\n      <td>...</td>\n      <td>...</td>\n    </tr>\n    <tr>\n      <th>151107</th>\n      <td>27</td>\n      <td>5</td>\n      <td>29</td>\n      <td>13</td>\n      <td>43</td>\n      <td>SEO</td>\n      <td>Chrome</td>\n      <td>M</td>\n      <td>28</td>\n      <td>126332</td>\n      <td>77233000</td>\n      <td>2</td>\n      <td>1</td>\n      <td>1</td>\n    </tr>\n    <tr>\n      <th>151108</th>\n      <td>15</td>\n      <td>20</td>\n      <td>26</td>\n      <td>22</td>\n      <td>35</td>\n      <td>SEO</td>\n      <td>Safari</td>\n      <td>M</td>\n      <td>32</td>\n      <td>41568</td>\n      <td>67270000</td>\n      <td>1</td>\n      <td>1</td>\n      <td>0</td>\n    </tr>\n    <tr>\n      <th>151109</th>\n      <td>3</td>\n      <td>10</td>\n      <td>20</td>\n      <td>21</td>\n      <td>40</td>\n      <td>SEO</td>\n      <td>IE</td>\n      <td>F</td>\n      <td>26</td>\n      <td>46951</td>\n      <td>28816000</td>\n      <td>1</td>\n      <td>1</td>\n      <td>0</td>\n    </tr>\n    <tr>\n      <th>151110</th>\n      <td>9</td>\n      <td>28</td>\n      <td>7</td>\n      <td>37</td>\n      <td>46</td>\n      <td>SEO</td>\n      <td>Chrome</td>\n      <td>M</td>\n      <td>37</td>\n      <td>135347</td>\n      <td>48519000</td>\n      <td>2</td>\n      <td>1</td>\n      <td>0</td>\n    </tr>\n    <tr>\n      <th>151111</th>\n      <td>10</td>\n      <td>24</td>\n      <td>21</td>\n      <td>30</td>\n      <td>20</td>\n      <td>Direct</td>\n      <td>IE</td>\n      <td>M</td>\n      <td>38</td>\n      <td>-1</td>\n      <td>68493000</td>\n      <td>1</td>\n      <td>1</td>\n      <td>0</td>\n    </tr>\n  </tbody>\n</table>\n<p>151112 rows × 14 columns</p>\n</div>"
     },
     "metadata": {},
     "execution_count": 14
    }
   ],
   "source": [
    "data = [fd['signup_day'], fd['signup_week'], fd['purchase_day'], fd['purchase_week'], fd['purchase_value'], fd['source'], fd['browser'], fd['sex'], fd['age'], fd['country'], fd['time_diff_ms'], fd['device_num'], fd['ip_num'], fd['class']]\n",
    "headers = [\"s_day\",'s_week', 'p_day', 'p_week','p_value','source','browser','sex','age','country','time_diff','device_num','ip_num','class']\n",
    "\n",
    "df0 = pd.concat(data, axis=1, keys=headers)\n",
    "df0"
   ]
  },
  {
   "cell_type": "code",
   "execution_count": 15,
   "metadata": {},
   "outputs": [
    {
     "output_type": "stream",
     "name": "stdout",
     "text": [
      "<class 'pandas.core.frame.DataFrame'>\nInt64Index: 151112 entries, 0 to 151111\nData columns (total 14 columns):\n #   Column      Non-Null Count   Dtype \n---  ------      --------------   ----- \n 0   s_day       151112 non-null  int64 \n 1   s_week      151112 non-null  int64 \n 2   p_day       151112 non-null  int64 \n 3   p_week      151112 non-null  int64 \n 4   p_value     151112 non-null  int64 \n 5   source      151112 non-null  object\n 6   browser     151112 non-null  object\n 7   sex         151112 non-null  object\n 8   age         151112 non-null  int64 \n 9   country     151112 non-null  int64 \n 10  time_diff   151112 non-null  int64 \n 11  device_num  151112 non-null  int64 \n 12  ip_num      151112 non-null  int64 \n 13  class       151112 non-null  int64 \ndtypes: int64(11), object(3)\nmemory usage: 17.3+ MB\n"
     ]
    }
   ],
   "source": [
    "df0.info()"
   ]
  },
  {
   "cell_type": "markdown",
   "metadata": {},
   "source": [
    "### Afficher les informations du dataset afin de vizualiser les variables numeriques et categoriques"
   ]
  },
  {
   "cell_type": "code",
   "execution_count": 11,
   "metadata": {},
   "outputs": [
    {
     "name": "stdout",
     "output_type": "stream",
     "text": [
      "<class 'pandas.core.frame.DataFrame'>\n",
      "Int64Index: 151112 entries, 0 to 151111\n",
      "Data columns (total 14 columns):\n",
      "signup_day        151112 non-null int64\n",
      "signup_week       151112 non-null int64\n",
      "purchase_day      151112 non-null int64\n",
      "purchase_week     151112 non-null int64\n",
      "purchase_value    151112 non-null int64\n",
      "source            151112 non-null object\n",
      "browser           151112 non-null object\n",
      "sex               151112 non-null object\n",
      "age               151112 non-null int64\n",
      "country           151112 non-null object\n",
      "time_diff         151112 non-null int64\n",
      "device_num        151112 non-null int64\n",
      "ip_num            151112 non-null int64\n",
      "class             151112 non-null int64\n",
      "dtypes: int64(10), object(4)\n",
      "memory usage: 17.3+ MB\n"
     ]
    }
   ],
   "source": []
  },
  {
   "cell_type": "code",
   "execution_count": 16,
   "metadata": {},
   "outputs": [
    {
     "output_type": "execute_result",
     "data": {
      "text/plain": [
       "0    0\n",
       "1    0\n",
       "2    1\n",
       "3    0\n",
       "4    0\n",
       "Name: class, dtype: int64"
      ]
     },
     "metadata": {},
     "execution_count": 16
    }
   ],
   "source": [
    "y = fd['class']\n",
    "y.head()"
   ]
  },
  {
   "cell_type": "markdown",
   "metadata": {},
   "source": [
    "### Traiter les variables catégoriques"
   ]
  },
  {
   "cell_type": "code",
   "execution_count": 17,
   "metadata": {},
   "outputs": [
    {
     "output_type": "execute_result",
     "data": {
      "text/plain": [
       "   s_day  s_week  p_day  p_week  p_value  source  browser  sex  age  country  \\\n",
       "0     24       9     18      16       34       2        0    1   39     1345   \n",
       "1      7      23      8      24       16       0        0    0   53      344   \n",
       "2      1       1      1       1       15       2        3    1   53    13905   \n",
       "3     28      18      4      19       44       2        4    1   41        0   \n",
       "4     21      30      9      37       39       0        4    1   45      582   \n",
       "\n",
       "   time_diff  device_num  ip_num  class  \n",
       "0   13882000           1       1      0  \n",
       "1   17944000           1       1      0  \n",
       "2       1000          12      12      1  \n",
       "3   60085000           1       1      0  \n",
       "4   41461000           1       1      0  "
      ],
      "text/html": "<div>\n<style scoped>\n    .dataframe tbody tr th:only-of-type {\n        vertical-align: middle;\n    }\n\n    .dataframe tbody tr th {\n        vertical-align: top;\n    }\n\n    .dataframe thead th {\n        text-align: right;\n    }\n</style>\n<table border=\"1\" class=\"dataframe\">\n  <thead>\n    <tr style=\"text-align: right;\">\n      <th></th>\n      <th>s_day</th>\n      <th>s_week</th>\n      <th>p_day</th>\n      <th>p_week</th>\n      <th>p_value</th>\n      <th>source</th>\n      <th>browser</th>\n      <th>sex</th>\n      <th>age</th>\n      <th>country</th>\n      <th>time_diff</th>\n      <th>device_num</th>\n      <th>ip_num</th>\n      <th>class</th>\n    </tr>\n  </thead>\n  <tbody>\n    <tr>\n      <th>0</th>\n      <td>24</td>\n      <td>9</td>\n      <td>18</td>\n      <td>16</td>\n      <td>34</td>\n      <td>2</td>\n      <td>0</td>\n      <td>1</td>\n      <td>39</td>\n      <td>1345</td>\n      <td>13882000</td>\n      <td>1</td>\n      <td>1</td>\n      <td>0</td>\n    </tr>\n    <tr>\n      <th>1</th>\n      <td>7</td>\n      <td>23</td>\n      <td>8</td>\n      <td>24</td>\n      <td>16</td>\n      <td>0</td>\n      <td>0</td>\n      <td>0</td>\n      <td>53</td>\n      <td>344</td>\n      <td>17944000</td>\n      <td>1</td>\n      <td>1</td>\n      <td>0</td>\n    </tr>\n    <tr>\n      <th>2</th>\n      <td>1</td>\n      <td>1</td>\n      <td>1</td>\n      <td>1</td>\n      <td>15</td>\n      <td>2</td>\n      <td>3</td>\n      <td>1</td>\n      <td>53</td>\n      <td>13905</td>\n      <td>1000</td>\n      <td>12</td>\n      <td>12</td>\n      <td>1</td>\n    </tr>\n    <tr>\n      <th>3</th>\n      <td>28</td>\n      <td>18</td>\n      <td>4</td>\n      <td>19</td>\n      <td>44</td>\n      <td>2</td>\n      <td>4</td>\n      <td>1</td>\n      <td>41</td>\n      <td>0</td>\n      <td>60085000</td>\n      <td>1</td>\n      <td>1</td>\n      <td>0</td>\n    </tr>\n    <tr>\n      <th>4</th>\n      <td>21</td>\n      <td>30</td>\n      <td>9</td>\n      <td>37</td>\n      <td>39</td>\n      <td>0</td>\n      <td>4</td>\n      <td>1</td>\n      <td>45</td>\n      <td>582</td>\n      <td>41461000</td>\n      <td>1</td>\n      <td>1</td>\n      <td>0</td>\n    </tr>\n  </tbody>\n</table>\n</div>"
     },
     "metadata": {},
     "execution_count": 17
    }
   ],
   "source": [
    "from sklearn import preprocessing\n",
    "lb = preprocessing.LabelEncoder()\n",
    "df0['source'] = lb.fit_transform(df0['source'])\n",
    "df0['browser'] = lb.fit_transform(df0['browser'])\n",
    "df0['sex'] = lb.fit_transform(df0['sex'])\n",
    "df0['country'] = lb.fit_transform(df0['country'])\n",
    "\n",
    "df0.head()"
   ]
  },
  {
   "cell_type": "markdown",
   "metadata": {},
   "source": [
    "### Spliter vos variables "
   ]
  },
  {
   "cell_type": "code",
   "execution_count": 18,
   "metadata": {},
   "outputs": [],
   "source": [
    "from sklearn.model_selection import train_test_split\n",
    "X_train, X_test, y_train, y_test = train_test_split(df0,y)"
   ]
  },
  {
   "cell_type": "markdown",
   "metadata": {},
   "source": [
    "### Instancier un `RandomForestClassifier` et l'entrainer sur vos données "
   ]
  },
  {
   "source": [
    "from sklearn.ensemble import RandomForestClassifier\n",
    "clf_forest = RandomForestClassifier(n_estimators=20, criterion='entropy', max_depth=50, min_samples_leaf=3, min_samples_split=3, oob_score=True)\n",
    "clf_forest.fit(X_train, y_train)\n",
    "\n",
    "clf_forest"
   ],
   "cell_type": "code",
   "metadata": {},
   "execution_count": 19,
   "outputs": [
    {
     "output_type": "execute_result",
     "data": {
      "text/plain": [
       "RandomForestClassifier(criterion='entropy', max_depth=50, min_samples_leaf=3,\n",
       "                       min_samples_split=3, n_estimators=20, oob_score=True)"
      ]
     },
     "metadata": {},
     "execution_count": 19
    }
   ]
  },
  {
   "cell_type": "code",
   "execution_count": 56,
   "metadata": {},
   "outputs": [
    {
     "output_type": "stream",
     "name": "stdout",
     "text": [
      "Accuracy moyenne pour 5 fold cross validation : 100.0\n"
     ]
    }
   ],
   "source": [
    "from sklearn.model_selection import cross_val_score, cross_val_predict\n",
    "scores = cross_val_score(clf_forest, X_train, y_train, scoring='accuracy').mean()\n",
    "print(\"Accuracy moyenne pour 5 fold cross validation : {}\".format(round(scores*100,2)))\n"
   ]
  },
  {
   "cell_type": "markdown",
   "metadata": {},
   "source": [
    "### Afficher l'accuracy moyenne pour 10 'fold cross validation'"
   ]
  },
  {
   "cell_type": "code",
   "execution_count": 21,
   "metadata": {},
   "outputs": [
    {
     "output_type": "stream",
     "name": "stdout",
     "text": [
      "              precision    recall  f1-score   support\n\n           0       1.00      1.00      1.00     34284\n           1       1.00      1.00      1.00      3494\n\n    accuracy                           1.00     37778\n   macro avg       1.00      1.00      1.00     37778\nweighted avg       1.00      1.00      1.00     37778\n\n"
     ]
    }
   ],
   "source": [
    "from sklearn.metrics import classification_report\n",
    "preds = clf_forest.predict(X_test)\n",
    "print(classification_report(y_test, preds))"
   ]
  },
  {
   "cell_type": "markdown",
   "metadata": {},
   "source": [
    "### Afficher les `feature_importances_`"
   ]
  },
  {
   "cell_type": "code",
   "execution_count": 26,
   "metadata": {},
   "outputs": [
    {
     "output_type": "execute_result",
     "data": {
      "text/plain": [
       "array([3.13845906e-03, 3.20506122e-02, 1.26001608e-03, 7.92146246e-02,\n",
       "       7.78813875e-04, 3.14156152e-04, 2.74669941e-04, 1.50451816e-04,\n",
       "       7.10750347e-04, 1.07459610e-03, 1.32150971e-01, 5.32473657e-02,\n",
       "       6.33963348e-02, 6.32238178e-01])"
      ]
     },
     "metadata": {},
     "execution_count": 26
    }
   ],
   "source": [
    "importances = clf_forest.feature_importances_\n",
    "importances"
   ]
  },
  {
   "cell_type": "code",
   "execution_count": 62,
   "metadata": {},
   "outputs": [
    {
     "output_type": "execute_result",
     "data": {
      "text/plain": [
       "class         0.632238\n",
       "time_diff     0.132151\n",
       "p_week        0.079215\n",
       "ip_num        0.063396\n",
       "device_num    0.053247\n",
       "s_week        0.032051\n",
       "s_day         0.003138\n",
       "p_day         0.001260\n",
       "country       0.001075\n",
       "p_value       0.000779\n",
       "age           0.000711\n",
       "source        0.000314\n",
       "browser       0.000275\n",
       "sex           0.000150\n",
       "dtype: float64"
      ]
     },
     "metadata": {},
     "execution_count": 62
    }
   ],
   "source": [
    "feature_imp = pd.Series(clf_forest.feature_importances_,index=df0.columns.tolist()).sort_values(ascending=False)\n",
    "feature_imp"
   ]
  },
  {
   "cell_type": "code",
   "execution_count": 17,
   "metadata": {},
   "outputs": [
    {
     "data": {
      "text/plain": [
       "time_diff         0.274568\n",
       "purchase_week     0.145555\n",
       "ip_num            0.137471\n",
       "device_num        0.089743\n",
       "signup_week       0.084465\n",
       "purchase_value    0.064497\n",
       "age               0.054936\n",
       "country           0.040763\n",
       "signup_day        0.033725\n",
       "purchase_day      0.029160\n",
       "browser           0.021741\n",
       "source            0.013733\n",
       "sex               0.009643\n",
       "dtype: float64"
      ]
     },
     "execution_count": 17,
     "metadata": {},
     "output_type": "execute_result"
    }
   ],
   "source": []
  },
  {
   "cell_type": "markdown",
   "metadata": {},
   "source": [
    "### Vizualiser les sur un graphique "
   ]
  },
  {
   "cell_type": "code",
   "execution_count": 33,
   "metadata": {},
   "outputs": [
    {
     "output_type": "execute_result",
     "data": {
      "text/plain": [
       "<AxesSubplot:>"
      ]
     },
     "metadata": {},
     "execution_count": 33
    },
    {
     "output_type": "display_data",
     "data": {
      "text/plain": "<Figure size 720x720 with 1 Axes>",
      "image/svg+xml": "<?xml version=\"1.0\" encoding=\"utf-8\" standalone=\"no\"?>\r\n<!DOCTYPE svg PUBLIC \"-//W3C//DTD SVG 1.1//EN\"\r\n  \"http://www.w3.org/Graphics/SVG/1.1/DTD/svg11.dtd\">\r\n<!-- Created with matplotlib (https://matplotlib.org/) -->\r\n<svg height=\"574.678125pt\" version=\"1.1\" viewBox=\"0 0 639.665625 574.678125\" width=\"639.665625pt\" xmlns=\"http://www.w3.org/2000/svg\" xmlns:xlink=\"http://www.w3.org/1999/xlink\">\r\n <metadata>\r\n  <rdf:RDF xmlns:cc=\"http://creativecommons.org/ns#\" xmlns:dc=\"http://purl.org/dc/elements/1.1/\" xmlns:rdf=\"http://www.w3.org/1999/02/22-rdf-syntax-ns#\">\r\n   <cc:Work>\r\n    <dc:type rdf:resource=\"http://purl.org/dc/dcmitype/StillImage\"/>\r\n    <dc:date>2021-04-15T09:59:15.458809</dc:date>\r\n    <dc:format>image/svg+xml</dc:format>\r\n    <dc:creator>\r\n     <cc:Agent>\r\n      <dc:title>Matplotlib v3.3.3, https://matplotlib.org/</dc:title>\r\n     </cc:Agent>\r\n    </dc:creator>\r\n   </cc:Work>\r\n  </rdf:RDF>\r\n </metadata>\r\n <defs>\r\n  <style type=\"text/css\">*{stroke-linecap:butt;stroke-linejoin:round;}</style>\r\n </defs>\r\n <g id=\"figure_1\">\r\n  <g id=\"patch_1\">\r\n   <path d=\"M -0 574.678125 \r\nL 639.665625 574.678125 \r\nL 639.665625 0 \r\nL -0 0 \r\nz\r\n\" style=\"fill:none;\"/>\r\n  </g>\r\n  <g id=\"axes_1\">\r\n   <g id=\"patch_2\">\r\n    <path d=\"M 74.465625 550.8 \r\nL 632.465625 550.8 \r\nL 632.465625 7.2 \r\nL 74.465625 7.2 \r\nz\r\n\" style=\"fill:#ffffff;\"/>\r\n   </g>\r\n   <g id=\"patch_3\">\r\n    <path clip-path=\"url(#p43cbedf912)\" d=\"M 74.465625 541.092857 \r\nL 605.894196 541.092857 \r\nL 605.894196 521.678571 \r\nL 74.465625 521.678571 \r\nz\r\n\" style=\"fill:#1f77b4;\"/>\r\n   </g>\r\n   <g id=\"patch_4\">\r\n    <path clip-path=\"url(#p43cbedf912)\" d=\"M 74.465625 502.264286 \r\nL 185.545285 502.264286 \r\nL 185.545285 482.85 \r\nL 74.465625 482.85 \r\nz\r\n\" style=\"fill:#1f77b4;\"/>\r\n   </g>\r\n   <g id=\"patch_5\">\r\n    <path clip-path=\"url(#p43cbedf912)\" d=\"M 74.465625 463.435714 \r\nL 141.049574 463.435714 \r\nL 141.049574 444.021429 \r\nL 74.465625 444.021429 \r\nz\r\n\" style=\"fill:#1f77b4;\"/>\r\n   </g>\r\n   <g id=\"patch_6\">\r\n    <path clip-path=\"url(#p43cbedf912)\" d=\"M 74.465625 424.607143 \r\nL 127.753491 424.607143 \r\nL 127.753491 405.192857 \r\nL 74.465625 405.192857 \r\nz\r\n\" style=\"fill:#1f77b4;\"/>\r\n   </g>\r\n   <g id=\"patch_7\">\r\n    <path clip-path=\"url(#p43cbedf912)\" d=\"M 74.465625 385.778571 \r\nL 119.222763 385.778571 \r\nL 119.222763 366.364286 \r\nL 74.465625 366.364286 \r\nz\r\n\" style=\"fill:#1f77b4;\"/>\r\n   </g>\r\n   <g id=\"patch_8\">\r\n    <path clip-path=\"url(#p43cbedf912)\" d=\"M 74.465625 346.95 \r\nL 101.405806 346.95 \r\nL 101.405806 327.535714 \r\nL 74.465625 327.535714 \r\nz\r\n\" style=\"fill:#1f77b4;\"/>\r\n   </g>\r\n   <g id=\"patch_9\">\r\n    <path clip-path=\"url(#p43cbedf912)\" d=\"M 74.465625 308.121429 \r\nL 77.103661 308.121429 \r\nL 77.103661 288.707143 \r\nL 74.465625 288.707143 \r\nz\r\n\" style=\"fill:#1f77b4;\"/>\r\n   </g>\r\n   <g id=\"patch_10\">\r\n    <path clip-path=\"url(#p43cbedf912)\" d=\"M 74.465625 269.292857 \r\nL 75.524733 269.292857 \r\nL 75.524733 249.878571 \r\nL 74.465625 249.878571 \r\nz\r\n\" style=\"fill:#1f77b4;\"/>\r\n   </g>\r\n   <g id=\"patch_11\">\r\n    <path clip-path=\"url(#p43cbedf912)\" d=\"M 74.465625 230.464286 \r\nL 75.368878 230.464286 \r\nL 75.368878 211.05 \r\nL 74.465625 211.05 \r\nz\r\n\" style=\"fill:#1f77b4;\"/>\r\n   </g>\r\n   <g id=\"patch_12\">\r\n    <path clip-path=\"url(#p43cbedf912)\" d=\"M 74.465625 191.635714 \r\nL 75.120258 191.635714 \r\nL 75.120258 172.221429 \r\nL 74.465625 172.221429 \r\nz\r\n\" style=\"fill:#1f77b4;\"/>\r\n   </g>\r\n   <g id=\"patch_13\">\r\n    <path clip-path=\"url(#p43cbedf912)\" d=\"M 74.465625 152.807143 \r\nL 75.063047 152.807143 \r\nL 75.063047 133.392857 \r\nL 74.465625 133.392857 \r\nz\r\n\" style=\"fill:#1f77b4;\"/>\r\n   </g>\r\n   <g id=\"patch_14\">\r\n    <path clip-path=\"url(#p43cbedf912)\" d=\"M 74.465625 113.978571 \r\nL 74.729689 113.978571 \r\nL 74.729689 94.564286 \r\nL 74.465625 94.564286 \r\nz\r\n\" style=\"fill:#1f77b4;\"/>\r\n   </g>\r\n   <g id=\"patch_15\">\r\n    <path clip-path=\"url(#p43cbedf912)\" d=\"M 74.465625 75.15 \r\nL 74.696499 75.15 \r\nL 74.696499 55.735714 \r\nL 74.465625 55.735714 \r\nz\r\n\" style=\"fill:#1f77b4;\"/>\r\n   </g>\r\n   <g id=\"patch_16\">\r\n    <path clip-path=\"url(#p43cbedf912)\" d=\"M 74.465625 36.321429 \r\nL 74.592087 36.321429 \r\nL 74.592087 16.907143 \r\nL 74.465625 16.907143 \r\nz\r\n\" style=\"fill:#1f77b4;\"/>\r\n   </g>\r\n   <g id=\"matplotlib.axis_1\">\r\n    <g id=\"xtick_1\">\r\n     <g id=\"line2d_1\">\r\n      <defs>\r\n       <path d=\"M 0 0 \r\nL 0 3.5 \r\n\" id=\"m09813f6d36\" style=\"stroke:#000000;stroke-width:0.8;\"/>\r\n      </defs>\r\n      <g>\r\n       <use style=\"stroke:#000000;stroke-width:0.8;\" x=\"74.465625\" xlink:href=\"#m09813f6d36\" y=\"550.8\"/>\r\n      </g>\r\n     </g>\r\n     <g id=\"text_1\">\r\n      <!-- 0.0 -->\r\n      <g transform=\"translate(66.514063 565.398438)scale(0.1 -0.1)\">\r\n       <defs>\r\n        <path d=\"M 31.78125 66.40625 \r\nQ 24.171875 66.40625 20.328125 58.90625 \r\nQ 16.5 51.421875 16.5 36.375 \r\nQ 16.5 21.390625 20.328125 13.890625 \r\nQ 24.171875 6.390625 31.78125 6.390625 \r\nQ 39.453125 6.390625 43.28125 13.890625 \r\nQ 47.125 21.390625 47.125 36.375 \r\nQ 47.125 51.421875 43.28125 58.90625 \r\nQ 39.453125 66.40625 31.78125 66.40625 \r\nz\r\nM 31.78125 74.21875 \r\nQ 44.046875 74.21875 50.515625 64.515625 \r\nQ 56.984375 54.828125 56.984375 36.375 \r\nQ 56.984375 17.96875 50.515625 8.265625 \r\nQ 44.046875 -1.421875 31.78125 -1.421875 \r\nQ 19.53125 -1.421875 13.0625 8.265625 \r\nQ 6.59375 17.96875 6.59375 36.375 \r\nQ 6.59375 54.828125 13.0625 64.515625 \r\nQ 19.53125 74.21875 31.78125 74.21875 \r\nz\r\n\" id=\"DejaVuSans-48\"/>\r\n        <path d=\"M 10.6875 12.40625 \r\nL 21 12.40625 \r\nL 21 0 \r\nL 10.6875 0 \r\nz\r\n\" id=\"DejaVuSans-46\"/>\r\n       </defs>\r\n       <use xlink:href=\"#DejaVuSans-48\"/>\r\n       <use x=\"63.623047\" xlink:href=\"#DejaVuSans-46\"/>\r\n       <use x=\"95.410156\" xlink:href=\"#DejaVuSans-48\"/>\r\n      </g>\r\n     </g>\r\n    </g>\r\n    <g id=\"xtick_2\">\r\n     <g id=\"line2d_2\">\r\n      <g>\r\n       <use style=\"stroke:#000000;stroke-width:0.8;\" x=\"158.520747\" xlink:href=\"#m09813f6d36\" y=\"550.8\"/>\r\n      </g>\r\n     </g>\r\n     <g id=\"text_2\">\r\n      <!-- 0.1 -->\r\n      <g transform=\"translate(150.569184 565.398438)scale(0.1 -0.1)\">\r\n       <defs>\r\n        <path d=\"M 12.40625 8.296875 \r\nL 28.515625 8.296875 \r\nL 28.515625 63.921875 \r\nL 10.984375 60.40625 \r\nL 10.984375 69.390625 \r\nL 28.421875 72.90625 \r\nL 38.28125 72.90625 \r\nL 38.28125 8.296875 \r\nL 54.390625 8.296875 \r\nL 54.390625 0 \r\nL 12.40625 0 \r\nz\r\n\" id=\"DejaVuSans-49\"/>\r\n       </defs>\r\n       <use xlink:href=\"#DejaVuSans-48\"/>\r\n       <use x=\"63.623047\" xlink:href=\"#DejaVuSans-46\"/>\r\n       <use x=\"95.410156\" xlink:href=\"#DejaVuSans-49\"/>\r\n      </g>\r\n     </g>\r\n    </g>\r\n    <g id=\"xtick_3\">\r\n     <g id=\"line2d_3\">\r\n      <g>\r\n       <use style=\"stroke:#000000;stroke-width:0.8;\" x=\"242.575869\" xlink:href=\"#m09813f6d36\" y=\"550.8\"/>\r\n      </g>\r\n     </g>\r\n     <g id=\"text_3\">\r\n      <!-- 0.2 -->\r\n      <g transform=\"translate(234.624306 565.398438)scale(0.1 -0.1)\">\r\n       <defs>\r\n        <path d=\"M 19.1875 8.296875 \r\nL 53.609375 8.296875 \r\nL 53.609375 0 \r\nL 7.328125 0 \r\nL 7.328125 8.296875 \r\nQ 12.9375 14.109375 22.625 23.890625 \r\nQ 32.328125 33.6875 34.8125 36.53125 \r\nQ 39.546875 41.84375 41.421875 45.53125 \r\nQ 43.3125 49.21875 43.3125 52.78125 \r\nQ 43.3125 58.59375 39.234375 62.25 \r\nQ 35.15625 65.921875 28.609375 65.921875 \r\nQ 23.96875 65.921875 18.8125 64.3125 \r\nQ 13.671875 62.703125 7.8125 59.421875 \r\nL 7.8125 69.390625 \r\nQ 13.765625 71.78125 18.9375 73 \r\nQ 24.125 74.21875 28.421875 74.21875 \r\nQ 39.75 74.21875 46.484375 68.546875 \r\nQ 53.21875 62.890625 53.21875 53.421875 \r\nQ 53.21875 48.921875 51.53125 44.890625 \r\nQ 49.859375 40.875 45.40625 35.40625 \r\nQ 44.1875 33.984375 37.640625 27.21875 \r\nQ 31.109375 20.453125 19.1875 8.296875 \r\nz\r\n\" id=\"DejaVuSans-50\"/>\r\n       </defs>\r\n       <use xlink:href=\"#DejaVuSans-48\"/>\r\n       <use x=\"63.623047\" xlink:href=\"#DejaVuSans-46\"/>\r\n       <use x=\"95.410156\" xlink:href=\"#DejaVuSans-50\"/>\r\n      </g>\r\n     </g>\r\n    </g>\r\n    <g id=\"xtick_4\">\r\n     <g id=\"line2d_4\">\r\n      <g>\r\n       <use style=\"stroke:#000000;stroke-width:0.8;\" x=\"326.630991\" xlink:href=\"#m09813f6d36\" y=\"550.8\"/>\r\n      </g>\r\n     </g>\r\n     <g id=\"text_4\">\r\n      <!-- 0.3 -->\r\n      <g transform=\"translate(318.679428 565.398438)scale(0.1 -0.1)\">\r\n       <defs>\r\n        <path d=\"M 40.578125 39.3125 \r\nQ 47.65625 37.796875 51.625 33 \r\nQ 55.609375 28.21875 55.609375 21.1875 \r\nQ 55.609375 10.40625 48.1875 4.484375 \r\nQ 40.765625 -1.421875 27.09375 -1.421875 \r\nQ 22.515625 -1.421875 17.65625 -0.515625 \r\nQ 12.796875 0.390625 7.625 2.203125 \r\nL 7.625 11.71875 \r\nQ 11.71875 9.328125 16.59375 8.109375 \r\nQ 21.484375 6.890625 26.8125 6.890625 \r\nQ 36.078125 6.890625 40.9375 10.546875 \r\nQ 45.796875 14.203125 45.796875 21.1875 \r\nQ 45.796875 27.640625 41.28125 31.265625 \r\nQ 36.765625 34.90625 28.71875 34.90625 \r\nL 20.21875 34.90625 \r\nL 20.21875 43.015625 \r\nL 29.109375 43.015625 \r\nQ 36.375 43.015625 40.234375 45.921875 \r\nQ 44.09375 48.828125 44.09375 54.296875 \r\nQ 44.09375 59.90625 40.109375 62.90625 \r\nQ 36.140625 65.921875 28.71875 65.921875 \r\nQ 24.65625 65.921875 20.015625 65.03125 \r\nQ 15.375 64.15625 9.8125 62.3125 \r\nL 9.8125 71.09375 \r\nQ 15.4375 72.65625 20.34375 73.4375 \r\nQ 25.25 74.21875 29.59375 74.21875 \r\nQ 40.828125 74.21875 47.359375 69.109375 \r\nQ 53.90625 64.015625 53.90625 55.328125 \r\nQ 53.90625 49.265625 50.4375 45.09375 \r\nQ 46.96875 40.921875 40.578125 39.3125 \r\nz\r\n\" id=\"DejaVuSans-51\"/>\r\n       </defs>\r\n       <use xlink:href=\"#DejaVuSans-48\"/>\r\n       <use x=\"63.623047\" xlink:href=\"#DejaVuSans-46\"/>\r\n       <use x=\"95.410156\" xlink:href=\"#DejaVuSans-51\"/>\r\n      </g>\r\n     </g>\r\n    </g>\r\n    <g id=\"xtick_5\">\r\n     <g id=\"line2d_5\">\r\n      <g>\r\n       <use style=\"stroke:#000000;stroke-width:0.8;\" x=\"410.686113\" xlink:href=\"#m09813f6d36\" y=\"550.8\"/>\r\n      </g>\r\n     </g>\r\n     <g id=\"text_5\">\r\n      <!-- 0.4 -->\r\n      <g transform=\"translate(402.73455 565.398438)scale(0.1 -0.1)\">\r\n       <defs>\r\n        <path d=\"M 37.796875 64.3125 \r\nL 12.890625 25.390625 \r\nL 37.796875 25.390625 \r\nz\r\nM 35.203125 72.90625 \r\nL 47.609375 72.90625 \r\nL 47.609375 25.390625 \r\nL 58.015625 25.390625 \r\nL 58.015625 17.1875 \r\nL 47.609375 17.1875 \r\nL 47.609375 0 \r\nL 37.796875 0 \r\nL 37.796875 17.1875 \r\nL 4.890625 17.1875 \r\nL 4.890625 26.703125 \r\nz\r\n\" id=\"DejaVuSans-52\"/>\r\n       </defs>\r\n       <use xlink:href=\"#DejaVuSans-48\"/>\r\n       <use x=\"63.623047\" xlink:href=\"#DejaVuSans-46\"/>\r\n       <use x=\"95.410156\" xlink:href=\"#DejaVuSans-52\"/>\r\n      </g>\r\n     </g>\r\n    </g>\r\n    <g id=\"xtick_6\">\r\n     <g id=\"line2d_6\">\r\n      <g>\r\n       <use style=\"stroke:#000000;stroke-width:0.8;\" x=\"494.741234\" xlink:href=\"#m09813f6d36\" y=\"550.8\"/>\r\n      </g>\r\n     </g>\r\n     <g id=\"text_6\">\r\n      <!-- 0.5 -->\r\n      <g transform=\"translate(486.789672 565.398438)scale(0.1 -0.1)\">\r\n       <defs>\r\n        <path d=\"M 10.796875 72.90625 \r\nL 49.515625 72.90625 \r\nL 49.515625 64.59375 \r\nL 19.828125 64.59375 \r\nL 19.828125 46.734375 \r\nQ 21.96875 47.46875 24.109375 47.828125 \r\nQ 26.265625 48.1875 28.421875 48.1875 \r\nQ 40.625 48.1875 47.75 41.5 \r\nQ 54.890625 34.8125 54.890625 23.390625 \r\nQ 54.890625 11.625 47.5625 5.09375 \r\nQ 40.234375 -1.421875 26.90625 -1.421875 \r\nQ 22.3125 -1.421875 17.546875 -0.640625 \r\nQ 12.796875 0.140625 7.71875 1.703125 \r\nL 7.71875 11.625 \r\nQ 12.109375 9.234375 16.796875 8.0625 \r\nQ 21.484375 6.890625 26.703125 6.890625 \r\nQ 35.15625 6.890625 40.078125 11.328125 \r\nQ 45.015625 15.765625 45.015625 23.390625 \r\nQ 45.015625 31 40.078125 35.4375 \r\nQ 35.15625 39.890625 26.703125 39.890625 \r\nQ 22.75 39.890625 18.8125 39.015625 \r\nQ 14.890625 38.140625 10.796875 36.28125 \r\nz\r\n\" id=\"DejaVuSans-53\"/>\r\n       </defs>\r\n       <use xlink:href=\"#DejaVuSans-48\"/>\r\n       <use x=\"63.623047\" xlink:href=\"#DejaVuSans-46\"/>\r\n       <use x=\"95.410156\" xlink:href=\"#DejaVuSans-53\"/>\r\n      </g>\r\n     </g>\r\n    </g>\r\n    <g id=\"xtick_7\">\r\n     <g id=\"line2d_7\">\r\n      <g>\r\n       <use style=\"stroke:#000000;stroke-width:0.8;\" x=\"578.796356\" xlink:href=\"#m09813f6d36\" y=\"550.8\"/>\r\n      </g>\r\n     </g>\r\n     <g id=\"text_7\">\r\n      <!-- 0.6 -->\r\n      <g transform=\"translate(570.844794 565.398438)scale(0.1 -0.1)\">\r\n       <defs>\r\n        <path d=\"M 33.015625 40.375 \r\nQ 26.375 40.375 22.484375 35.828125 \r\nQ 18.609375 31.296875 18.609375 23.390625 \r\nQ 18.609375 15.53125 22.484375 10.953125 \r\nQ 26.375 6.390625 33.015625 6.390625 \r\nQ 39.65625 6.390625 43.53125 10.953125 \r\nQ 47.40625 15.53125 47.40625 23.390625 \r\nQ 47.40625 31.296875 43.53125 35.828125 \r\nQ 39.65625 40.375 33.015625 40.375 \r\nz\r\nM 52.59375 71.296875 \r\nL 52.59375 62.3125 \r\nQ 48.875 64.0625 45.09375 64.984375 \r\nQ 41.3125 65.921875 37.59375 65.921875 \r\nQ 27.828125 65.921875 22.671875 59.328125 \r\nQ 17.53125 52.734375 16.796875 39.40625 \r\nQ 19.671875 43.65625 24.015625 45.921875 \r\nQ 28.375 48.1875 33.59375 48.1875 \r\nQ 44.578125 48.1875 50.953125 41.515625 \r\nQ 57.328125 34.859375 57.328125 23.390625 \r\nQ 57.328125 12.15625 50.6875 5.359375 \r\nQ 44.046875 -1.421875 33.015625 -1.421875 \r\nQ 20.359375 -1.421875 13.671875 8.265625 \r\nQ 6.984375 17.96875 6.984375 36.375 \r\nQ 6.984375 53.65625 15.1875 63.9375 \r\nQ 23.390625 74.21875 37.203125 74.21875 \r\nQ 40.921875 74.21875 44.703125 73.484375 \r\nQ 48.484375 72.75 52.59375 71.296875 \r\nz\r\n\" id=\"DejaVuSans-54\"/>\r\n       </defs>\r\n       <use xlink:href=\"#DejaVuSans-48\"/>\r\n       <use x=\"63.623047\" xlink:href=\"#DejaVuSans-46\"/>\r\n       <use x=\"95.410156\" xlink:href=\"#DejaVuSans-54\"/>\r\n      </g>\r\n     </g>\r\n    </g>\r\n   </g>\r\n   <g id=\"matplotlib.axis_2\">\r\n    <g id=\"ytick_1\">\r\n     <g id=\"line2d_8\">\r\n      <defs>\r\n       <path d=\"M 0 0 \r\nL -3.5 0 \r\n\" id=\"m70c9159f0e\" style=\"stroke:#000000;stroke-width:0.8;\"/>\r\n      </defs>\r\n      <g>\r\n       <use style=\"stroke:#000000;stroke-width:0.8;\" x=\"74.465625\" xlink:href=\"#m70c9159f0e\" y=\"531.385714\"/>\r\n      </g>\r\n     </g>\r\n     <g id=\"text_8\">\r\n      <!-- class -->\r\n      <g transform=\"translate(42.642188 535.184933)scale(0.1 -0.1)\">\r\n       <defs>\r\n        <path d=\"M 48.78125 52.59375 \r\nL 48.78125 44.1875 \r\nQ 44.96875 46.296875 41.140625 47.34375 \r\nQ 37.3125 48.390625 33.40625 48.390625 \r\nQ 24.65625 48.390625 19.8125 42.84375 \r\nQ 14.984375 37.3125 14.984375 27.296875 \r\nQ 14.984375 17.28125 19.8125 11.734375 \r\nQ 24.65625 6.203125 33.40625 6.203125 \r\nQ 37.3125 6.203125 41.140625 7.25 \r\nQ 44.96875 8.296875 48.78125 10.40625 \r\nL 48.78125 2.09375 \r\nQ 45.015625 0.34375 40.984375 -0.53125 \r\nQ 36.96875 -1.421875 32.421875 -1.421875 \r\nQ 20.0625 -1.421875 12.78125 6.34375 \r\nQ 5.515625 14.109375 5.515625 27.296875 \r\nQ 5.515625 40.671875 12.859375 48.328125 \r\nQ 20.21875 56 33.015625 56 \r\nQ 37.15625 56 41.109375 55.140625 \r\nQ 45.0625 54.296875 48.78125 52.59375 \r\nz\r\n\" id=\"DejaVuSans-99\"/>\r\n        <path d=\"M 9.421875 75.984375 \r\nL 18.40625 75.984375 \r\nL 18.40625 0 \r\nL 9.421875 0 \r\nz\r\n\" id=\"DejaVuSans-108\"/>\r\n        <path d=\"M 34.28125 27.484375 \r\nQ 23.390625 27.484375 19.1875 25 \r\nQ 14.984375 22.515625 14.984375 16.5 \r\nQ 14.984375 11.71875 18.140625 8.90625 \r\nQ 21.296875 6.109375 26.703125 6.109375 \r\nQ 34.1875 6.109375 38.703125 11.40625 \r\nQ 43.21875 16.703125 43.21875 25.484375 \r\nL 43.21875 27.484375 \r\nz\r\nM 52.203125 31.203125 \r\nL 52.203125 0 \r\nL 43.21875 0 \r\nL 43.21875 8.296875 \r\nQ 40.140625 3.328125 35.546875 0.953125 \r\nQ 30.953125 -1.421875 24.3125 -1.421875 \r\nQ 15.921875 -1.421875 10.953125 3.296875 \r\nQ 6 8.015625 6 15.921875 \r\nQ 6 25.140625 12.171875 29.828125 \r\nQ 18.359375 34.515625 30.609375 34.515625 \r\nL 43.21875 34.515625 \r\nL 43.21875 35.40625 \r\nQ 43.21875 41.609375 39.140625 45 \r\nQ 35.0625 48.390625 27.6875 48.390625 \r\nQ 23 48.390625 18.546875 47.265625 \r\nQ 14.109375 46.140625 10.015625 43.890625 \r\nL 10.015625 52.203125 \r\nQ 14.9375 54.109375 19.578125 55.046875 \r\nQ 24.21875 56 28.609375 56 \r\nQ 40.484375 56 46.34375 49.84375 \r\nQ 52.203125 43.703125 52.203125 31.203125 \r\nz\r\n\" id=\"DejaVuSans-97\"/>\r\n        <path d=\"M 44.28125 53.078125 \r\nL 44.28125 44.578125 \r\nQ 40.484375 46.53125 36.375 47.5 \r\nQ 32.28125 48.484375 27.875 48.484375 \r\nQ 21.1875 48.484375 17.84375 46.4375 \r\nQ 14.5 44.390625 14.5 40.28125 \r\nQ 14.5 37.15625 16.890625 35.375 \r\nQ 19.28125 33.59375 26.515625 31.984375 \r\nL 29.59375 31.296875 \r\nQ 39.15625 29.25 43.1875 25.515625 \r\nQ 47.21875 21.78125 47.21875 15.09375 \r\nQ 47.21875 7.46875 41.1875 3.015625 \r\nQ 35.15625 -1.421875 24.609375 -1.421875 \r\nQ 20.21875 -1.421875 15.453125 -0.5625 \r\nQ 10.6875 0.296875 5.421875 2 \r\nL 5.421875 11.28125 \r\nQ 10.40625 8.6875 15.234375 7.390625 \r\nQ 20.0625 6.109375 24.8125 6.109375 \r\nQ 31.15625 6.109375 34.5625 8.28125 \r\nQ 37.984375 10.453125 37.984375 14.40625 \r\nQ 37.984375 18.0625 35.515625 20.015625 \r\nQ 33.0625 21.96875 24.703125 23.78125 \r\nL 21.578125 24.515625 \r\nQ 13.234375 26.265625 9.515625 29.90625 \r\nQ 5.8125 33.546875 5.8125 39.890625 \r\nQ 5.8125 47.609375 11.28125 51.796875 \r\nQ 16.75 56 26.8125 56 \r\nQ 31.78125 56 36.171875 55.265625 \r\nQ 40.578125 54.546875 44.28125 53.078125 \r\nz\r\n\" id=\"DejaVuSans-115\"/>\r\n       </defs>\r\n       <use xlink:href=\"#DejaVuSans-99\"/>\r\n       <use x=\"54.980469\" xlink:href=\"#DejaVuSans-108\"/>\r\n       <use x=\"82.763672\" xlink:href=\"#DejaVuSans-97\"/>\r\n       <use x=\"144.042969\" xlink:href=\"#DejaVuSans-115\"/>\r\n       <use x=\"196.142578\" xlink:href=\"#DejaVuSans-115\"/>\r\n      </g>\r\n     </g>\r\n    </g>\r\n    <g id=\"ytick_2\">\r\n     <g id=\"line2d_9\">\r\n      <g>\r\n       <use style=\"stroke:#000000;stroke-width:0.8;\" x=\"74.465625\" xlink:href=\"#m70c9159f0e\" y=\"492.557143\"/>\r\n      </g>\r\n     </g>\r\n     <g id=\"text_9\">\r\n      <!-- time_diff -->\r\n      <g transform=\"translate(23.70625 496.356362)scale(0.1 -0.1)\">\r\n       <defs>\r\n        <path d=\"M 18.3125 70.21875 \r\nL 18.3125 54.6875 \r\nL 36.8125 54.6875 \r\nL 36.8125 47.703125 \r\nL 18.3125 47.703125 \r\nL 18.3125 18.015625 \r\nQ 18.3125 11.328125 20.140625 9.421875 \r\nQ 21.96875 7.515625 27.59375 7.515625 \r\nL 36.8125 7.515625 \r\nL 36.8125 0 \r\nL 27.59375 0 \r\nQ 17.1875 0 13.234375 3.875 \r\nQ 9.28125 7.765625 9.28125 18.015625 \r\nL 9.28125 47.703125 \r\nL 2.6875 47.703125 \r\nL 2.6875 54.6875 \r\nL 9.28125 54.6875 \r\nL 9.28125 70.21875 \r\nz\r\n\" id=\"DejaVuSans-116\"/>\r\n        <path d=\"M 9.421875 54.6875 \r\nL 18.40625 54.6875 \r\nL 18.40625 0 \r\nL 9.421875 0 \r\nz\r\nM 9.421875 75.984375 \r\nL 18.40625 75.984375 \r\nL 18.40625 64.59375 \r\nL 9.421875 64.59375 \r\nz\r\n\" id=\"DejaVuSans-105\"/>\r\n        <path d=\"M 52 44.1875 \r\nQ 55.375 50.25 60.0625 53.125 \r\nQ 64.75 56 71.09375 56 \r\nQ 79.640625 56 84.28125 50.015625 \r\nQ 88.921875 44.046875 88.921875 33.015625 \r\nL 88.921875 0 \r\nL 79.890625 0 \r\nL 79.890625 32.71875 \r\nQ 79.890625 40.578125 77.09375 44.375 \r\nQ 74.3125 48.1875 68.609375 48.1875 \r\nQ 61.625 48.1875 57.5625 43.546875 \r\nQ 53.515625 38.921875 53.515625 30.90625 \r\nL 53.515625 0 \r\nL 44.484375 0 \r\nL 44.484375 32.71875 \r\nQ 44.484375 40.625 41.703125 44.40625 \r\nQ 38.921875 48.1875 33.109375 48.1875 \r\nQ 26.21875 48.1875 22.15625 43.53125 \r\nQ 18.109375 38.875 18.109375 30.90625 \r\nL 18.109375 0 \r\nL 9.078125 0 \r\nL 9.078125 54.6875 \r\nL 18.109375 54.6875 \r\nL 18.109375 46.1875 \r\nQ 21.1875 51.21875 25.484375 53.609375 \r\nQ 29.78125 56 35.6875 56 \r\nQ 41.65625 56 45.828125 52.96875 \r\nQ 50 49.953125 52 44.1875 \r\nz\r\n\" id=\"DejaVuSans-109\"/>\r\n        <path d=\"M 56.203125 29.59375 \r\nL 56.203125 25.203125 \r\nL 14.890625 25.203125 \r\nQ 15.484375 15.921875 20.484375 11.0625 \r\nQ 25.484375 6.203125 34.421875 6.203125 \r\nQ 39.59375 6.203125 44.453125 7.46875 \r\nQ 49.3125 8.734375 54.109375 11.28125 \r\nL 54.109375 2.78125 \r\nQ 49.265625 0.734375 44.1875 -0.34375 \r\nQ 39.109375 -1.421875 33.890625 -1.421875 \r\nQ 20.796875 -1.421875 13.15625 6.1875 \r\nQ 5.515625 13.8125 5.515625 26.8125 \r\nQ 5.515625 40.234375 12.765625 48.109375 \r\nQ 20.015625 56 32.328125 56 \r\nQ 43.359375 56 49.78125 48.890625 \r\nQ 56.203125 41.796875 56.203125 29.59375 \r\nz\r\nM 47.21875 32.234375 \r\nQ 47.125 39.59375 43.09375 43.984375 \r\nQ 39.0625 48.390625 32.421875 48.390625 \r\nQ 24.90625 48.390625 20.390625 44.140625 \r\nQ 15.875 39.890625 15.1875 32.171875 \r\nz\r\n\" id=\"DejaVuSans-101\"/>\r\n        <path d=\"M 50.984375 -16.609375 \r\nL 50.984375 -23.578125 \r\nL -0.984375 -23.578125 \r\nL -0.984375 -16.609375 \r\nz\r\n\" id=\"DejaVuSans-95\"/>\r\n        <path d=\"M 45.40625 46.390625 \r\nL 45.40625 75.984375 \r\nL 54.390625 75.984375 \r\nL 54.390625 0 \r\nL 45.40625 0 \r\nL 45.40625 8.203125 \r\nQ 42.578125 3.328125 38.25 0.953125 \r\nQ 33.9375 -1.421875 27.875 -1.421875 \r\nQ 17.96875 -1.421875 11.734375 6.484375 \r\nQ 5.515625 14.40625 5.515625 27.296875 \r\nQ 5.515625 40.1875 11.734375 48.09375 \r\nQ 17.96875 56 27.875 56 \r\nQ 33.9375 56 38.25 53.625 \r\nQ 42.578125 51.265625 45.40625 46.390625 \r\nz\r\nM 14.796875 27.296875 \r\nQ 14.796875 17.390625 18.875 11.75 \r\nQ 22.953125 6.109375 30.078125 6.109375 \r\nQ 37.203125 6.109375 41.296875 11.75 \r\nQ 45.40625 17.390625 45.40625 27.296875 \r\nQ 45.40625 37.203125 41.296875 42.84375 \r\nQ 37.203125 48.484375 30.078125 48.484375 \r\nQ 22.953125 48.484375 18.875 42.84375 \r\nQ 14.796875 37.203125 14.796875 27.296875 \r\nz\r\n\" id=\"DejaVuSans-100\"/>\r\n        <path d=\"M 37.109375 75.984375 \r\nL 37.109375 68.5 \r\nL 28.515625 68.5 \r\nQ 23.6875 68.5 21.796875 66.546875 \r\nQ 19.921875 64.59375 19.921875 59.515625 \r\nL 19.921875 54.6875 \r\nL 34.71875 54.6875 \r\nL 34.71875 47.703125 \r\nL 19.921875 47.703125 \r\nL 19.921875 0 \r\nL 10.890625 0 \r\nL 10.890625 47.703125 \r\nL 2.296875 47.703125 \r\nL 2.296875 54.6875 \r\nL 10.890625 54.6875 \r\nL 10.890625 58.5 \r\nQ 10.890625 67.625 15.140625 71.796875 \r\nQ 19.390625 75.984375 28.609375 75.984375 \r\nz\r\n\" id=\"DejaVuSans-102\"/>\r\n       </defs>\r\n       <use xlink:href=\"#DejaVuSans-116\"/>\r\n       <use x=\"39.208984\" xlink:href=\"#DejaVuSans-105\"/>\r\n       <use x=\"66.992188\" xlink:href=\"#DejaVuSans-109\"/>\r\n       <use x=\"164.404297\" xlink:href=\"#DejaVuSans-101\"/>\r\n       <use x=\"225.927734\" xlink:href=\"#DejaVuSans-95\"/>\r\n       <use x=\"275.927734\" xlink:href=\"#DejaVuSans-100\"/>\r\n       <use x=\"339.404297\" xlink:href=\"#DejaVuSans-105\"/>\r\n       <use x=\"367.1875\" xlink:href=\"#DejaVuSans-102\"/>\r\n       <use x=\"402.392578\" xlink:href=\"#DejaVuSans-102\"/>\r\n      </g>\r\n     </g>\r\n    </g>\r\n    <g id=\"ytick_3\">\r\n     <g id=\"line2d_10\">\r\n      <g>\r\n       <use style=\"stroke:#000000;stroke-width:0.8;\" x=\"74.465625\" xlink:href=\"#m70c9159f0e\" y=\"453.728571\"/>\r\n      </g>\r\n     </g>\r\n     <g id=\"text_10\">\r\n      <!-- p_week -->\r\n      <g transform=\"translate(29.842188 457.52779)scale(0.1 -0.1)\">\r\n       <defs>\r\n        <path d=\"M 18.109375 8.203125 \r\nL 18.109375 -20.796875 \r\nL 9.078125 -20.796875 \r\nL 9.078125 54.6875 \r\nL 18.109375 54.6875 \r\nL 18.109375 46.390625 \r\nQ 20.953125 51.265625 25.265625 53.625 \r\nQ 29.59375 56 35.59375 56 \r\nQ 45.5625 56 51.78125 48.09375 \r\nQ 58.015625 40.1875 58.015625 27.296875 \r\nQ 58.015625 14.40625 51.78125 6.484375 \r\nQ 45.5625 -1.421875 35.59375 -1.421875 \r\nQ 29.59375 -1.421875 25.265625 0.953125 \r\nQ 20.953125 3.328125 18.109375 8.203125 \r\nz\r\nM 48.6875 27.296875 \r\nQ 48.6875 37.203125 44.609375 42.84375 \r\nQ 40.53125 48.484375 33.40625 48.484375 \r\nQ 26.265625 48.484375 22.1875 42.84375 \r\nQ 18.109375 37.203125 18.109375 27.296875 \r\nQ 18.109375 17.390625 22.1875 11.75 \r\nQ 26.265625 6.109375 33.40625 6.109375 \r\nQ 40.53125 6.109375 44.609375 11.75 \r\nQ 48.6875 17.390625 48.6875 27.296875 \r\nz\r\n\" id=\"DejaVuSans-112\"/>\r\n        <path d=\"M 4.203125 54.6875 \r\nL 13.1875 54.6875 \r\nL 24.421875 12.015625 \r\nL 35.59375 54.6875 \r\nL 46.1875 54.6875 \r\nL 57.421875 12.015625 \r\nL 68.609375 54.6875 \r\nL 77.59375 54.6875 \r\nL 63.28125 0 \r\nL 52.6875 0 \r\nL 40.921875 44.828125 \r\nL 29.109375 0 \r\nL 18.5 0 \r\nz\r\n\" id=\"DejaVuSans-119\"/>\r\n        <path d=\"M 9.078125 75.984375 \r\nL 18.109375 75.984375 \r\nL 18.109375 31.109375 \r\nL 44.921875 54.6875 \r\nL 56.390625 54.6875 \r\nL 27.390625 29.109375 \r\nL 57.625 0 \r\nL 45.90625 0 \r\nL 18.109375 26.703125 \r\nL 18.109375 0 \r\nL 9.078125 0 \r\nz\r\n\" id=\"DejaVuSans-107\"/>\r\n       </defs>\r\n       <use xlink:href=\"#DejaVuSans-112\"/>\r\n       <use x=\"63.476562\" xlink:href=\"#DejaVuSans-95\"/>\r\n       <use x=\"113.476562\" xlink:href=\"#DejaVuSans-119\"/>\r\n       <use x=\"195.263672\" xlink:href=\"#DejaVuSans-101\"/>\r\n       <use x=\"256.787109\" xlink:href=\"#DejaVuSans-101\"/>\r\n       <use x=\"318.310547\" xlink:href=\"#DejaVuSans-107\"/>\r\n      </g>\r\n     </g>\r\n    </g>\r\n    <g id=\"ytick_4\">\r\n     <g id=\"line2d_11\">\r\n      <g>\r\n       <use style=\"stroke:#000000;stroke-width:0.8;\" x=\"74.465625\" xlink:href=\"#m70c9159f0e\" y=\"414.9\"/>\r\n      </g>\r\n     </g>\r\n     <g id=\"text_11\">\r\n      <!-- ip_num -->\r\n      <g transform=\"translate(30.923437 418.699219)scale(0.1 -0.1)\">\r\n       <defs>\r\n        <path d=\"M 54.890625 33.015625 \r\nL 54.890625 0 \r\nL 45.90625 0 \r\nL 45.90625 32.71875 \r\nQ 45.90625 40.484375 42.875 44.328125 \r\nQ 39.84375 48.1875 33.796875 48.1875 \r\nQ 26.515625 48.1875 22.3125 43.546875 \r\nQ 18.109375 38.921875 18.109375 30.90625 \r\nL 18.109375 0 \r\nL 9.078125 0 \r\nL 9.078125 54.6875 \r\nL 18.109375 54.6875 \r\nL 18.109375 46.1875 \r\nQ 21.34375 51.125 25.703125 53.5625 \r\nQ 30.078125 56 35.796875 56 \r\nQ 45.21875 56 50.046875 50.171875 \r\nQ 54.890625 44.34375 54.890625 33.015625 \r\nz\r\n\" id=\"DejaVuSans-110\"/>\r\n        <path d=\"M 8.5 21.578125 \r\nL 8.5 54.6875 \r\nL 17.484375 54.6875 \r\nL 17.484375 21.921875 \r\nQ 17.484375 14.15625 20.5 10.265625 \r\nQ 23.53125 6.390625 29.59375 6.390625 \r\nQ 36.859375 6.390625 41.078125 11.03125 \r\nQ 45.3125 15.671875 45.3125 23.6875 \r\nL 45.3125 54.6875 \r\nL 54.296875 54.6875 \r\nL 54.296875 0 \r\nL 45.3125 0 \r\nL 45.3125 8.40625 \r\nQ 42.046875 3.421875 37.71875 1 \r\nQ 33.40625 -1.421875 27.6875 -1.421875 \r\nQ 18.265625 -1.421875 13.375 4.4375 \r\nQ 8.5 10.296875 8.5 21.578125 \r\nz\r\nM 31.109375 56 \r\nz\r\n\" id=\"DejaVuSans-117\"/>\r\n       </defs>\r\n       <use xlink:href=\"#DejaVuSans-105\"/>\r\n       <use x=\"27.783203\" xlink:href=\"#DejaVuSans-112\"/>\r\n       <use x=\"91.259766\" xlink:href=\"#DejaVuSans-95\"/>\r\n       <use x=\"141.259766\" xlink:href=\"#DejaVuSans-110\"/>\r\n       <use x=\"204.638672\" xlink:href=\"#DejaVuSans-117\"/>\r\n       <use x=\"268.017578\" xlink:href=\"#DejaVuSans-109\"/>\r\n      </g>\r\n     </g>\r\n    </g>\r\n    <g id=\"ytick_5\">\r\n     <g id=\"line2d_12\">\r\n      <g>\r\n       <use style=\"stroke:#000000;stroke-width:0.8;\" x=\"74.465625\" xlink:href=\"#m70c9159f0e\" y=\"376.071429\"/>\r\n      </g>\r\n     </g>\r\n     <g id=\"text_12\">\r\n      <!-- device_num -->\r\n      <g transform=\"translate(7.2 379.870647)scale(0.1 -0.1)\">\r\n       <defs>\r\n        <path d=\"M 2.984375 54.6875 \r\nL 12.5 54.6875 \r\nL 29.59375 8.796875 \r\nL 46.6875 54.6875 \r\nL 56.203125 54.6875 \r\nL 35.6875 0 \r\nL 23.484375 0 \r\nz\r\n\" id=\"DejaVuSans-118\"/>\r\n       </defs>\r\n       <use xlink:href=\"#DejaVuSans-100\"/>\r\n       <use x=\"63.476562\" xlink:href=\"#DejaVuSans-101\"/>\r\n       <use x=\"125\" xlink:href=\"#DejaVuSans-118\"/>\r\n       <use x=\"184.179688\" xlink:href=\"#DejaVuSans-105\"/>\r\n       <use x=\"211.962891\" xlink:href=\"#DejaVuSans-99\"/>\r\n       <use x=\"266.943359\" xlink:href=\"#DejaVuSans-101\"/>\r\n       <use x=\"328.466797\" xlink:href=\"#DejaVuSans-95\"/>\r\n       <use x=\"378.466797\" xlink:href=\"#DejaVuSans-110\"/>\r\n       <use x=\"441.845703\" xlink:href=\"#DejaVuSans-117\"/>\r\n       <use x=\"505.224609\" xlink:href=\"#DejaVuSans-109\"/>\r\n      </g>\r\n     </g>\r\n    </g>\r\n    <g id=\"ytick_6\">\r\n     <g id=\"line2d_13\">\r\n      <g>\r\n       <use style=\"stroke:#000000;stroke-width:0.8;\" x=\"74.465625\" xlink:href=\"#m70c9159f0e\" y=\"337.242857\"/>\r\n      </g>\r\n     </g>\r\n     <g id=\"text_13\">\r\n      <!-- s_week -->\r\n      <g transform=\"translate(30.98125 341.042076)scale(0.1 -0.1)\">\r\n       <use xlink:href=\"#DejaVuSans-115\"/>\r\n       <use x=\"52.099609\" xlink:href=\"#DejaVuSans-95\"/>\r\n       <use x=\"102.099609\" xlink:href=\"#DejaVuSans-119\"/>\r\n       <use x=\"183.886719\" xlink:href=\"#DejaVuSans-101\"/>\r\n       <use x=\"245.410156\" xlink:href=\"#DejaVuSans-101\"/>\r\n       <use x=\"306.933594\" xlink:href=\"#DejaVuSans-107\"/>\r\n      </g>\r\n     </g>\r\n    </g>\r\n    <g id=\"ytick_7\">\r\n     <g id=\"line2d_14\">\r\n      <g>\r\n       <use style=\"stroke:#000000;stroke-width:0.8;\" x=\"74.465625\" xlink:href=\"#m70c9159f0e\" y=\"298.414286\"/>\r\n      </g>\r\n     </g>\r\n     <g id=\"text_14\">\r\n      <!-- s_day -->\r\n      <g transform=\"translate(38.860938 302.213504)scale(0.1 -0.1)\">\r\n       <defs>\r\n        <path d=\"M 32.171875 -5.078125 \r\nQ 28.375 -14.84375 24.75 -17.8125 \r\nQ 21.140625 -20.796875 15.09375 -20.796875 \r\nL 7.90625 -20.796875 \r\nL 7.90625 -13.28125 \r\nL 13.1875 -13.28125 \r\nQ 16.890625 -13.28125 18.9375 -11.515625 \r\nQ 21 -9.765625 23.484375 -3.21875 \r\nL 25.09375 0.875 \r\nL 2.984375 54.6875 \r\nL 12.5 54.6875 \r\nL 29.59375 11.921875 \r\nL 46.6875 54.6875 \r\nL 56.203125 54.6875 \r\nz\r\n\" id=\"DejaVuSans-121\"/>\r\n       </defs>\r\n       <use xlink:href=\"#DejaVuSans-115\"/>\r\n       <use x=\"52.099609\" xlink:href=\"#DejaVuSans-95\"/>\r\n       <use x=\"102.099609\" xlink:href=\"#DejaVuSans-100\"/>\r\n       <use x=\"165.576172\" xlink:href=\"#DejaVuSans-97\"/>\r\n       <use x=\"226.855469\" xlink:href=\"#DejaVuSans-121\"/>\r\n      </g>\r\n     </g>\r\n    </g>\r\n    <g id=\"ytick_8\">\r\n     <g id=\"line2d_15\">\r\n      <g>\r\n       <use style=\"stroke:#000000;stroke-width:0.8;\" x=\"74.465625\" xlink:href=\"#m70c9159f0e\" y=\"259.585714\"/>\r\n      </g>\r\n     </g>\r\n     <g id=\"text_15\">\r\n      <!-- p_day -->\r\n      <g transform=\"translate(37.721875 263.384933)scale(0.1 -0.1)\">\r\n       <use xlink:href=\"#DejaVuSans-112\"/>\r\n       <use x=\"63.476562\" xlink:href=\"#DejaVuSans-95\"/>\r\n       <use x=\"113.476562\" xlink:href=\"#DejaVuSans-100\"/>\r\n       <use x=\"176.953125\" xlink:href=\"#DejaVuSans-97\"/>\r\n       <use x=\"238.232422\" xlink:href=\"#DejaVuSans-121\"/>\r\n      </g>\r\n     </g>\r\n    </g>\r\n    <g id=\"ytick_9\">\r\n     <g id=\"line2d_16\">\r\n      <g>\r\n       <use style=\"stroke:#000000;stroke-width:0.8;\" x=\"74.465625\" xlink:href=\"#m70c9159f0e\" y=\"220.757143\"/>\r\n      </g>\r\n     </g>\r\n     <g id=\"text_16\">\r\n      <!-- country -->\r\n      <g transform=\"translate(29.223438 224.556362)scale(0.1 -0.1)\">\r\n       <defs>\r\n        <path d=\"M 30.609375 48.390625 \r\nQ 23.390625 48.390625 19.1875 42.75 \r\nQ 14.984375 37.109375 14.984375 27.296875 \r\nQ 14.984375 17.484375 19.15625 11.84375 \r\nQ 23.34375 6.203125 30.609375 6.203125 \r\nQ 37.796875 6.203125 41.984375 11.859375 \r\nQ 46.1875 17.53125 46.1875 27.296875 \r\nQ 46.1875 37.015625 41.984375 42.703125 \r\nQ 37.796875 48.390625 30.609375 48.390625 \r\nz\r\nM 30.609375 56 \r\nQ 42.328125 56 49.015625 48.375 \r\nQ 55.71875 40.765625 55.71875 27.296875 \r\nQ 55.71875 13.875 49.015625 6.21875 \r\nQ 42.328125 -1.421875 30.609375 -1.421875 \r\nQ 18.84375 -1.421875 12.171875 6.21875 \r\nQ 5.515625 13.875 5.515625 27.296875 \r\nQ 5.515625 40.765625 12.171875 48.375 \r\nQ 18.84375 56 30.609375 56 \r\nz\r\n\" id=\"DejaVuSans-111\"/>\r\n        <path d=\"M 41.109375 46.296875 \r\nQ 39.59375 47.171875 37.8125 47.578125 \r\nQ 36.03125 48 33.890625 48 \r\nQ 26.265625 48 22.1875 43.046875 \r\nQ 18.109375 38.09375 18.109375 28.8125 \r\nL 18.109375 0 \r\nL 9.078125 0 \r\nL 9.078125 54.6875 \r\nL 18.109375 54.6875 \r\nL 18.109375 46.1875 \r\nQ 20.953125 51.171875 25.484375 53.578125 \r\nQ 30.03125 56 36.53125 56 \r\nQ 37.453125 56 38.578125 55.875 \r\nQ 39.703125 55.765625 41.0625 55.515625 \r\nz\r\n\" id=\"DejaVuSans-114\"/>\r\n       </defs>\r\n       <use xlink:href=\"#DejaVuSans-99\"/>\r\n       <use x=\"54.980469\" xlink:href=\"#DejaVuSans-111\"/>\r\n       <use x=\"116.162109\" xlink:href=\"#DejaVuSans-117\"/>\r\n       <use x=\"179.541016\" xlink:href=\"#DejaVuSans-110\"/>\r\n       <use x=\"242.919922\" xlink:href=\"#DejaVuSans-116\"/>\r\n       <use x=\"282.128906\" xlink:href=\"#DejaVuSans-114\"/>\r\n       <use x=\"323.242188\" xlink:href=\"#DejaVuSans-121\"/>\r\n      </g>\r\n     </g>\r\n    </g>\r\n    <g id=\"ytick_10\">\r\n     <g id=\"line2d_17\">\r\n      <g>\r\n       <use style=\"stroke:#000000;stroke-width:0.8;\" x=\"74.465625\" xlink:href=\"#m70c9159f0e\" y=\"181.928571\"/>\r\n      </g>\r\n     </g>\r\n     <g id=\"text_17\">\r\n      <!-- p_value -->\r\n      <g transform=\"translate(28.801563 185.72779)scale(0.1 -0.1)\">\r\n       <use xlink:href=\"#DejaVuSans-112\"/>\r\n       <use x=\"63.476562\" xlink:href=\"#DejaVuSans-95\"/>\r\n       <use x=\"113.476562\" xlink:href=\"#DejaVuSans-118\"/>\r\n       <use x=\"172.65625\" xlink:href=\"#DejaVuSans-97\"/>\r\n       <use x=\"233.935547\" xlink:href=\"#DejaVuSans-108\"/>\r\n       <use x=\"261.71875\" xlink:href=\"#DejaVuSans-117\"/>\r\n       <use x=\"325.097656\" xlink:href=\"#DejaVuSans-101\"/>\r\n      </g>\r\n     </g>\r\n    </g>\r\n    <g id=\"ytick_11\">\r\n     <g id=\"line2d_18\">\r\n      <g>\r\n       <use style=\"stroke:#000000;stroke-width:0.8;\" x=\"74.465625\" xlink:href=\"#m70c9159f0e\" y=\"143.1\"/>\r\n      </g>\r\n     </g>\r\n     <g id=\"text_18\">\r\n      <!-- age -->\r\n      <g transform=\"translate(48.835938 146.899219)scale(0.1 -0.1)\">\r\n       <defs>\r\n        <path d=\"M 45.40625 27.984375 \r\nQ 45.40625 37.75 41.375 43.109375 \r\nQ 37.359375 48.484375 30.078125 48.484375 \r\nQ 22.859375 48.484375 18.828125 43.109375 \r\nQ 14.796875 37.75 14.796875 27.984375 \r\nQ 14.796875 18.265625 18.828125 12.890625 \r\nQ 22.859375 7.515625 30.078125 7.515625 \r\nQ 37.359375 7.515625 41.375 12.890625 \r\nQ 45.40625 18.265625 45.40625 27.984375 \r\nz\r\nM 54.390625 6.78125 \r\nQ 54.390625 -7.171875 48.1875 -13.984375 \r\nQ 42 -20.796875 29.203125 -20.796875 \r\nQ 24.46875 -20.796875 20.265625 -20.09375 \r\nQ 16.0625 -19.390625 12.109375 -17.921875 \r\nL 12.109375 -9.1875 \r\nQ 16.0625 -11.328125 19.921875 -12.34375 \r\nQ 23.78125 -13.375 27.78125 -13.375 \r\nQ 36.625 -13.375 41.015625 -8.765625 \r\nQ 45.40625 -4.15625 45.40625 5.171875 \r\nL 45.40625 9.625 \r\nQ 42.625 4.78125 38.28125 2.390625 \r\nQ 33.9375 0 27.875 0 \r\nQ 17.828125 0 11.671875 7.65625 \r\nQ 5.515625 15.328125 5.515625 27.984375 \r\nQ 5.515625 40.671875 11.671875 48.328125 \r\nQ 17.828125 56 27.875 56 \r\nQ 33.9375 56 38.28125 53.609375 \r\nQ 42.625 51.21875 45.40625 46.390625 \r\nL 45.40625 54.6875 \r\nL 54.390625 54.6875 \r\nz\r\n\" id=\"DejaVuSans-103\"/>\r\n       </defs>\r\n       <use xlink:href=\"#DejaVuSans-97\"/>\r\n       <use x=\"61.279297\" xlink:href=\"#DejaVuSans-103\"/>\r\n       <use x=\"124.755859\" xlink:href=\"#DejaVuSans-101\"/>\r\n      </g>\r\n     </g>\r\n    </g>\r\n    <g id=\"ytick_12\">\r\n     <g id=\"line2d_19\">\r\n      <g>\r\n       <use style=\"stroke:#000000;stroke-width:0.8;\" x=\"74.465625\" xlink:href=\"#m70c9159f0e\" y=\"104.271429\"/>\r\n      </g>\r\n     </g>\r\n     <g id=\"text_19\">\r\n      <!-- source -->\r\n      <g transform=\"translate(34.2625 108.070647)scale(0.1 -0.1)\">\r\n       <use xlink:href=\"#DejaVuSans-115\"/>\r\n       <use x=\"52.099609\" xlink:href=\"#DejaVuSans-111\"/>\r\n       <use x=\"113.28125\" xlink:href=\"#DejaVuSans-117\"/>\r\n       <use x=\"176.660156\" xlink:href=\"#DejaVuSans-114\"/>\r\n       <use x=\"215.523438\" xlink:href=\"#DejaVuSans-99\"/>\r\n       <use x=\"270.503906\" xlink:href=\"#DejaVuSans-101\"/>\r\n      </g>\r\n     </g>\r\n    </g>\r\n    <g id=\"ytick_13\">\r\n     <g id=\"line2d_20\">\r\n      <g>\r\n       <use style=\"stroke:#000000;stroke-width:0.8;\" x=\"74.465625\" xlink:href=\"#m70c9159f0e\" y=\"65.442857\"/>\r\n      </g>\r\n     </g>\r\n     <g id=\"text_20\">\r\n      <!-- browser -->\r\n      <g transform=\"translate(27.460938 69.242076)scale(0.1 -0.1)\">\r\n       <defs>\r\n        <path d=\"M 48.6875 27.296875 \r\nQ 48.6875 37.203125 44.609375 42.84375 \r\nQ 40.53125 48.484375 33.40625 48.484375 \r\nQ 26.265625 48.484375 22.1875 42.84375 \r\nQ 18.109375 37.203125 18.109375 27.296875 \r\nQ 18.109375 17.390625 22.1875 11.75 \r\nQ 26.265625 6.109375 33.40625 6.109375 \r\nQ 40.53125 6.109375 44.609375 11.75 \r\nQ 48.6875 17.390625 48.6875 27.296875 \r\nz\r\nM 18.109375 46.390625 \r\nQ 20.953125 51.265625 25.265625 53.625 \r\nQ 29.59375 56 35.59375 56 \r\nQ 45.5625 56 51.78125 48.09375 \r\nQ 58.015625 40.1875 58.015625 27.296875 \r\nQ 58.015625 14.40625 51.78125 6.484375 \r\nQ 45.5625 -1.421875 35.59375 -1.421875 \r\nQ 29.59375 -1.421875 25.265625 0.953125 \r\nQ 20.953125 3.328125 18.109375 8.203125 \r\nL 18.109375 0 \r\nL 9.078125 0 \r\nL 9.078125 75.984375 \r\nL 18.109375 75.984375 \r\nz\r\n\" id=\"DejaVuSans-98\"/>\r\n       </defs>\r\n       <use xlink:href=\"#DejaVuSans-98\"/>\r\n       <use x=\"63.476562\" xlink:href=\"#DejaVuSans-114\"/>\r\n       <use x=\"102.339844\" xlink:href=\"#DejaVuSans-111\"/>\r\n       <use x=\"163.521484\" xlink:href=\"#DejaVuSans-119\"/>\r\n       <use x=\"245.308594\" xlink:href=\"#DejaVuSans-115\"/>\r\n       <use x=\"297.408203\" xlink:href=\"#DejaVuSans-101\"/>\r\n       <use x=\"358.931641\" xlink:href=\"#DejaVuSans-114\"/>\r\n      </g>\r\n     </g>\r\n    </g>\r\n    <g id=\"ytick_14\">\r\n     <g id=\"line2d_21\">\r\n      <g>\r\n       <use style=\"stroke:#000000;stroke-width:0.8;\" x=\"74.465625\" xlink:href=\"#m70c9159f0e\" y=\"26.614286\"/>\r\n      </g>\r\n     </g>\r\n     <g id=\"text_21\">\r\n      <!-- sex -->\r\n      <g transform=\"translate(50.359375 30.413504)scale(0.1 -0.1)\">\r\n       <defs>\r\n        <path d=\"M 54.890625 54.6875 \r\nL 35.109375 28.078125 \r\nL 55.90625 0 \r\nL 45.3125 0 \r\nL 29.390625 21.484375 \r\nL 13.484375 0 \r\nL 2.875 0 \r\nL 24.125 28.609375 \r\nL 4.6875 54.6875 \r\nL 15.28125 54.6875 \r\nL 29.78125 35.203125 \r\nL 44.28125 54.6875 \r\nz\r\n\" id=\"DejaVuSans-120\"/>\r\n       </defs>\r\n       <use xlink:href=\"#DejaVuSans-115\"/>\r\n       <use x=\"52.099609\" xlink:href=\"#DejaVuSans-101\"/>\r\n       <use x=\"111.873047\" xlink:href=\"#DejaVuSans-120\"/>\r\n      </g>\r\n     </g>\r\n    </g>\r\n   </g>\r\n   <g id=\"patch_17\">\r\n    <path d=\"M 74.465625 550.8 \r\nL 74.465625 7.2 \r\n\" style=\"fill:none;stroke:#000000;stroke-linecap:square;stroke-linejoin:miter;stroke-width:0.8;\"/>\r\n   </g>\r\n   <g id=\"patch_18\">\r\n    <path d=\"M 632.465625 550.8 \r\nL 632.465625 7.2 \r\n\" style=\"fill:none;stroke:#000000;stroke-linecap:square;stroke-linejoin:miter;stroke-width:0.8;\"/>\r\n   </g>\r\n   <g id=\"patch_19\">\r\n    <path d=\"M 74.465625 550.8 \r\nL 632.465625 550.8 \r\n\" style=\"fill:none;stroke:#000000;stroke-linecap:square;stroke-linejoin:miter;stroke-width:0.8;\"/>\r\n   </g>\r\n   <g id=\"patch_20\">\r\n    <path d=\"M 74.465625 7.2 \r\nL 632.465625 7.2 \r\n\" style=\"fill:none;stroke:#000000;stroke-linecap:square;stroke-linejoin:miter;stroke-width:0.8;\"/>\r\n   </g>\r\n  </g>\r\n </g>\r\n <defs>\r\n  <clipPath id=\"p43cbedf912\">\r\n   <rect height=\"543.6\" width=\"558\" x=\"74.465625\" y=\"7.2\"/>\r\n  </clipPath>\r\n </defs>\r\n</svg>\r\n",
      "image/png": "[encoded data removed]"
     },
     "metadata": {
      "needs_background": "light"
     }
    }
   ],
   "source": [
    "pd.Series(clf_forest.feature_importances_, index=df0.columns).nlargest(14).plot(kind=\"barh\",figsize=(10,10))"
   ]
  },
  {
   "cell_type": "code",
   "execution_count": 18,
   "metadata": {},
   "outputs": [
    {
     "data": {
      "text/plain": [
       "Text(0.5, 1.0, 'Visualizing Important Features')"
      ]
     },
     "execution_count": 18,
     "metadata": {},
     "output_type": "execute_result"
    },
    {
     "data": {
      "image/png": "[encoded data removed]",
      "text/plain": [
       "<Figure size 1152x648 with 1 Axes>"
      ]
     },
     "metadata": {
      "needs_background": "light"
     },
     "output_type": "display_data"
    }
   ],
   "source": []
  },
  {
   "cell_type": "markdown",
   "metadata": {},
   "source": [
    "### Afficher le `Classification report`"
   ]
  },
  {
   "cell_type": "code",
   "execution_count": 41,
   "metadata": {},
   "outputs": [
    {
     "output_type": "stream",
     "name": "stdout",
     "text": [
      "              precision    recall  f1-score   support\n\n           0       1.00      1.00      1.00     34284\n           1       1.00      1.00      1.00      3494\n\n    accuracy                           1.00     37778\n   macro avg       1.00      1.00      1.00     37778\nweighted avg       1.00      1.00      1.00     37778\n\n"
     ]
    }
   ],
   "source": [
    "print(classification_report(y_test, preds))"
   ]
  },
  {
   "cell_type": "code",
   "execution_count": 19,
   "metadata": {},
   "outputs": [
    {
     "name": "stdout",
     "output_type": "stream",
     "text": [
      "              precision    recall  f1-score   support\n",
      "\n",
      "           0       0.96      1.00      0.98     41177\n",
      "           1       1.00      0.55      0.71      4157\n",
      "\n",
      "   micro avg       0.96      0.96      0.96     45334\n",
      "   macro avg       0.98      0.77      0.84     45334\n",
      "weighted avg       0.96      0.96      0.95     45334\n",
      "\n"
     ]
    }
   ],
   "source": []
  },
  {
   "cell_type": "markdown",
   "metadata": {},
   "source": [
    "### Traçer la courbe AUC "
   ]
  },
  {
   "cell_type": "code",
   "execution_count": 42,
   "metadata": {},
   "outputs": [
    {
     "output_type": "execute_result",
     "data": {
      "text/plain": [
       "SVC(random_state=42)"
      ]
     },
     "metadata": {},
     "execution_count": 42
    }
   ],
   "source": [
    "from sklearn.svm import SVC\n",
    "from sklearn.metrics import plot_roc_curve\n",
    "\n",
    "svc_forest = SVC(random_state=42)\n",
    "svc_forest.fit(X_train, y_train)\n",
    "#clf_forest = RandomForestClassifier(n_estimators=20, criterion='entropy', max_depth=50, min_samples_leaf=3, min_samples_split=3, oob_score=True)\n",
    "#clf_forest.fit(X_train, y_train)\n",
    "\n",
    "svc_forest"
   ]
  },
  {
   "cell_type": "code",
   "execution_count": null,
   "metadata": {},
   "outputs": [],
   "source": [
    "#correction\n",
    "#test_fpr, test_tpr, _ = roc_curve(y_test.values, y_pred)\n",
    "#test_auc = np.round(auc(test_fpr, test_tpr), 3)\n"
   ]
  },
  {
   "cell_type": "code",
   "execution_count": null,
   "metadata": {},
   "outputs": [],
   "source": [
    "#test_fpr = np.insert(test_fpr, 0, 0)\n",
    "#test_tpr = np.insert(test_tpr, 0, 0)\n",
    "\n",
    "#fig, ax = plt.subplots(figsize=(8, 6))\n",
    "#ax.plot(train_fpr, train_tpr, label='Train AUC: ' + str(train_auc))\n",
    "#ax.plot(test_fpr, test_tpr, label='Test AUC: ' + str(test_auc))\n",
    "#ax.plot(test_fpr, test_tpr, 'k--', label='Chance Curve')\n",
    "#ax.set_xlabel('False Positive Rate', fontsize=12)\n",
    "#ax.set_ylabel('True Positive Rate', fontsize=12)\n",
    "#ax.grid(True)\n",
    "#ax.legend(fontsize=12)\n",
    "#plt.show()\n"
   ]
  },
  {
   "cell_type": "code",
   "execution_count": 45,
   "metadata": {},
   "outputs": [
    {
     "output_type": "execute_result",
     "data": {
      "text/plain": [
       "Text(0.5, 0.98, 'ROC curve comparison')"
      ]
     },
     "metadata": {},
     "execution_count": 45
    },
    {
     "output_type": "display_data",
     "data": {
      "text/plain": "<Figure size 432x288 with 1 Axes>",
      "image/svg+xml": "<?xml version=\"1.0\" encoding=\"utf-8\" standalone=\"no\"?>\r\n<!DOCTYPE svg PUBLIC \"-//W3C//DTD SVG 1.1//EN\"\r\n  \"http://www.w3.org/Graphics/SVG/1.1/DTD/svg11.dtd\">\r\n<!-- Created with matplotlib (https://matplotlib.org/) -->\r\n<svg height=\"290.99625pt\" version=\"1.1\" viewBox=\"0 0 385.78125 290.99625\" width=\"385.78125pt\" xmlns=\"http://www.w3.org/2000/svg\" xmlns:xlink=\"http://www.w3.org/1999/xlink\">\r\n <metadata>\r\n  <rdf:RDF xmlns:cc=\"http://creativecommons.org/ns#\" xmlns:dc=\"http://purl.org/dc/elements/1.1/\" xmlns:rdf=\"http://www.w3.org/1999/02/22-rdf-syntax-ns#\">\r\n   <cc:Work>\r\n    <dc:type rdf:resource=\"http://purl.org/dc/dcmitype/StillImage\"/>\r\n    <dc:date>2021-04-15T10:22:17.711967</dc:date>\r\n    <dc:format>image/svg+xml</dc:format>\r\n    <dc:creator>\r\n     <cc:Agent>\r\n      <dc:title>Matplotlib v3.3.3, https://matplotlib.org/</dc:title>\r\n     </cc:Agent>\r\n    </dc:creator>\r\n   </cc:Work>\r\n  </rdf:RDF>\r\n </metadata>\r\n <defs>\r\n  <style type=\"text/css\">*{stroke-linecap:butt;stroke-linejoin:round;}</style>\r\n </defs>\r\n <g id=\"figure_1\">\r\n  <g id=\"patch_1\">\r\n   <path d=\"M 0 290.99625 \r\nL 385.78125 290.99625 \r\nL 385.78125 0 \r\nL 0 0 \r\nz\r\n\" style=\"fill:none;\"/>\r\n  </g>\r\n  <g id=\"axes_1\">\r\n   <g id=\"patch_2\">\r\n    <path d=\"M 43.78125 253.44 \r\nL 378.58125 253.44 \r\nL 378.58125 36 \r\nL 43.78125 36 \r\nz\r\n\" style=\"fill:#ffffff;\"/>\r\n   </g>\r\n   <g id=\"matplotlib.axis_1\">\r\n    <g id=\"xtick_1\">\r\n     <g id=\"line2d_1\">\r\n      <defs>\r\n       <path d=\"M 0 0 \r\nL 0 3.5 \r\n\" id=\"m59a2cc67b2\" style=\"stroke:#000000;stroke-width:0.8;\"/>\r\n      </defs>\r\n      <g>\r\n       <use style=\"stroke:#000000;stroke-width:0.8;\" x=\"58.999432\" xlink:href=\"#m59a2cc67b2\" y=\"253.44\"/>\r\n      </g>\r\n     </g>\r\n     <g id=\"text_1\">\r\n      <!-- 0.0 -->\r\n      <g transform=\"translate(51.047869 268.038437)scale(0.1 -0.1)\">\r\n       <defs>\r\n        <path d=\"M 31.78125 66.40625 \r\nQ 24.171875 66.40625 20.328125 58.90625 \r\nQ 16.5 51.421875 16.5 36.375 \r\nQ 16.5 21.390625 20.328125 13.890625 \r\nQ 24.171875 6.390625 31.78125 6.390625 \r\nQ 39.453125 6.390625 43.28125 13.890625 \r\nQ 47.125 21.390625 47.125 36.375 \r\nQ 47.125 51.421875 43.28125 58.90625 \r\nQ 39.453125 66.40625 31.78125 66.40625 \r\nz\r\nM 31.78125 74.21875 \r\nQ 44.046875 74.21875 50.515625 64.515625 \r\nQ 56.984375 54.828125 56.984375 36.375 \r\nQ 56.984375 17.96875 50.515625 8.265625 \r\nQ 44.046875 -1.421875 31.78125 -1.421875 \r\nQ 19.53125 -1.421875 13.0625 8.265625 \r\nQ 6.59375 17.96875 6.59375 36.375 \r\nQ 6.59375 54.828125 13.0625 64.515625 \r\nQ 19.53125 74.21875 31.78125 74.21875 \r\nz\r\n\" id=\"DejaVuSans-48\"/>\r\n        <path d=\"M 10.6875 12.40625 \r\nL 21 12.40625 \r\nL 21 0 \r\nL 10.6875 0 \r\nz\r\n\" id=\"DejaVuSans-46\"/>\r\n       </defs>\r\n       <use xlink:href=\"#DejaVuSans-48\"/>\r\n       <use x=\"63.623047\" xlink:href=\"#DejaVuSans-46\"/>\r\n       <use x=\"95.410156\" xlink:href=\"#DejaVuSans-48\"/>\r\n      </g>\r\n     </g>\r\n    </g>\r\n    <g id=\"xtick_2\">\r\n     <g id=\"line2d_2\">\r\n      <g>\r\n       <use style=\"stroke:#000000;stroke-width:0.8;\" x=\"119.872159\" xlink:href=\"#m59a2cc67b2\" y=\"253.44\"/>\r\n      </g>\r\n     </g>\r\n     <g id=\"text_2\">\r\n      <!-- 0.2 -->\r\n      <g transform=\"translate(111.920597 268.038437)scale(0.1 -0.1)\">\r\n       <defs>\r\n        <path d=\"M 19.1875 8.296875 \r\nL 53.609375 8.296875 \r\nL 53.609375 0 \r\nL 7.328125 0 \r\nL 7.328125 8.296875 \r\nQ 12.9375 14.109375 22.625 23.890625 \r\nQ 32.328125 33.6875 34.8125 36.53125 \r\nQ 39.546875 41.84375 41.421875 45.53125 \r\nQ 43.3125 49.21875 43.3125 52.78125 \r\nQ 43.3125 58.59375 39.234375 62.25 \r\nQ 35.15625 65.921875 28.609375 65.921875 \r\nQ 23.96875 65.921875 18.8125 64.3125 \r\nQ 13.671875 62.703125 7.8125 59.421875 \r\nL 7.8125 69.390625 \r\nQ 13.765625 71.78125 18.9375 73 \r\nQ 24.125 74.21875 28.421875 74.21875 \r\nQ 39.75 74.21875 46.484375 68.546875 \r\nQ 53.21875 62.890625 53.21875 53.421875 \r\nQ 53.21875 48.921875 51.53125 44.890625 \r\nQ 49.859375 40.875 45.40625 35.40625 \r\nQ 44.1875 33.984375 37.640625 27.21875 \r\nQ 31.109375 20.453125 19.1875 8.296875 \r\nz\r\n\" id=\"DejaVuSans-50\"/>\r\n       </defs>\r\n       <use xlink:href=\"#DejaVuSans-48\"/>\r\n       <use x=\"63.623047\" xlink:href=\"#DejaVuSans-46\"/>\r\n       <use x=\"95.410156\" xlink:href=\"#DejaVuSans-50\"/>\r\n      </g>\r\n     </g>\r\n    </g>\r\n    <g id=\"xtick_3\">\r\n     <g id=\"line2d_3\">\r\n      <g>\r\n       <use style=\"stroke:#000000;stroke-width:0.8;\" x=\"180.744886\" xlink:href=\"#m59a2cc67b2\" y=\"253.44\"/>\r\n      </g>\r\n     </g>\r\n     <g id=\"text_3\">\r\n      <!-- 0.4 -->\r\n      <g transform=\"translate(172.793324 268.038437)scale(0.1 -0.1)\">\r\n       <defs>\r\n        <path d=\"M 37.796875 64.3125 \r\nL 12.890625 25.390625 \r\nL 37.796875 25.390625 \r\nz\r\nM 35.203125 72.90625 \r\nL 47.609375 72.90625 \r\nL 47.609375 25.390625 \r\nL 58.015625 25.390625 \r\nL 58.015625 17.1875 \r\nL 47.609375 17.1875 \r\nL 47.609375 0 \r\nL 37.796875 0 \r\nL 37.796875 17.1875 \r\nL 4.890625 17.1875 \r\nL 4.890625 26.703125 \r\nz\r\n\" id=\"DejaVuSans-52\"/>\r\n       </defs>\r\n       <use xlink:href=\"#DejaVuSans-48\"/>\r\n       <use x=\"63.623047\" xlink:href=\"#DejaVuSans-46\"/>\r\n       <use x=\"95.410156\" xlink:href=\"#DejaVuSans-52\"/>\r\n      </g>\r\n     </g>\r\n    </g>\r\n    <g id=\"xtick_4\">\r\n     <g id=\"line2d_4\">\r\n      <g>\r\n       <use style=\"stroke:#000000;stroke-width:0.8;\" x=\"241.617614\" xlink:href=\"#m59a2cc67b2\" y=\"253.44\"/>\r\n      </g>\r\n     </g>\r\n     <g id=\"text_4\">\r\n      <!-- 0.6 -->\r\n      <g transform=\"translate(233.666051 268.038437)scale(0.1 -0.1)\">\r\n       <defs>\r\n        <path d=\"M 33.015625 40.375 \r\nQ 26.375 40.375 22.484375 35.828125 \r\nQ 18.609375 31.296875 18.609375 23.390625 \r\nQ 18.609375 15.53125 22.484375 10.953125 \r\nQ 26.375 6.390625 33.015625 6.390625 \r\nQ 39.65625 6.390625 43.53125 10.953125 \r\nQ 47.40625 15.53125 47.40625 23.390625 \r\nQ 47.40625 31.296875 43.53125 35.828125 \r\nQ 39.65625 40.375 33.015625 40.375 \r\nz\r\nM 52.59375 71.296875 \r\nL 52.59375 62.3125 \r\nQ 48.875 64.0625 45.09375 64.984375 \r\nQ 41.3125 65.921875 37.59375 65.921875 \r\nQ 27.828125 65.921875 22.671875 59.328125 \r\nQ 17.53125 52.734375 16.796875 39.40625 \r\nQ 19.671875 43.65625 24.015625 45.921875 \r\nQ 28.375 48.1875 33.59375 48.1875 \r\nQ 44.578125 48.1875 50.953125 41.515625 \r\nQ 57.328125 34.859375 57.328125 23.390625 \r\nQ 57.328125 12.15625 50.6875 5.359375 \r\nQ 44.046875 -1.421875 33.015625 -1.421875 \r\nQ 20.359375 -1.421875 13.671875 8.265625 \r\nQ 6.984375 17.96875 6.984375 36.375 \r\nQ 6.984375 53.65625 15.1875 63.9375 \r\nQ 23.390625 74.21875 37.203125 74.21875 \r\nQ 40.921875 74.21875 44.703125 73.484375 \r\nQ 48.484375 72.75 52.59375 71.296875 \r\nz\r\n\" id=\"DejaVuSans-54\"/>\r\n       </defs>\r\n       <use xlink:href=\"#DejaVuSans-48\"/>\r\n       <use x=\"63.623047\" xlink:href=\"#DejaVuSans-46\"/>\r\n       <use x=\"95.410156\" xlink:href=\"#DejaVuSans-54\"/>\r\n      </g>\r\n     </g>\r\n    </g>\r\n    <g id=\"xtick_5\">\r\n     <g id=\"line2d_5\">\r\n      <g>\r\n       <use style=\"stroke:#000000;stroke-width:0.8;\" x=\"302.490341\" xlink:href=\"#m59a2cc67b2\" y=\"253.44\"/>\r\n      </g>\r\n     </g>\r\n     <g id=\"text_5\">\r\n      <!-- 0.8 -->\r\n      <g transform=\"translate(294.538778 268.038437)scale(0.1 -0.1)\">\r\n       <defs>\r\n        <path d=\"M 31.78125 34.625 \r\nQ 24.75 34.625 20.71875 30.859375 \r\nQ 16.703125 27.09375 16.703125 20.515625 \r\nQ 16.703125 13.921875 20.71875 10.15625 \r\nQ 24.75 6.390625 31.78125 6.390625 \r\nQ 38.8125 6.390625 42.859375 10.171875 \r\nQ 46.921875 13.96875 46.921875 20.515625 \r\nQ 46.921875 27.09375 42.890625 30.859375 \r\nQ 38.875 34.625 31.78125 34.625 \r\nz\r\nM 21.921875 38.8125 \r\nQ 15.578125 40.375 12.03125 44.71875 \r\nQ 8.5 49.078125 8.5 55.328125 \r\nQ 8.5 64.0625 14.71875 69.140625 \r\nQ 20.953125 74.21875 31.78125 74.21875 \r\nQ 42.671875 74.21875 48.875 69.140625 \r\nQ 55.078125 64.0625 55.078125 55.328125 \r\nQ 55.078125 49.078125 51.53125 44.71875 \r\nQ 48 40.375 41.703125 38.8125 \r\nQ 48.828125 37.15625 52.796875 32.3125 \r\nQ 56.78125 27.484375 56.78125 20.515625 \r\nQ 56.78125 9.90625 50.3125 4.234375 \r\nQ 43.84375 -1.421875 31.78125 -1.421875 \r\nQ 19.734375 -1.421875 13.25 4.234375 \r\nQ 6.78125 9.90625 6.78125 20.515625 \r\nQ 6.78125 27.484375 10.78125 32.3125 \r\nQ 14.796875 37.15625 21.921875 38.8125 \r\nz\r\nM 18.3125 54.390625 \r\nQ 18.3125 48.734375 21.84375 45.5625 \r\nQ 25.390625 42.390625 31.78125 42.390625 \r\nQ 38.140625 42.390625 41.71875 45.5625 \r\nQ 45.3125 48.734375 45.3125 54.390625 \r\nQ 45.3125 60.0625 41.71875 63.234375 \r\nQ 38.140625 66.40625 31.78125 66.40625 \r\nQ 25.390625 66.40625 21.84375 63.234375 \r\nQ 18.3125 60.0625 18.3125 54.390625 \r\nz\r\n\" id=\"DejaVuSans-56\"/>\r\n       </defs>\r\n       <use xlink:href=\"#DejaVuSans-48\"/>\r\n       <use x=\"63.623047\" xlink:href=\"#DejaVuSans-46\"/>\r\n       <use x=\"95.410156\" xlink:href=\"#DejaVuSans-56\"/>\r\n      </g>\r\n     </g>\r\n    </g>\r\n    <g id=\"xtick_6\">\r\n     <g id=\"line2d_6\">\r\n      <g>\r\n       <use style=\"stroke:#000000;stroke-width:0.8;\" x=\"363.363068\" xlink:href=\"#m59a2cc67b2\" y=\"253.44\"/>\r\n      </g>\r\n     </g>\r\n     <g id=\"text_6\">\r\n      <!-- 1.0 -->\r\n      <g transform=\"translate(355.411506 268.038437)scale(0.1 -0.1)\">\r\n       <defs>\r\n        <path d=\"M 12.40625 8.296875 \r\nL 28.515625 8.296875 \r\nL 28.515625 63.921875 \r\nL 10.984375 60.40625 \r\nL 10.984375 69.390625 \r\nL 28.421875 72.90625 \r\nL 38.28125 72.90625 \r\nL 38.28125 8.296875 \r\nL 54.390625 8.296875 \r\nL 54.390625 0 \r\nL 12.40625 0 \r\nz\r\n\" id=\"DejaVuSans-49\"/>\r\n       </defs>\r\n       <use xlink:href=\"#DejaVuSans-49\"/>\r\n       <use x=\"63.623047\" xlink:href=\"#DejaVuSans-46\"/>\r\n       <use x=\"95.410156\" xlink:href=\"#DejaVuSans-48\"/>\r\n      </g>\r\n     </g>\r\n    </g>\r\n    <g id=\"text_7\">\r\n     <!-- False Positive Rate (Positive label: 1) -->\r\n     <g transform=\"translate(119.815625 281.716562)scale(0.1 -0.1)\">\r\n      <defs>\r\n       <path d=\"M 9.8125 72.90625 \r\nL 51.703125 72.90625 \r\nL 51.703125 64.59375 \r\nL 19.671875 64.59375 \r\nL 19.671875 43.109375 \r\nL 48.578125 43.109375 \r\nL 48.578125 34.8125 \r\nL 19.671875 34.8125 \r\nL 19.671875 0 \r\nL 9.8125 0 \r\nz\r\n\" id=\"DejaVuSans-70\"/>\r\n       <path d=\"M 34.28125 27.484375 \r\nQ 23.390625 27.484375 19.1875 25 \r\nQ 14.984375 22.515625 14.984375 16.5 \r\nQ 14.984375 11.71875 18.140625 8.90625 \r\nQ 21.296875 6.109375 26.703125 6.109375 \r\nQ 34.1875 6.109375 38.703125 11.40625 \r\nQ 43.21875 16.703125 43.21875 25.484375 \r\nL 43.21875 27.484375 \r\nz\r\nM 52.203125 31.203125 \r\nL 52.203125 0 \r\nL 43.21875 0 \r\nL 43.21875 8.296875 \r\nQ 40.140625 3.328125 35.546875 0.953125 \r\nQ 30.953125 -1.421875 24.3125 -1.421875 \r\nQ 15.921875 -1.421875 10.953125 3.296875 \r\nQ 6 8.015625 6 15.921875 \r\nQ 6 25.140625 12.171875 29.828125 \r\nQ 18.359375 34.515625 30.609375 34.515625 \r\nL 43.21875 34.515625 \r\nL 43.21875 35.40625 \r\nQ 43.21875 41.609375 39.140625 45 \r\nQ 35.0625 48.390625 27.6875 48.390625 \r\nQ 23 48.390625 18.546875 47.265625 \r\nQ 14.109375 46.140625 10.015625 43.890625 \r\nL 10.015625 52.203125 \r\nQ 14.9375 54.109375 19.578125 55.046875 \r\nQ 24.21875 56 28.609375 56 \r\nQ 40.484375 56 46.34375 49.84375 \r\nQ 52.203125 43.703125 52.203125 31.203125 \r\nz\r\n\" id=\"DejaVuSans-97\"/>\r\n       <path d=\"M 9.421875 75.984375 \r\nL 18.40625 75.984375 \r\nL 18.40625 0 \r\nL 9.421875 0 \r\nz\r\n\" id=\"DejaVuSans-108\"/>\r\n       <path d=\"M 44.28125 53.078125 \r\nL 44.28125 44.578125 \r\nQ 40.484375 46.53125 36.375 47.5 \r\nQ 32.28125 48.484375 27.875 48.484375 \r\nQ 21.1875 48.484375 17.84375 46.4375 \r\nQ 14.5 44.390625 14.5 40.28125 \r\nQ 14.5 37.15625 16.890625 35.375 \r\nQ 19.28125 33.59375 26.515625 31.984375 \r\nL 29.59375 31.296875 \r\nQ 39.15625 29.25 43.1875 25.515625 \r\nQ 47.21875 21.78125 47.21875 15.09375 \r\nQ 47.21875 7.46875 41.1875 3.015625 \r\nQ 35.15625 -1.421875 24.609375 -1.421875 \r\nQ 20.21875 -1.421875 15.453125 -0.5625 \r\nQ 10.6875 0.296875 5.421875 2 \r\nL 5.421875 11.28125 \r\nQ 10.40625 8.6875 15.234375 7.390625 \r\nQ 20.0625 6.109375 24.8125 6.109375 \r\nQ 31.15625 6.109375 34.5625 8.28125 \r\nQ 37.984375 10.453125 37.984375 14.40625 \r\nQ 37.984375 18.0625 35.515625 20.015625 \r\nQ 33.0625 21.96875 24.703125 23.78125 \r\nL 21.578125 24.515625 \r\nQ 13.234375 26.265625 9.515625 29.90625 \r\nQ 5.8125 33.546875 5.8125 39.890625 \r\nQ 5.8125 47.609375 11.28125 51.796875 \r\nQ 16.75 56 26.8125 56 \r\nQ 31.78125 56 36.171875 55.265625 \r\nQ 40.578125 54.546875 44.28125 53.078125 \r\nz\r\n\" id=\"DejaVuSans-115\"/>\r\n       <path d=\"M 56.203125 29.59375 \r\nL 56.203125 25.203125 \r\nL 14.890625 25.203125 \r\nQ 15.484375 15.921875 20.484375 11.0625 \r\nQ 25.484375 6.203125 34.421875 6.203125 \r\nQ 39.59375 6.203125 44.453125 7.46875 \r\nQ 49.3125 8.734375 54.109375 11.28125 \r\nL 54.109375 2.78125 \r\nQ 49.265625 0.734375 44.1875 -0.34375 \r\nQ 39.109375 -1.421875 33.890625 -1.421875 \r\nQ 20.796875 -1.421875 13.15625 6.1875 \r\nQ 5.515625 13.8125 5.515625 26.8125 \r\nQ 5.515625 40.234375 12.765625 48.109375 \r\nQ 20.015625 56 32.328125 56 \r\nQ 43.359375 56 49.78125 48.890625 \r\nQ 56.203125 41.796875 56.203125 29.59375 \r\nz\r\nM 47.21875 32.234375 \r\nQ 47.125 39.59375 43.09375 43.984375 \r\nQ 39.0625 48.390625 32.421875 48.390625 \r\nQ 24.90625 48.390625 20.390625 44.140625 \r\nQ 15.875 39.890625 15.1875 32.171875 \r\nz\r\n\" id=\"DejaVuSans-101\"/>\r\n       <path id=\"DejaVuSans-32\"/>\r\n       <path d=\"M 19.671875 64.796875 \r\nL 19.671875 37.40625 \r\nL 32.078125 37.40625 \r\nQ 38.96875 37.40625 42.71875 40.96875 \r\nQ 46.484375 44.53125 46.484375 51.125 \r\nQ 46.484375 57.671875 42.71875 61.234375 \r\nQ 38.96875 64.796875 32.078125 64.796875 \r\nz\r\nM 9.8125 72.90625 \r\nL 32.078125 72.90625 \r\nQ 44.34375 72.90625 50.609375 67.359375 \r\nQ 56.890625 61.8125 56.890625 51.125 \r\nQ 56.890625 40.328125 50.609375 34.8125 \r\nQ 44.34375 29.296875 32.078125 29.296875 \r\nL 19.671875 29.296875 \r\nL 19.671875 0 \r\nL 9.8125 0 \r\nz\r\n\" id=\"DejaVuSans-80\"/>\r\n       <path d=\"M 30.609375 48.390625 \r\nQ 23.390625 48.390625 19.1875 42.75 \r\nQ 14.984375 37.109375 14.984375 27.296875 \r\nQ 14.984375 17.484375 19.15625 11.84375 \r\nQ 23.34375 6.203125 30.609375 6.203125 \r\nQ 37.796875 6.203125 41.984375 11.859375 \r\nQ 46.1875 17.53125 46.1875 27.296875 \r\nQ 46.1875 37.015625 41.984375 42.703125 \r\nQ 37.796875 48.390625 30.609375 48.390625 \r\nz\r\nM 30.609375 56 \r\nQ 42.328125 56 49.015625 48.375 \r\nQ 55.71875 40.765625 55.71875 27.296875 \r\nQ 55.71875 13.875 49.015625 6.21875 \r\nQ 42.328125 -1.421875 30.609375 -1.421875 \r\nQ 18.84375 -1.421875 12.171875 6.21875 \r\nQ 5.515625 13.875 5.515625 27.296875 \r\nQ 5.515625 40.765625 12.171875 48.375 \r\nQ 18.84375 56 30.609375 56 \r\nz\r\n\" id=\"DejaVuSans-111\"/>\r\n       <path d=\"M 9.421875 54.6875 \r\nL 18.40625 54.6875 \r\nL 18.40625 0 \r\nL 9.421875 0 \r\nz\r\nM 9.421875 75.984375 \r\nL 18.40625 75.984375 \r\nL 18.40625 64.59375 \r\nL 9.421875 64.59375 \r\nz\r\n\" id=\"DejaVuSans-105\"/>\r\n       <path d=\"M 18.3125 70.21875 \r\nL 18.3125 54.6875 \r\nL 36.8125 54.6875 \r\nL 36.8125 47.703125 \r\nL 18.3125 47.703125 \r\nL 18.3125 18.015625 \r\nQ 18.3125 11.328125 20.140625 9.421875 \r\nQ 21.96875 7.515625 27.59375 7.515625 \r\nL 36.8125 7.515625 \r\nL 36.8125 0 \r\nL 27.59375 0 \r\nQ 17.1875 0 13.234375 3.875 \r\nQ 9.28125 7.765625 9.28125 18.015625 \r\nL 9.28125 47.703125 \r\nL 2.6875 47.703125 \r\nL 2.6875 54.6875 \r\nL 9.28125 54.6875 \r\nL 9.28125 70.21875 \r\nz\r\n\" id=\"DejaVuSans-116\"/>\r\n       <path d=\"M 2.984375 54.6875 \r\nL 12.5 54.6875 \r\nL 29.59375 8.796875 \r\nL 46.6875 54.6875 \r\nL 56.203125 54.6875 \r\nL 35.6875 0 \r\nL 23.484375 0 \r\nz\r\n\" id=\"DejaVuSans-118\"/>\r\n       <path d=\"M 44.390625 34.1875 \r\nQ 47.5625 33.109375 50.5625 29.59375 \r\nQ 53.5625 26.078125 56.59375 19.921875 \r\nL 66.609375 0 \r\nL 56 0 \r\nL 46.6875 18.703125 \r\nQ 43.0625 26.03125 39.671875 28.421875 \r\nQ 36.28125 30.8125 30.421875 30.8125 \r\nL 19.671875 30.8125 \r\nL 19.671875 0 \r\nL 9.8125 0 \r\nL 9.8125 72.90625 \r\nL 32.078125 72.90625 \r\nQ 44.578125 72.90625 50.734375 67.671875 \r\nQ 56.890625 62.453125 56.890625 51.90625 \r\nQ 56.890625 45.015625 53.6875 40.46875 \r\nQ 50.484375 35.9375 44.390625 34.1875 \r\nz\r\nM 19.671875 64.796875 \r\nL 19.671875 38.921875 \r\nL 32.078125 38.921875 \r\nQ 39.203125 38.921875 42.84375 42.21875 \r\nQ 46.484375 45.515625 46.484375 51.90625 \r\nQ 46.484375 58.296875 42.84375 61.546875 \r\nQ 39.203125 64.796875 32.078125 64.796875 \r\nz\r\n\" id=\"DejaVuSans-82\"/>\r\n       <path d=\"M 31 75.875 \r\nQ 24.46875 64.65625 21.28125 53.65625 \r\nQ 18.109375 42.671875 18.109375 31.390625 \r\nQ 18.109375 20.125 21.3125 9.0625 \r\nQ 24.515625 -2 31 -13.1875 \r\nL 23.1875 -13.1875 \r\nQ 15.875 -1.703125 12.234375 9.375 \r\nQ 8.59375 20.453125 8.59375 31.390625 \r\nQ 8.59375 42.28125 12.203125 53.3125 \r\nQ 15.828125 64.359375 23.1875 75.875 \r\nz\r\n\" id=\"DejaVuSans-40\"/>\r\n       <path d=\"M 48.6875 27.296875 \r\nQ 48.6875 37.203125 44.609375 42.84375 \r\nQ 40.53125 48.484375 33.40625 48.484375 \r\nQ 26.265625 48.484375 22.1875 42.84375 \r\nQ 18.109375 37.203125 18.109375 27.296875 \r\nQ 18.109375 17.390625 22.1875 11.75 \r\nQ 26.265625 6.109375 33.40625 6.109375 \r\nQ 40.53125 6.109375 44.609375 11.75 \r\nQ 48.6875 17.390625 48.6875 27.296875 \r\nz\r\nM 18.109375 46.390625 \r\nQ 20.953125 51.265625 25.265625 53.625 \r\nQ 29.59375 56 35.59375 56 \r\nQ 45.5625 56 51.78125 48.09375 \r\nQ 58.015625 40.1875 58.015625 27.296875 \r\nQ 58.015625 14.40625 51.78125 6.484375 \r\nQ 45.5625 -1.421875 35.59375 -1.421875 \r\nQ 29.59375 -1.421875 25.265625 0.953125 \r\nQ 20.953125 3.328125 18.109375 8.203125 \r\nL 18.109375 0 \r\nL 9.078125 0 \r\nL 9.078125 75.984375 \r\nL 18.109375 75.984375 \r\nz\r\n\" id=\"DejaVuSans-98\"/>\r\n       <path d=\"M 11.71875 12.40625 \r\nL 22.015625 12.40625 \r\nL 22.015625 0 \r\nL 11.71875 0 \r\nz\r\nM 11.71875 51.703125 \r\nL 22.015625 51.703125 \r\nL 22.015625 39.3125 \r\nL 11.71875 39.3125 \r\nz\r\n\" id=\"DejaVuSans-58\"/>\r\n       <path d=\"M 8.015625 75.875 \r\nL 15.828125 75.875 \r\nQ 23.140625 64.359375 26.78125 53.3125 \r\nQ 30.421875 42.28125 30.421875 31.390625 \r\nQ 30.421875 20.453125 26.78125 9.375 \r\nQ 23.140625 -1.703125 15.828125 -13.1875 \r\nL 8.015625 -13.1875 \r\nQ 14.5 -2 17.703125 9.0625 \r\nQ 20.90625 20.125 20.90625 31.390625 \r\nQ 20.90625 42.671875 17.703125 53.65625 \r\nQ 14.5 64.65625 8.015625 75.875 \r\nz\r\n\" id=\"DejaVuSans-41\"/>\r\n      </defs>\r\n      <use xlink:href=\"#DejaVuSans-70\"/>\r\n      <use x=\"48.394531\" xlink:href=\"#DejaVuSans-97\"/>\r\n      <use x=\"109.673828\" xlink:href=\"#DejaVuSans-108\"/>\r\n      <use x=\"137.457031\" xlink:href=\"#DejaVuSans-115\"/>\r\n      <use x=\"189.556641\" xlink:href=\"#DejaVuSans-101\"/>\r\n      <use x=\"251.080078\" xlink:href=\"#DejaVuSans-32\"/>\r\n      <use x=\"282.867188\" xlink:href=\"#DejaVuSans-80\"/>\r\n      <use x=\"339.544922\" xlink:href=\"#DejaVuSans-111\"/>\r\n      <use x=\"400.726562\" xlink:href=\"#DejaVuSans-115\"/>\r\n      <use x=\"452.826172\" xlink:href=\"#DejaVuSans-105\"/>\r\n      <use x=\"480.609375\" xlink:href=\"#DejaVuSans-116\"/>\r\n      <use x=\"519.818359\" xlink:href=\"#DejaVuSans-105\"/>\r\n      <use x=\"547.601562\" xlink:href=\"#DejaVuSans-118\"/>\r\n      <use x=\"606.78125\" xlink:href=\"#DejaVuSans-101\"/>\r\n      <use x=\"668.304688\" xlink:href=\"#DejaVuSans-32\"/>\r\n      <use x=\"700.091797\" xlink:href=\"#DejaVuSans-82\"/>\r\n      <use x=\"767.324219\" xlink:href=\"#DejaVuSans-97\"/>\r\n      <use x=\"828.603516\" xlink:href=\"#DejaVuSans-116\"/>\r\n      <use x=\"867.8125\" xlink:href=\"#DejaVuSans-101\"/>\r\n      <use x=\"929.335938\" xlink:href=\"#DejaVuSans-32\"/>\r\n      <use x=\"961.123047\" xlink:href=\"#DejaVuSans-40\"/>\r\n      <use x=\"1000.136719\" xlink:href=\"#DejaVuSans-80\"/>\r\n      <use x=\"1056.814453\" xlink:href=\"#DejaVuSans-111\"/>\r\n      <use x=\"1117.996094\" xlink:href=\"#DejaVuSans-115\"/>\r\n      <use x=\"1170.095703\" xlink:href=\"#DejaVuSans-105\"/>\r\n      <use x=\"1197.878906\" xlink:href=\"#DejaVuSans-116\"/>\r\n      <use x=\"1237.087891\" xlink:href=\"#DejaVuSans-105\"/>\r\n      <use x=\"1264.871094\" xlink:href=\"#DejaVuSans-118\"/>\r\n      <use x=\"1324.050781\" xlink:href=\"#DejaVuSans-101\"/>\r\n      <use x=\"1385.574219\" xlink:href=\"#DejaVuSans-32\"/>\r\n      <use x=\"1417.361328\" xlink:href=\"#DejaVuSans-108\"/>\r\n      <use x=\"1445.144531\" xlink:href=\"#DejaVuSans-97\"/>\r\n      <use x=\"1506.423828\" xlink:href=\"#DejaVuSans-98\"/>\r\n      <use x=\"1569.900391\" xlink:href=\"#DejaVuSans-101\"/>\r\n      <use x=\"1631.423828\" xlink:href=\"#DejaVuSans-108\"/>\r\n      <use x=\"1659.207031\" xlink:href=\"#DejaVuSans-58\"/>\r\n      <use x=\"1692.898438\" xlink:href=\"#DejaVuSans-32\"/>\r\n      <use x=\"1724.685547\" xlink:href=\"#DejaVuSans-49\"/>\r\n      <use x=\"1788.308594\" xlink:href=\"#DejaVuSans-41\"/>\r\n     </g>\r\n    </g>\r\n   </g>\r\n   <g id=\"matplotlib.axis_2\">\r\n    <g id=\"ytick_1\">\r\n     <g id=\"line2d_7\">\r\n      <defs>\r\n       <path d=\"M 0 0 \r\nL -3.5 0 \r\n\" id=\"m7c3c5ae579\" style=\"stroke:#000000;stroke-width:0.8;\"/>\r\n      </defs>\r\n      <g>\r\n       <use style=\"stroke:#000000;stroke-width:0.8;\" x=\"43.78125\" xlink:href=\"#m7c3c5ae579\" y=\"243.556364\"/>\r\n      </g>\r\n     </g>\r\n     <g id=\"text_8\">\r\n      <!-- 0.0 -->\r\n      <g transform=\"translate(20.878125 247.355582)scale(0.1 -0.1)\">\r\n       <use xlink:href=\"#DejaVuSans-48\"/>\r\n       <use x=\"63.623047\" xlink:href=\"#DejaVuSans-46\"/>\r\n       <use x=\"95.410156\" xlink:href=\"#DejaVuSans-48\"/>\r\n      </g>\r\n     </g>\r\n    </g>\r\n    <g id=\"ytick_2\">\r\n     <g id=\"line2d_8\">\r\n      <g>\r\n       <use style=\"stroke:#000000;stroke-width:0.8;\" x=\"43.78125\" xlink:href=\"#m7c3c5ae579\" y=\"204.021818\"/>\r\n      </g>\r\n     </g>\r\n     <g id=\"text_9\">\r\n      <!-- 0.2 -->\r\n      <g transform=\"translate(20.878125 207.821037)scale(0.1 -0.1)\">\r\n       <use xlink:href=\"#DejaVuSans-48\"/>\r\n       <use x=\"63.623047\" xlink:href=\"#DejaVuSans-46\"/>\r\n       <use x=\"95.410156\" xlink:href=\"#DejaVuSans-50\"/>\r\n      </g>\r\n     </g>\r\n    </g>\r\n    <g id=\"ytick_3\">\r\n     <g id=\"line2d_9\">\r\n      <g>\r\n       <use style=\"stroke:#000000;stroke-width:0.8;\" x=\"43.78125\" xlink:href=\"#m7c3c5ae579\" y=\"164.487273\"/>\r\n      </g>\r\n     </g>\r\n     <g id=\"text_10\">\r\n      <!-- 0.4 -->\r\n      <g transform=\"translate(20.878125 168.286491)scale(0.1 -0.1)\">\r\n       <use xlink:href=\"#DejaVuSans-48\"/>\r\n       <use x=\"63.623047\" xlink:href=\"#DejaVuSans-46\"/>\r\n       <use x=\"95.410156\" xlink:href=\"#DejaVuSans-52\"/>\r\n      </g>\r\n     </g>\r\n    </g>\r\n    <g id=\"ytick_4\">\r\n     <g id=\"line2d_10\">\r\n      <g>\r\n       <use style=\"stroke:#000000;stroke-width:0.8;\" x=\"43.78125\" xlink:href=\"#m7c3c5ae579\" y=\"124.952727\"/>\r\n      </g>\r\n     </g>\r\n     <g id=\"text_11\">\r\n      <!-- 0.6 -->\r\n      <g transform=\"translate(20.878125 128.751946)scale(0.1 -0.1)\">\r\n       <use xlink:href=\"#DejaVuSans-48\"/>\r\n       <use x=\"63.623047\" xlink:href=\"#DejaVuSans-46\"/>\r\n       <use x=\"95.410156\" xlink:href=\"#DejaVuSans-54\"/>\r\n      </g>\r\n     </g>\r\n    </g>\r\n    <g id=\"ytick_5\">\r\n     <g id=\"line2d_11\">\r\n      <g>\r\n       <use style=\"stroke:#000000;stroke-width:0.8;\" x=\"43.78125\" xlink:href=\"#m7c3c5ae579\" y=\"85.418182\"/>\r\n      </g>\r\n     </g>\r\n     <g id=\"text_12\">\r\n      <!-- 0.8 -->\r\n      <g transform=\"translate(20.878125 89.217401)scale(0.1 -0.1)\">\r\n       <use xlink:href=\"#DejaVuSans-48\"/>\r\n       <use x=\"63.623047\" xlink:href=\"#DejaVuSans-46\"/>\r\n       <use x=\"95.410156\" xlink:href=\"#DejaVuSans-56\"/>\r\n      </g>\r\n     </g>\r\n    </g>\r\n    <g id=\"ytick_6\">\r\n     <g id=\"line2d_12\">\r\n      <g>\r\n       <use style=\"stroke:#000000;stroke-width:0.8;\" x=\"43.78125\" xlink:href=\"#m7c3c5ae579\" y=\"45.883636\"/>\r\n      </g>\r\n     </g>\r\n     <g id=\"text_13\">\r\n      <!-- 1.0 -->\r\n      <g transform=\"translate(20.878125 49.682855)scale(0.1 -0.1)\">\r\n       <use xlink:href=\"#DejaVuSans-49\"/>\r\n       <use x=\"63.623047\" xlink:href=\"#DejaVuSans-46\"/>\r\n       <use x=\"95.410156\" xlink:href=\"#DejaVuSans-48\"/>\r\n      </g>\r\n     </g>\r\n    </g>\r\n    <g id=\"text_14\">\r\n     <!-- True Positive Rate (Positive label: 1) -->\r\n     <g transform=\"translate(14.798438 234.148906)rotate(-90)scale(0.1 -0.1)\">\r\n      <defs>\r\n       <path d=\"M -0.296875 72.90625 \r\nL 61.375 72.90625 \r\nL 61.375 64.59375 \r\nL 35.5 64.59375 \r\nL 35.5 0 \r\nL 25.59375 0 \r\nL 25.59375 64.59375 \r\nL -0.296875 64.59375 \r\nz\r\n\" id=\"DejaVuSans-84\"/>\r\n       <path d=\"M 41.109375 46.296875 \r\nQ 39.59375 47.171875 37.8125 47.578125 \r\nQ 36.03125 48 33.890625 48 \r\nQ 26.265625 48 22.1875 43.046875 \r\nQ 18.109375 38.09375 18.109375 28.8125 \r\nL 18.109375 0 \r\nL 9.078125 0 \r\nL 9.078125 54.6875 \r\nL 18.109375 54.6875 \r\nL 18.109375 46.1875 \r\nQ 20.953125 51.171875 25.484375 53.578125 \r\nQ 30.03125 56 36.53125 56 \r\nQ 37.453125 56 38.578125 55.875 \r\nQ 39.703125 55.765625 41.0625 55.515625 \r\nz\r\n\" id=\"DejaVuSans-114\"/>\r\n       <path d=\"M 8.5 21.578125 \r\nL 8.5 54.6875 \r\nL 17.484375 54.6875 \r\nL 17.484375 21.921875 \r\nQ 17.484375 14.15625 20.5 10.265625 \r\nQ 23.53125 6.390625 29.59375 6.390625 \r\nQ 36.859375 6.390625 41.078125 11.03125 \r\nQ 45.3125 15.671875 45.3125 23.6875 \r\nL 45.3125 54.6875 \r\nL 54.296875 54.6875 \r\nL 54.296875 0 \r\nL 45.3125 0 \r\nL 45.3125 8.40625 \r\nQ 42.046875 3.421875 37.71875 1 \r\nQ 33.40625 -1.421875 27.6875 -1.421875 \r\nQ 18.265625 -1.421875 13.375 4.4375 \r\nQ 8.5 10.296875 8.5 21.578125 \r\nz\r\nM 31.109375 56 \r\nz\r\n\" id=\"DejaVuSans-117\"/>\r\n      </defs>\r\n      <use xlink:href=\"#DejaVuSans-84\"/>\r\n      <use x=\"46.333984\" xlink:href=\"#DejaVuSans-114\"/>\r\n      <use x=\"87.447266\" xlink:href=\"#DejaVuSans-117\"/>\r\n      <use x=\"150.826172\" xlink:href=\"#DejaVuSans-101\"/>\r\n      <use x=\"212.349609\" xlink:href=\"#DejaVuSans-32\"/>\r\n      <use x=\"244.136719\" xlink:href=\"#DejaVuSans-80\"/>\r\n      <use x=\"300.814453\" xlink:href=\"#DejaVuSans-111\"/>\r\n      <use x=\"361.996094\" xlink:href=\"#DejaVuSans-115\"/>\r\n      <use x=\"414.095703\" xlink:href=\"#DejaVuSans-105\"/>\r\n      <use x=\"441.878906\" xlink:href=\"#DejaVuSans-116\"/>\r\n      <use x=\"481.087891\" xlink:href=\"#DejaVuSans-105\"/>\r\n      <use x=\"508.871094\" xlink:href=\"#DejaVuSans-118\"/>\r\n      <use x=\"568.050781\" xlink:href=\"#DejaVuSans-101\"/>\r\n      <use x=\"629.574219\" xlink:href=\"#DejaVuSans-32\"/>\r\n      <use x=\"661.361328\" xlink:href=\"#DejaVuSans-82\"/>\r\n      <use x=\"728.59375\" xlink:href=\"#DejaVuSans-97\"/>\r\n      <use x=\"789.873047\" xlink:href=\"#DejaVuSans-116\"/>\r\n      <use x=\"829.082031\" xlink:href=\"#DejaVuSans-101\"/>\r\n      <use x=\"890.605469\" xlink:href=\"#DejaVuSans-32\"/>\r\n      <use x=\"922.392578\" xlink:href=\"#DejaVuSans-40\"/>\r\n      <use x=\"961.40625\" xlink:href=\"#DejaVuSans-80\"/>\r\n      <use x=\"1018.083984\" xlink:href=\"#DejaVuSans-111\"/>\r\n      <use x=\"1079.265625\" xlink:href=\"#DejaVuSans-115\"/>\r\n      <use x=\"1131.365234\" xlink:href=\"#DejaVuSans-105\"/>\r\n      <use x=\"1159.148438\" xlink:href=\"#DejaVuSans-116\"/>\r\n      <use x=\"1198.357422\" xlink:href=\"#DejaVuSans-105\"/>\r\n      <use x=\"1226.140625\" xlink:href=\"#DejaVuSans-118\"/>\r\n      <use x=\"1285.320312\" xlink:href=\"#DejaVuSans-101\"/>\r\n      <use x=\"1346.84375\" xlink:href=\"#DejaVuSans-32\"/>\r\n      <use x=\"1378.630859\" xlink:href=\"#DejaVuSans-108\"/>\r\n      <use x=\"1406.414062\" xlink:href=\"#DejaVuSans-97\"/>\r\n      <use x=\"1467.693359\" xlink:href=\"#DejaVuSans-98\"/>\r\n      <use x=\"1531.169922\" xlink:href=\"#DejaVuSans-101\"/>\r\n      <use x=\"1592.693359\" xlink:href=\"#DejaVuSans-108\"/>\r\n      <use x=\"1620.476562\" xlink:href=\"#DejaVuSans-58\"/>\r\n      <use x=\"1654.167969\" xlink:href=\"#DejaVuSans-32\"/>\r\n      <use x=\"1685.955078\" xlink:href=\"#DejaVuSans-49\"/>\r\n      <use x=\"1749.578125\" xlink:href=\"#DejaVuSans-41\"/>\r\n     </g>\r\n    </g>\r\n   </g>\r\n   <g id=\"line2d_13\">\r\n    <path clip-path=\"url(#p81fd0b64fc)\" d=\"M 58.999432 243.556364 \r\nL 59.00831 136.573213 \r\nL 59.327907 136.516638 \r\nL 59.327907 136.460063 \r\nL 59.674138 136.403489 \r\nL 59.674138 136.346914 \r\nL 59.833937 136.290339 \r\nL 59.833937 136.233764 \r\nL 60.384356 136.177189 \r\nL 60.384356 136.120614 \r\nL 60.961407 136.064039 \r\nL 61.059062 135.950889 \r\nL 61.431926 135.894314 \r\nL 61.431926 135.83774 \r\nL 61.795913 135.781165 \r\nL 61.795913 135.72459 \r\nL 63.003282 135.668015 \r\nL 63.038793 135.554865 \r\nL 63.580334 135.49829 \r\nL 63.6336 135.38514 \r\nL 64.556882 135.328565 \r\nL 64.556882 135.215416 \r\nL 64.832092 135.158841 \r\nL 64.920869 134.932541 \r\nL 65.46241 134.875966 \r\nL 65.46241 134.819391 \r\nL 65.924051 134.762816 \r\nL 65.924051 134.706241 \r\nL 66.341303 134.649666 \r\nL 66.421203 134.423367 \r\nL 66.785189 134.366792 \r\nL 66.891722 134.253642 \r\nL 67.264586 134.197067 \r\nL 67.264586 134.140492 \r\nL 67.495407 134.083917 \r\nL 67.495407 134.027342 \r\nL 67.735105 133.970768 \r\nL 67.735105 133.914193 \r\nL 68.001436 133.857618 \r\nL 68.001436 133.801043 \r\nL 68.84482 133.744468 \r\nL 68.933597 133.518168 \r\nL 69.182173 133.461593 \r\nL 69.182173 133.405018 \r\nL 69.839124 133.348444 \r\nL 69.839124 133.291869 \r\nL 70.442809 133.235294 \r\nL 70.442809 133.178719 \r\nL 71.179659 133.122144 \r\nL 71.179659 133.065569 \r\nL 71.543645 133.008994 \r\nL 71.596912 132.839269 \r\nL 71.783344 132.782694 \r\nL 71.783344 132.72612 \r\nL 71.987531 132.72612 \r\nL 72.067431 132.556395 \r\nL 72.45805 132.49982 \r\nL 72.45805 132.443245 \r\nL 73.150512 132.38667 \r\nL 73.150512 132.330095 \r\nL 73.567765 132.27352 \r\nL 73.567765 132.216945 \r\nL 73.985017 132.160371 \r\nL 73.985017 132.103796 \r\nL 74.144816 132.047221 \r\nL 74.144816 131.990646 \r\nL 74.340126 131.934071 \r\nL 74.340126 131.877496 \r\nL 74.686357 131.820921 \r\nL 74.757379 131.651196 \r\nL 75.21902 131.594621 \r\nL 75.21902 131.538047 \r\nL 75.378819 131.538047 \r\nL 75.378819 131.424897 \r\nL 75.858216 131.368322 \r\nL 75.858216 131.311747 \r\nL 76.186691 131.255172 \r\nL 76.204447 131.142022 \r\nL 76.674966 131.085447 \r\nL 76.674966 131.028872 \r\nL 76.879153 131.028872 \r\nL 76.914664 130.859148 \r\nL 77.172118 130.802573 \r\nL 77.172118 130.745998 \r\nL 77.580493 130.689423 \r\nL 77.642637 130.576273 \r\nL 77.90009 130.519698 \r\nL 77.97999 130.406548 \r\nL 78.441631 130.349973 \r\nL 78.539286 130.236824 \r\nL 79.125215 130.180249 \r\nL 79.151849 130.067099 \r\nL 79.276137 130.010524 \r\nL 79.364914 129.840799 \r\nL 80.075131 129.784224 \r\nL 80.075131 129.727649 \r\nL 81.113824 129.671075 \r\nL 81.122702 129.557925 \r\nL 81.548832 129.50135 \r\nL 81.548832 129.444775 \r\nL 81.930574 129.3882 \r\nL 81.930574 129.331625 \r\nL 82.48987 129.27505 \r\nL 82.552014 129.1619 \r\nL 82.898245 129.105325 \r\nL 82.951511 128.992176 \r\nL 83.599585 128.935601 \r\nL 83.599585 128.879026 \r\nL 84.460723 128.822451 \r\nL 84.460723 128.765876 \r\nL 85.694726 128.709301 \r\nL 85.801258 128.539576 \r\nL 86.005446 128.483002 \r\nL 86.085345 128.369852 \r\nL 86.245144 128.313277 \r\nL 86.289533 128.143552 \r\nL 86.600253 128.086977 \r\nL 86.600253 128.030402 \r\nL 87.061894 127.973827 \r\nL 87.132916 127.804103 \r\nL 87.488024 127.747528 \r\nL 87.567924 127.577803 \r\nL 87.745478 127.521228 \r\nL 87.8165 127.351503 \r\nL 87.949666 127.294928 \r\nL 88.047321 127.181779 \r\nL 88.384674 127.125204 \r\nL 88.384674 127.068629 \r\nL 88.810804 127.012054 \r\nL 88.810804 126.955479 \r\nL 89.307956 126.898904 \r\nL 89.307956 126.842329 \r\nL 89.689698 126.785754 \r\nL 89.689698 126.729179 \r\nL 89.964907 126.672604 \r\nL 89.964907 126.61603 \r\nL 90.38216 126.559455 \r\nL 90.38216 126.446305 \r\nL 91.971271 126.38973 \r\nL 91.980149 126.27658 \r\nL 92.361891 126.220005 \r\nL 92.361891 126.16343 \r\nL 92.743633 126.106855 \r\nL 92.75251 125.993706 \r\nL 92.974453 125.937131 \r\nL 93.072108 125.823981 \r\nL 93.329562 125.767406 \r\nL 93.329562 125.710831 \r\nL 93.533749 125.654256 \r\nL 93.533749 125.597681 \r\nL 93.986513 125.541106 \r\nL 93.986513 125.484531 \r\nL 94.1907 125.427956 \r\nL 94.199578 125.314807 \r\nL 95.078472 125.258232 \r\nL 95.140616 124.975357 \r\nL 95.51348 124.918782 \r\nL 95.51348 124.862207 \r\nL 96.126043 124.805633 \r\nL 96.205942 124.692483 \r\nL 96.481151 124.635908 \r\nL 96.569929 124.522758 \r\nL 96.818505 124.466183 \r\nL 96.818505 124.409608 \r\nL 97.164736 124.353033 \r\nL 97.164736 124.296458 \r\nL 97.812809 124.239883 \r\nL 97.812809 124.183309 \r\nL 98.15904 124.126734 \r\nL 98.15904 124.070159 \r\nL 98.824869 124.013584 \r\nL 98.824869 123.957009 \r\nL 99.313143 123.900434 \r\nL 99.313143 123.843859 \r\nL 99.79254 123.787284 \r\nL 99.79254 123.730709 \r\nL 100.129893 123.674134 \r\nL 100.174281 123.560985 \r\nL 100.33408 123.50441 \r\nL 100.33408 123.447835 \r\nL 100.653678 123.39126 \r\nL 100.671434 123.27811 \r\nL 101.097564 123.221535 \r\nL 101.097564 123.16496 \r\nL 101.514817 123.108385 \r\nL 101.514817 123.05181 \r\nL 101.834414 122.995235 \r\nL 101.861048 122.882086 \r\nL 102.455855 122.825511 \r\nL 102.562387 122.655786 \r\nL 102.881985 122.599211 \r\nL 102.970762 122.486061 \r\nL 103.308115 122.429486 \r\nL 103.308115 122.372911 \r\nL 103.592202 122.316337 \r\nL 103.592202 122.259762 \r\nL 104.10711 122.203187 \r\nL 104.10711 122.146612 \r\nL 104.542118 122.090037 \r\nL 104.568751 121.920312 \r\nL 105.216825 121.863737 \r\nL 105.216825 121.807162 \r\nL 106.344295 121.750588 \r\nL 106.36205 121.580863 \r\nL 106.708281 121.524288 \r\nL 106.743792 121.411138 \r\nL 107.143289 121.354563 \r\nL 107.232066 121.241413 \r\nL 107.817995 121.184838 \r\nL 107.817995 121.128264 \r\nL 108.173104 121.071689 \r\nL 108.261881 120.845389 \r\nL 108.519335 120.788814 \r\nL 108.581479 120.675664 \r\nL 109.460373 120.619089 \r\nL 109.487006 120.50594 \r\nL 109.833237 120.449365 \r\nL 109.833237 120.39279 \r\nL 110.649987 120.336215 \r\nL 110.712131 120.16649 \r\nL 110.969585 120.109915 \r\nL 110.969585 120.05334 \r\nL 111.990522 119.996765 \r\nL 112.088177 119.827041 \r\nL 112.39002 119.770466 \r\nL 112.39002 119.713891 \r\nL 113.153503 119.657316 \r\nL 113.153503 119.600741 \r\nL 113.659533 119.544166 \r\nL 113.659533 119.487591 \r\nL 114.64496 119.431016 \r\nL 114.64496 119.374441 \r\nL 115.310788 119.317866 \r\nL 115.38181 119.148142 \r\nL 115.639264 119.091567 \r\nL 115.639264 119.034992 \r\nL 116.136416 118.978417 \r\nL 116.136416 118.921842 \r\nL 116.384992 118.865267 \r\nL 116.384992 118.752117 \r\nL 117.033065 118.695542 \r\nL 117.033065 118.638968 \r\nL 117.343785 118.582393 \r\nL 117.343785 118.525818 \r\nL 118.240435 118.469243 \r\nL 118.240435 118.412668 \r\nL 119.057185 118.356093 \r\nL 119.057185 118.299518 \r\nL 119.474437 118.242943 \r\nL 119.474437 118.186368 \r\nL 119.856179 118.129793 \r\nL 119.856179 118.073219 \r\nL 120.59303 118.016644 \r\nL 120.59303 117.960069 \r\nL 121.090182 117.903494 \r\nL 121.196714 117.677194 \r\nL 121.631723 117.620619 \r\nL 121.631723 117.564044 \r\nL 122.208774 117.507469 \r\nL 122.217652 117.39432 \r\nL 122.492861 117.337745 \r\nL 122.492861 117.28117 \r\nL 122.972258 117.224595 \r\nL 123.052157 117.111445 \r\nL 123.460532 117.05487 \r\nL 123.460532 116.998295 \r\nL 123.842274 116.94172 \r\nL 123.842274 116.885145 \r\nL 124.339426 116.828571 \r\nL 124.339426 116.771996 \r\nL 124.783312 116.715421 \r\nL 124.783312 116.658846 \r\nL 125.058521 116.658846 \r\nL 125.120665 116.489121 \r\nL 125.41363 116.432546 \r\nL 125.41363 116.375971 \r\nL 125.822005 116.319396 \r\nL 125.893026 116.206247 \r\nL 126.754165 116.149672 \r\nL 126.825187 116.036522 \r\nL 127.073763 115.979947 \r\nL 127.127029 115.810222 \r\nL 127.970412 115.753647 \r\nL 128.041434 115.640497 \r\nL 128.369909 115.583923 \r\nL 128.396543 115.470773 \r\nL 128.503075 115.470773 \r\nL 128.60073 115.244473 \r\nL 128.840428 115.244473 \r\nL 128.902572 115.074748 \r\nL 129.062371 115.018173 \r\nL 129.115638 114.905024 \r\nL 129.239926 114.848449 \r\nL 129.248803 114.735299 \r\nL 130.083309 114.678724 \r\nL 130.163208 114.508999 \r\nL 130.997714 114.452424 \r\nL 131.077613 114.339275 \r\nL 131.414966 114.2827 \r\nL 131.450477 114.112975 \r\nL 131.690175 114.0564 \r\nL 131.690175 113.999825 \r\nL 132.134061 113.94325 \r\nL 132.134061 113.886675 \r\nL 132.524681 113.8301 \r\nL 132.524681 113.773526 \r\nL 133.510107 113.716951 \r\nL 133.572251 113.603801 \r\nL 134.211447 113.547226 \r\nL 134.31798 113.434076 \r\nL 134.6287 113.377501 \r\nL 134.699721 113.264351 \r\nL 134.85952 113.207776 \r\nL 134.85952 113.151202 \r\nL 135.534227 113.094627 \r\nL 135.640759 112.924902 \r\nL 136.058012 112.868327 \r\nL 136.058012 112.811752 \r\nL 136.670574 112.755177 \r\nL 136.768229 112.642027 \r\nL 138.019987 112.585452 \r\nL 138.108765 112.472303 \r\nL 138.463873 112.415728 \r\nL 138.463873 112.359153 \r\nL 139.111947 112.302578 \r\nL 139.174091 112.132853 \r\nL 139.333889 112.076278 \r\nL 139.333889 112.019703 \r\nL 140.035229 111.963128 \r\nL 140.035229 111.906554 \r\nL 140.416971 111.849979 \r\nL 140.514626 111.736829 \r\nL 141.366887 111.680254 \r\nL 141.366887 111.623679 \r\nL 141.597707 111.567104 \r\nL 141.597707 111.510529 \r\nL 142.538745 111.453954 \r\nL 142.592011 111.340804 \r\nL 143.275596 111.28423 \r\nL 143.311106 111.17108 \r\nL 143.692848 111.114505 \r\nL 143.719481 111.001355 \r\nL 144.527354 110.94478 \r\nL 144.527354 110.888205 \r\nL 144.704908 110.83163 \r\nL 144.731541 110.661906 \r\nL 145.699212 110.605331 \r\nL 145.699212 110.548756 \r\nL 146.507084 110.492181 \r\nL 146.595862 110.322456 \r\nL 147.306079 110.265881 \r\nL 147.403734 110.039582 \r\nL 147.785476 109.983007 \r\nL 147.883131 109.813282 \r\nL 148.77978 109.756707 \r\nL 148.833046 109.643557 \r\nL 149.054989 109.586982 \r\nL 149.054989 109.530407 \r\nL 149.392342 109.473833 \r\nL 149.418976 109.304108 \r\nL 150.111437 109.247533 \r\nL 150.111437 109.190958 \r\nL 150.377769 109.134383 \r\nL 150.439913 109.021233 \r\nL 150.510935 109.021233 \r\nL 150.546446 108.851509 \r\nL 150.937065 108.794934 \r\nL 151.025842 108.681784 \r\nL 151.549628 108.625209 \r\nL 151.549628 108.568634 \r\nL 152.330867 108.512059 \r\nL 152.330867 108.455484 \r\nL 152.455155 108.398909 \r\nL 152.517299 108.285759 \r\nL 152.89904 108.229185 \r\nL 152.89904 108.17261 \r\nL 153.564869 108.17261 \r\nL 153.582625 108.002885 \r\nL 154.390497 107.94631 \r\nL 154.390497 107.889735 \r\nL 154.674584 107.83316 \r\nL 154.674584 107.776585 \r\nL 155.588989 107.72001 \r\nL 155.624499 107.606861 \r\nL 156.450127 107.550286 \r\nL 156.521149 107.437136 \r\nL 157.044934 107.380561 \r\nL 157.044934 107.323986 \r\nL 157.497698 107.267411 \r\nL 157.497698 107.210836 \r\nL 157.977094 107.154261 \r\nL 158.065872 107.041112 \r\nL 158.651801 106.984537 \r\nL 158.651801 106.927962 \r\nL 158.998032 106.927962 \r\nL 159.04242 106.758237 \r\nL 159.335385 106.701662 \r\nL 159.43304 106.588512 \r\nL 159.654983 106.531937 \r\nL 159.726005 106.305638 \r\nL 159.850293 106.249063 \r\nL 159.93907 106.135913 \r\nL 161.119806 106.079338 \r\nL 161.119806 106.022763 \r\nL 161.261849 105.966188 \r\nL 161.288483 105.796464 \r\nL 162.043089 105.739889 \r\nL 162.043089 105.626739 \r\nL 162.655651 105.570164 \r\nL 162.691162 105.457014 \r\nL 163.223825 105.400439 \r\nL 163.223825 105.343864 \r\nL 163.800876 105.287289 \r\nL 163.800876 105.230714 \r\nL 164.102719 105.17414 \r\nL 164.182618 105.06099 \r\nL 164.333539 105.004415 \r\nL 164.333539 104.94784 \r\nL 165.363355 104.891265 \r\nL 165.469887 104.72154 \r\nL 165.789485 104.664965 \r\nL 165.860507 104.495241 \r\nL 166.615113 104.438666 \r\nL 166.70389 104.325516 \r\nL 167.147776 104.268941 \r\nL 167.183286 104.155791 \r\nL 167.547273 104.099216 \r\nL 167.547273 104.042641 \r\nL 167.822482 103.986067 \r\nL 167.884626 103.816342 \r\nL 168.639232 103.759767 \r\nL 168.639232 103.703192 \r\nL 169.313938 103.646617 \r\nL 169.313938 103.590042 \r\nL 169.740069 103.533467 \r\nL 169.740069 103.476892 \r\nL 170.112933 103.420317 \r\nL 170.112933 103.307168 \r\nL 170.911927 103.250593 \r\nL 170.991827 103.080868 \r\nL 171.258158 103.024293 \r\nL 171.258158 102.967718 \r\nL 171.613267 102.911143 \r\nL 171.702044 102.797993 \r\nL 171.923987 102.741419 \r\nL 171.95062 102.628269 \r\nL 172.26134 102.571694 \r\nL 172.332362 102.458544 \r\nL 172.882781 102.401969 \r\nL 172.980435 102.288819 \r\nL 173.229011 102.232244 \r\nL 173.229011 102.175669 \r\nL 173.637386 102.119095 \r\nL 173.637386 102.06252 \r\nL 173.930351 102.005945 \r\nL 173.930351 101.94937 \r\nL 174.383115 101.892795 \r\nL 174.383115 101.83622 \r\nL 174.871389 101.779645 \r\nL 174.969044 101.666495 \r\nL 175.368541 101.60992 \r\nL 175.368541 101.553345 \r\nL 175.563851 101.496771 \r\nL 175.661506 101.383621 \r\nL 175.83906 101.327046 \r\nL 175.865693 101.213896 \r\nL 176.22968 101.157321 \r\nL 176.274068 101.044171 \r\nL 176.815609 100.987596 \r\nL 176.886631 100.817872 \r\nL 177.108574 100.761297 \r\nL 177.126329 100.648147 \r\nL 177.712258 100.591572 \r\nL 177.712258 100.534997 \r\nL 178.040734 100.478422 \r\nL 178.040734 100.421847 \r\nL 179.194837 100.365272 \r\nL 179.194837 100.308698 \r\nL 179.603212 100.252123 \r\nL 179.603212 100.195548 \r\nL 179.736378 100.195548 \r\nL 179.736378 100.082398 \r\nL 180.180264 100.025823 \r\nL 180.251285 99.742948 \r\nL 181.298856 99.686374 \r\nL 181.298856 99.629799 \r\nL 181.804886 99.573224 \r\nL 181.884785 99.460074 \r\nL 182.595003 99.403499 \r\nL 182.595003 99.346924 \r\nL 183.047766 99.290349 \r\nL 183.047766 99.233774 \r\nL 183.367364 99.177199 \r\nL 183.393997 99.06405 \r\nL 183.669206 99.007475 \r\nL 183.749106 98.83775 \r\nL 184.752288 98.781175 \r\nL 184.752288 98.7246 \r\nL 185.160663 98.668025 \r\nL 185.178418 98.554875 \r\nL 185.648937 98.4983 \r\nL 185.719959 98.385151 \r\nL 185.959657 98.328576 \r\nL 185.959657 98.272001 \r\nL 186.589975 98.215426 \r\nL 186.589975 98.158851 \r\nL 186.971717 98.102276 \r\nL 187.042739 97.989126 \r\nL 187.451113 97.932551 \r\nL 187.451113 97.875976 \r\nL 188.605217 97.819402 \r\nL 188.605217 97.762827 \r\nL 188.960325 97.706252 \r\nL 188.960325 97.649677 \r\nL 189.129002 97.593102 \r\nL 189.129002 97.536527 \r\nL 190.061162 97.479952 \r\nL 190.114428 97.366802 \r\nL 190.673725 97.310227 \r\nL 190.673725 97.253652 \r\nL 191.241898 97.197078 \r\nL 191.241898 97.140503 \r\nL 191.597007 97.083928 \r\nL 191.597007 97.027353 \r\nL 191.845583 96.970778 \r\nL 191.845583 96.914203 \r\nL 192.023138 96.857628 \r\nL 192.023138 96.801053 \r\nL 192.653455 96.744478 \r\nL 192.724477 96.631329 \r\nL 193.123974 96.574754 \r\nL 193.123974 96.518179 \r\nL 193.683271 96.461604 \r\nL 193.683271 96.405029 \r\nL 193.860825 96.348454 \r\nL 193.860825 96.291879 \r\nL 194.233689 96.235304 \r\nL 194.260322 96.122154 \r\nL 194.872885 96.065579 \r\nL 194.961662 95.83928 \r\nL 195.467692 95.782705 \r\nL 195.574224 95.49983 \r\nL 196.311075 95.443255 \r\nL 196.399852 95.330106 \r\nL 197.198846 95.273531 \r\nL 197.198846 95.216956 \r\nL 197.900186 95.160381 \r\nL 197.900186 95.103806 \r\nL 198.317439 95.047231 \r\nL 198.317439 94.990656 \r\nL 198.672547 94.934081 \r\nL 198.770202 94.707782 \r\nL 199.098678 94.707782 \r\nL 199.20521 94.538057 \r\nL 199.489297 94.481482 \r\nL 199.489297 94.424907 \r\nL 200.164004 94.368332 \r\nL 200.243903 94.255182 \r\nL 200.483601 94.198607 \r\nL 200.483601 94.142033 \r\nL 200.909732 94.085458 \r\nL 200.909732 94.028883 \r\nL 201.184941 93.972308 \r\nL 201.184941 93.915733 \r\nL 201.859648 93.915733 \r\nL 201.859648 93.802583 \r\nL 202.232512 93.802583 \r\nL 202.232512 93.689433 \r\nL 203.377737 93.632858 \r\nL 203.40437 93.463134 \r\nL 203.777234 93.463134 \r\nL 203.777234 93.349984 \r\nL 204.185609 93.293409 \r\nL 204.185609 93.180259 \r\nL 204.718272 93.123684 \r\nL 204.718272 93.067109 \r\nL 205.108892 93.010534 \r\nL 205.108892 92.95396 \r\nL 205.508389 92.897385 \r\nL 205.579411 92.784235 \r\nL 206.138707 92.72766 \r\nL 206.138707 92.671085 \r\nL 206.689125 92.61451 \r\nL 206.689125 92.557935 \r\nL 207.079745 92.50136 \r\nL 207.168522 92.275061 \r\nL 207.310566 92.218486 \r\nL 207.310566 92.161911 \r\nL 208.011905 92.105336 \r\nL 208.011905 92.048761 \r\nL 208.367014 91.992186 \r\nL 208.367014 91.935611 \r\nL 208.775389 91.879036 \r\nL 208.775389 91.822461 \r\nL 209.032843 91.765886 \r\nL 209.032843 91.709312 \r\nL 209.831837 91.652737 \r\nL 209.831837 91.596162 \r\nL 210.222457 91.539587 \r\nL 210.302356 91.426437 \r\nL 210.799508 91.369862 \r\nL 210.835019 91.256712 \r\nL 211.207883 91.200137 \r\nL 211.207883 91.143562 \r\nL 212.104533 91.086988 \r\nL 212.211065 90.917263 \r\nL 212.441886 90.860688 \r\nL 212.441886 90.747538 \r\nL 213.187614 90.690963 \r\nL 213.24088 90.577813 \r\nL 213.604867 90.521238 \r\nL 213.640378 90.351514 \r\nL 214.545905 90.294939 \r\nL 214.643559 90.125214 \r\nL 214.927646 90.068639 \r\nL 214.95428 89.955489 \r\nL 215.087445 89.955489 \r\nL 215.114078 89.785765 \r\nL 215.327144 89.72919 \r\nL 215.327144 89.672615 \r\nL 216.019606 89.61604 \r\nL 216.11726 89.38974 \r\nL 216.587779 89.333165 \r\nL 216.587779 89.276591 \r\nL 217.049421 89.220016 \r\nL 217.049421 89.163441 \r\nL 217.226975 89.106866 \r\nL 217.226975 89.050291 \r\nL 217.608717 88.993716 \r\nL 217.608717 88.937141 \r\nL 217.857293 88.880566 \r\nL 217.857293 88.823991 \r\nL 218.212402 88.767416 \r\nL 218.25679 88.597692 \r\nL 218.594143 88.541117 \r\nL 218.594143 88.484542 \r\nL 218.931497 88.427967 \r\nL 219.011396 88.258242 \r\nL 219.38426 88.201667 \r\nL 219.38426 88.145092 \r\nL 220.041211 88.088517 \r\nL 220.138866 87.975368 \r\nL 220.298665 87.918793 \r\nL 220.298665 87.862218 \r\nL 220.51173 87.805643 \r\nL 220.51173 87.749068 \r\nL 220.680407 87.692493 \r\nL 220.680407 87.635918 \r\nL 221.426135 87.579343 \r\nL 221.506034 87.409619 \r\nL 221.577056 87.353044 \r\nL 221.577056 87.296469 \r\nL 222.313907 87.239894 \r\nL 222.411562 87.126744 \r\nL 222.597994 87.070169 \r\nL 222.597994 87.013594 \r\nL 223.379233 86.957019 \r\nL 223.379233 86.900444 \r\nL 223.760974 86.843869 \r\nL 223.760974 86.787295 \r\nL 224.497825 86.73072 \r\nL 224.497825 86.674145 \r\nL 224.870689 86.61757 \r\nL 224.888444 86.50442 \r\nL 225.341208 86.447845 \r\nL 225.385597 86.334695 \r\nL 225.509885 86.27812 \r\nL 225.554273 86.108396 \r\nL 226.415412 86.051821 \r\nL 226.415412 85.995246 \r\nL 226.832664 85.938671 \r\nL 226.832664 85.882096 \r\nL 228.226466 85.825521 \r\nL 228.306365 85.712371 \r\nL 228.865661 85.655796 \r\nL 228.865661 85.599222 \r\nL 229.149748 85.542647 \r\nL 229.149748 85.486072 \r\nL 229.788944 85.429497 \r\nL 229.788944 85.372922 \r\nL 230.294974 85.316347 \r\nL 230.365996 85.203197 \r\nL 230.676716 85.146622 \r\nL 230.694471 85.033472 \r\nL 232.29246 84.976898 \r\nL 232.29246 84.920323 \r\nL 233.437686 84.863748 \r\nL 233.508707 84.750598 \r\nL 233.624118 84.694023 \r\nL 233.704017 84.580873 \r\nL 234.423112 84.524298 \r\nL 234.511889 84.411148 \r\nL 234.964653 84.354574 \r\nL 234.964653 84.297999 \r\nL 235.293128 84.241424 \r\nL 235.355272 84.128274 \r\nL 235.470683 84.071699 \r\nL 235.470683 84.015124 \r\nL 236.385087 83.958549 \r\nL 236.385087 83.901974 \r\nL 237.494802 83.845399 \r\nL 237.494802 83.788824 \r\nL 238.409207 83.73225 \r\nL 238.489106 83.562525 \r\nL 238.613394 83.50595 \r\nL 238.613394 83.449375 \r\nL 239.279223 83.3928 \r\nL 239.279223 83.336225 \r\nL 239.705353 83.27965 \r\nL 239.705353 83.223075 \r\nL 240.229139 83.1665 \r\nL 240.229139 83.109926 \r\nL 240.530981 83.053351 \r\nL 240.530981 82.996776 \r\nL 240.965989 82.940201 \r\nL 240.965989 82.883626 \r\nL 241.436508 82.827051 \r\nL 241.534163 82.657326 \r\nL 242.226625 82.600751 \r\nL 242.226625 82.544177 \r\nL 243.540527 82.487602 \r\nL 243.629304 82.374452 \r\nL 244.135334 82.317877 \r\nL 244.135334 82.261302 \r\nL 244.588098 82.204727 \r\nL 244.588098 82.148152 \r\nL 245.023106 82.091577 \r\nL 245.023106 82.035002 \r\nL 245.20066 82.035002 \r\nL 245.298315 81.752128 \r\nL 245.848733 81.695553 \r\nL 245.848733 81.638978 \r\nL 246.390274 81.582403 \r\nL 246.479051 81.469253 \r\nL 247.011714 81.412678 \r\nL 247.011714 81.356103 \r\nL 247.464478 81.299529 \r\nL 247.491111 81.186379 \r\nL 247.721932 81.129804 \r\nL 247.721932 81.073229 \r\nL 248.148062 81.016654 \r\nL 248.148062 80.960079 \r\nL 248.618581 80.903504 \r\nL 248.618581 80.846929 \r\nL 249.026956 80.790354 \r\nL 249.026956 80.733779 \r\nL 249.71054 80.677205 \r\nL 249.808195 80.564055 \r\nL 250.95342 80.50748 \r\nL 250.95342 80.450905 \r\nL 251.219752 80.39433 \r\nL 251.255263 80.224605 \r\nL 251.503839 80.16803 \r\nL 251.503839 80.054881 \r\nL 251.85007 79.998306 \r\nL 251.85007 79.941731 \r\nL 252.196301 79.885156 \r\nL 252.196301 79.772006 \r\nL 252.533654 79.715431 \r\nL 252.578043 79.602281 \r\nL 253.723268 79.545706 \r\nL 253.723268 79.489131 \r\nL 255.649733 79.432557 \r\nL 255.649733 79.375982 \r\nL 256.546382 79.319407 \r\nL 256.635159 79.149682 \r\nL 256.910368 79.093107 \r\nL 256.945879 78.979957 \r\nL 257.105678 78.923382 \r\nL 257.150067 78.810233 \r\nL 257.691607 78.753658 \r\nL 257.691607 78.697083 \r\nL 257.940183 78.640508 \r\nL 257.940183 78.583933 \r\nL 258.375192 78.527358 \r\nL 258.437336 78.414208 \r\nL 258.819077 78.357633 \r\nL 258.819077 78.301058 \r\nL 259.023265 78.301058 \r\nL 259.103164 78.074759 \r\nL 259.760115 78.018184 \r\nL 259.760115 77.961609 \r\nL 259.884403 77.905034 \r\nL 259.884403 77.848459 \r\nL 260.346045 77.791884 \r\nL 260.346045 77.735309 \r\nL 261.109528 77.735309 \r\nL 261.109528 77.62216 \r\nL 261.49127 77.62216 \r\nL 261.517903 77.39586 \r\nL 262.494452 77.339285 \r\nL 262.494452 77.28271 \r\nL 263.000482 77.226135 \r\nL 263.000482 77.16956 \r\nL 263.24018 77.112985 \r\nL 263.24018 77.05641 \r\nL 263.621922 76.999836 \r\nL 263.648555 76.886686 \r\nL 263.870498 76.830111 \r\nL 263.870498 76.773536 \r\nL 264.491938 76.716961 \r\nL 264.554082 76.603811 \r\nL 264.944702 76.547236 \r\nL 265.042357 76.377512 \r\nL 265.406343 76.320937 \r\nL 265.406343 76.264362 \r\nL 266.285237 76.207787 \r\nL 266.285237 76.151212 \r\nL 266.791267 76.094637 \r\nL 266.888922 75.981487 \r\nL 267.199642 75.924912 \r\nL 267.270664 75.811763 \r\nL 267.465973 75.755188 \r\nL 267.465973 75.698613 \r\nL 268.95743 75.642038 \r\nL 268.95743 75.585463 \r\nL 269.410193 75.528888 \r\nL 269.49897 75.415738 \r\nL 269.916223 75.359163 \r\nL 269.978367 75.246013 \r\nL 270.191432 75.189439 \r\nL 270.289087 75.019714 \r\nL 270.741851 74.963139 \r\nL 270.741851 74.906564 \r\nL 271.096959 74.849989 \r\nL 271.141348 74.736839 \r\nL 271.922587 74.680264 \r\nL 271.993609 74.567115 \r\nL 272.135652 74.51054 \r\nL 272.188919 74.39739 \r\nL 273.245367 74.340815 \r\nL 273.245367 74.28424 \r\nL 274.292937 74.227665 \r\nL 274.292937 74.17109 \r\nL 275.21622 74.114515 \r\nL 275.260609 73.944791 \r\nL 275.420407 73.888216 \r\nL 275.420407 73.831641 \r\nL 275.757761 73.775066 \r\nL 275.819905 73.661916 \r\nL 275.935315 73.605341 \r\nL 275.935315 73.548766 \r\nL 276.414712 73.492191 \r\nL 276.503489 73.379041 \r\nL 276.805331 73.322467 \r\nL 276.84972 73.209317 \r\nL 277.169318 73.152742 \r\nL 277.27585 72.983017 \r\nL 277.604326 72.926442 \r\nL 277.684225 72.813292 \r\nL 277.861779 72.756717 \r\nL 277.861779 72.700143 \r\nL 278.305665 72.643568 \r\nL 278.305665 72.586993 \r\nL 278.705163 72.530418 \r\nL 278.705163 72.473843 \r\nL 279.042516 72.417268 \r\nL 279.122415 72.304118 \r\nL 279.486402 72.247543 \r\nL 279.548546 72.077819 \r\nL 280.063453 72.021244 \r\nL 280.063453 71.964669 \r\nL 280.560605 71.908094 \r\nL 280.560605 71.851519 \r\nL 280.818059 71.794944 \r\nL 280.818059 71.738369 \r\nL 281.253067 71.681794 \r\nL 281.253067 71.625219 \r\nL 281.634809 71.568644 \r\nL 281.696953 71.39892 \r\nL 282.052062 71.342345 \r\nL 282.052062 71.28577 \r\nL 282.318393 71.229195 \r\nL 282.424926 71.002895 \r\nL 282.833301 70.94632 \r\nL 282.833301 70.889746 \r\nL 283.454741 70.833171 \r\nL 283.454741 70.776596 \r\nL 284.715377 70.720021 \r\nL 284.821909 70.550296 \r\nL 285.043852 70.493721 \r\nL 285.150385 70.210847 \r\nL 285.36345 70.154272 \r\nL 285.36345 70.097697 \r\nL 285.656415 70.041122 \r\nL 285.656415 69.984547 \r\nL 286.526431 69.927972 \r\nL 286.570819 69.758247 \r\nL 286.988072 69.701672 \r\nL 286.988072 69.645098 \r\nL 287.103482 69.645098 \r\nL 287.103482 69.531948 \r\nL 287.707167 69.475373 \r\nL 287.8137 69.362223 \r\nL 288.275341 69.305648 \r\nL 288.275341 69.249073 \r\nL 288.63045 69.192498 \r\nL 288.63045 69.135923 \r\nL 289.092091 69.079348 \r\nL 289.092091 69.022774 \r\nL 289.75792 68.966199 \r\nL 289.75792 68.909624 \r\nL 290.956411 68.853049 \r\nL 290.956411 68.796474 \r\nL 291.666629 68.739899 \r\nL 291.728773 68.570174 \r\nL 291.888572 68.513599 \r\nL 291.968471 68.40045 \r\nL 292.572156 68.343875 \r\nL 292.572156 68.2873 \r\nL 292.989409 68.230725 \r\nL 292.989409 68.17415 \r\nL 293.326762 68.117575 \r\nL 293.326762 68.061 \r\nL 293.530949 68.004425 \r\nL 293.530949 67.94785 \r\nL 294.001468 67.891275 \r\nL 294.001468 67.834701 \r\nL 294.49862 67.778126 \r\nL 294.49862 67.721551 \r\nL 294.791585 67.664976 \r\nL 294.791585 67.608401 \r\nL 295.270982 67.551826 \r\nL 295.270982 67.495251 \r\nL 295.981199 67.438676 \r\nL 295.981199 67.382101 \r\nL 296.13212 67.325526 \r\nL 296.13212 67.268951 \r\nL 296.558251 67.212377 \r\nL 296.584884 67.099227 \r\nL 297.011014 67.042652 \r\nL 297.011014 66.986077 \r\nL 298.005318 66.929502 \r\nL 298.094096 66.759777 \r\nL 298.129607 66.703202 \r\nL 298.200628 66.590053 \r\nL 298.786558 66.533478 \r\nL 298.848702 66.307178 \r\nL 299.763106 66.250603 \r\nL 299.763106 66.194028 \r\nL 300.899454 66.137453 \r\nL 300.908332 66.024303 \r\nL 301.698449 65.967729 \r\nL 301.698449 65.911154 \r\nL 301.84937 65.854579 \r\nL 301.893758 65.741429 \r\nL 302.453054 65.684854 \r\nL 302.453054 65.628279 \r\nL 302.861429 65.571704 \r\nL 302.967962 65.458554 \r\nL 303.136639 65.401979 \r\nL 303.20766 65.232255 \r\nL 303.500625 65.17568 \r\nL 303.500625 65.119105 \r\nL 303.820223 65.06253 \r\nL 303.846856 64.94938 \r\nL 304.281864 64.892805 \r\nL 304.317375 64.779656 \r\nL 304.601462 64.723081 \r\nL 304.601462 64.666506 \r\nL 305.329435 64.609931 \r\nL 305.364946 64.496781 \r\nL 305.498111 64.440206 \r\nL 305.5425 64.327056 \r\nL 305.897609 64.327056 \r\nL 305.897609 64.213906 \r\nL 306.199451 64.157332 \r\nL 306.199451 64.100757 \r\nL 306.581193 64.044182 \r\nL 306.581193 63.987607 \r\nL 307.202633 63.931032 \r\nL 307.202633 63.874457 \r\nL 307.690907 63.817882 \r\nL 307.690907 63.761307 \r\nL 307.886217 63.704732 \r\nL 307.983872 63.591582 \r\nL 308.410002 63.535008 \r\nL 308.427758 63.421858 \r\nL 308.631945 63.365283 \r\nL 308.631945 63.308708 \r\nL 309.164608 63.252133 \r\nL 309.271141 63.138983 \r\nL 309.768293 63.082408 \r\nL 309.865948 62.912684 \r\nL 309.954725 62.856109 \r\nL 309.954725 62.799534 \r\nL 310.176668 62.742959 \r\nL 310.203301 62.629809 \r\nL 310.895763 62.573234 \r\nL 310.895763 62.516659 \r\nL 311.06444 62.460084 \r\nL 311.06444 62.403509 \r\nL 311.783535 62.346934 \r\nL 311.810168 62.233785 \r\nL 312.715695 62.17721 \r\nL 312.742328 62.06406 \r\nL 313.168458 62.007485 \r\nL 313.230602 61.83776 \r\nL 313.283869 61.83776 \r\nL 313.283869 61.724611 \r\nL 314.189396 61.668036 \r\nL 314.260418 61.554886 \r\nL 314.358072 61.498311 \r\nL 314.375828 61.385161 \r\nL 314.997268 61.328586 \r\nL 315.06829 61.215436 \r\nL 315.512176 61.158861 \r\nL 315.529931 61.045712 \r\nL 316.293415 60.989137 \r\nL 316.293415 60.932562 \r\nL 317.039143 60.875987 \r\nL 317.145675 60.706262 \r\nL 317.598439 60.649687 \r\nL 317.598439 60.593112 \r\nL 317.784871 60.593112 \r\nL 317.784871 60.479963 \r\nL 318.282023 60.423388 \r\nL 318.282023 60.366813 \r\nL 318.601621 60.310238 \r\nL 318.601621 60.253663 \r\nL 318.779175 60.197088 \r\nL 318.814686 60.083938 \r\nL 319.152039 60.027363 \r\nL 319.240817 59.914213 \r\nL 319.69358 59.914213 \r\nL 319.782357 59.744489 \r\nL 320.0043 59.687914 \r\nL 320.110833 59.518189 \r\nL 320.492575 59.461614 \r\nL 320.59023 59.291889 \r\nL 321.025238 59.235315 \r\nL 321.025238 59.17874 \r\nL 321.655556 59.122165 \r\nL 321.655556 59.06559 \r\nL 322.205974 59.009015 \r\nL 322.205974 58.95244 \r\nL 322.561083 58.895865 \r\nL 322.561083 58.83929 \r\nL 322.898436 58.782715 \r\nL 322.898436 58.72614 \r\nL 323.244667 58.669565 \r\nL 323.280178 58.556416 \r\nL 323.510998 58.499841 \r\nL 323.528754 58.386691 \r\nL 324.51418 58.330116 \r\nL 324.576324 58.216966 \r\nL 324.895922 58.160391 \r\nL 324.895922 58.103816 \r\nL 325.206642 58.047242 \r\nL 325.206642 57.990667 \r\nL 325.925737 57.934092 \r\nL 326.03227 57.820942 \r\nL 326.449523 57.764367 \r\nL 326.449523 57.707792 \r\nL 326.928919 57.651217 \r\nL 327.026574 57.481492 \r\nL 327.257395 57.424918 \r\nL 327.27515 57.311768 \r\nL 327.66577 57.255193 \r\nL 327.710158 57.142043 \r\nL 328.304965 57.085468 \r\nL 328.304965 57.028893 \r\nL 328.59793 57.028893 \r\nL 328.59793 56.915743 \r\nL 328.855384 56.859168 \r\nL 328.855384 56.802594 \r\nL 329.10396 56.746019 \r\nL 329.10396 56.689444 \r\nL 329.405802 56.632869 \r\nL 329.405802 56.576294 \r\nL 330.062753 56.519719 \r\nL 330.062753 56.463144 \r\nL 330.684193 56.406569 \r\nL 330.790726 56.293419 \r\nL 330.986036 56.236844 \r\nL 330.986036 56.18027 \r\nL 331.270123 56.123695 \r\nL 331.350022 56.010545 \r\nL 331.429922 55.95397 \r\nL 331.429922 55.897395 \r\nL 331.891563 55.84082 \r\nL 331.891563 55.784245 \r\nL 332.157894 55.72767 \r\nL 332.17565 55.557946 \r\nL 332.557392 55.501371 \r\nL 332.619536 55.388221 \r\nL 332.885867 55.331646 \r\nL 332.974644 55.218496 \r\nL 333.365264 55.161921 \r\nL 333.41853 54.992196 \r\nL 333.897927 54.935622 \r\nL 333.897927 54.879047 \r\nL 334.377323 54.822472 \r\nL 334.457223 54.709322 \r\nL 334.714677 54.652747 \r\nL 334.714677 54.596172 \r\nL 335.309484 54.539597 \r\nL 335.309484 54.483022 \r\nL 335.602448 54.426447 \r\nL 335.602448 54.369873 \r\nL 336.268277 54.313298 \r\nL 336.268277 54.256723 \r\nL 337.608812 54.200148 \r\nL 337.706467 54.086998 \r\nL 337.848511 54.030423 \r\nL 337.955043 53.917273 \r\nL 338.514339 53.860698 \r\nL 338.514339 53.804123 \r\nL 338.727405 53.747549 \r\nL 338.816182 53.634399 \r\nL 339.375478 53.577824 \r\nL 339.455377 53.464674 \r\nL 339.67732 53.408099 \r\nL 339.67732 53.351524 \r\nL 340.609481 53.294949 \r\nL 340.644991 53.181799 \r\nL 340.831423 53.125225 \r\nL 340.831423 53.06865 \r\nL 341.088877 53.012075 \r\nL 341.177654 52.898925 \r\nL 341.284187 52.84235 \r\nL 341.337453 52.672625 \r\nL 341.763584 52.61605 \r\nL 341.763584 52.559475 \r\nL 342.269614 52.502901 \r\nL 342.376146 52.389751 \r\nL 342.589211 52.333176 \r\nL 342.686866 52.220026 \r\nL 343.397084 52.163451 \r\nL 343.397084 52.106876 \r\nL 343.610149 52.050301 \r\nL 343.610149 51.993726 \r\nL 344.329244 51.937151 \r\nL 344.329244 51.880577 \r\nL 344.728741 51.824002 \r\nL 344.737619 51.654277 \r\nL 345.296915 51.597702 \r\nL 345.296915 51.541127 \r\nL 345.527736 51.484552 \r\nL 345.527736 51.427977 \r\nL 346.504284 51.371402 \r\nL 346.557551 51.258253 \r\nL 346.921537 51.201678 \r\nL 346.992559 51.031953 \r\nL 347.161235 50.975378 \r\nL 347.161235 50.918803 \r\nL 347.4542 50.862228 \r\nL 347.471955 50.692504 \r\nL 347.84482 50.635929 \r\nL 347.951352 50.522779 \r\nL 348.111151 50.466204 \r\nL 348.137784 50.353054 \r\nL 348.643814 50.296479 \r\nL 348.732591 50.183329 \r\nL 349.069944 50.126754 \r\nL 349.105455 50.013605 \r\nL 349.247499 49.95703 \r\nL 349.247499 49.900455 \r\nL 350.010982 49.84388 \r\nL 350.046493 49.73073 \r\nL 350.499257 49.674155 \r\nL 350.499257 49.61758 \r\nL 351.289374 49.561005 \r\nL 351.289374 49.50443 \r\nL 351.644482 49.447856 \r\nL 351.742137 49.278131 \r\nL 351.839792 49.221556 \r\nL 351.839792 49.164981 \r\nL 352.452354 49.108406 \r\nL 352.452354 49.051831 \r\nL 353.384515 48.995256 \r\nL 353.464414 48.882106 \r\nL 354.076977 48.825532 \r\nL 354.076977 48.768957 \r\nL 354.565251 48.712382 \r\nL 354.565251 48.655807 \r\nL 355.603944 48.599232 \r\nL 355.603944 48.542657 \r\nL 356.172118 48.486082 \r\nL 356.172118 48.429507 \r\nL 356.420694 48.372932 \r\nL 356.420694 48.316357 \r\nL 356.660392 48.259782 \r\nL 356.704781 48.146633 \r\nL 357.024379 48.090058 \r\nL 357.024379 48.033483 \r\nL 357.139789 48.033483 \r\nL 357.139789 47.920333 \r\nL 357.281832 47.863758 \r\nL 357.281832 47.807183 \r\nL 358.178482 47.750608 \r\nL 358.178482 47.694033 \r\nL 358.382669 47.637459 \r\nL 358.382669 47.580884 \r\nL 358.569101 47.524309 \r\nL 358.569101 47.467734 \r\nL 359.66106 47.411159 \r\nL 359.678816 47.298009 \r\nL 360.202601 47.241434 \r\nL 360.273623 47.128284 \r\nL 360.628731 47.071709 \r\nL 360.735264 46.95856 \r\nL 360.850674 46.901985 \r\nL 360.877308 46.788835 \r\nL 361.48987 46.73226 \r\nL 361.48987 46.675685 \r\nL 361.658547 46.61911 \r\nL 361.68518 46.50596 \r\nL 361.978144 46.449385 \r\nL 362.066922 46.336236 \r\nL 362.146821 46.336236 \r\nL 362.146821 46.223086 \r\nL 362.333253 46.166511 \r\nL 362.333253 46.109936 \r\nL 362.892549 46.053361 \r\nL 362.954693 45.940211 \r\nL 363.363068 45.883636 \r\nL 363.363068 45.883636 \r\n\" style=\"fill:none;stroke:#1f77b4;stroke-linecap:square;stroke-width:1.5;\"/>\r\n   </g>\r\n   <g id=\"line2d_14\">\r\n    <path clip-path=\"url(#p81fd0b64fc)\" d=\"M 58.999432 243.556364 \r\nL 58.999432 80.16803 \r\nL 58.999432 74.567115 \r\nL 58.999432 74.453965 \r\nL 58.999432 74.227665 \r\nL 58.999432 74.05794 \r\nL 58.999432 73.944791 \r\nL 58.999432 73.888216 \r\nL 58.999432 73.661916 \r\nL 58.999432 73.548766 \r\nL 58.999432 73.152742 \r\nL 58.999432 73.096167 \r\nL 58.999432 72.926442 \r\nL 58.999432 72.700143 \r\nL 58.999432 72.643568 \r\nL 58.999432 72.530418 \r\nL 58.999432 71.794944 \r\nL 58.999432 71.625219 \r\nL 58.999432 71.229195 \r\nL 58.999432 71.116045 \r\nL 58.999432 70.889746 \r\nL 58.999432 70.833171 \r\nL 58.999432 70.720021 \r\nL 58.999432 70.380571 \r\nL 58.999432 70.267422 \r\nL 58.999432 70.154272 \r\nL 58.999432 70.041122 \r\nL 58.999432 51.767427 \r\nL 58.999432 51.541127 \r\nL 58.999432 51.258253 \r\nL 58.999432 51.031953 \r\nL 58.999432 50.975378 \r\nL 58.999432 50.749078 \r\nL 58.999432 50.466204 \r\nL 58.999432 47.015135 \r\nL 58.999432 46.84541 \r\nL 58.999432 46.166511 \r\nL 58.999432 45.883636 \r\nL 59.132598 45.883636 \r\nL 59.150353 45.883636 \r\nL 59.185864 45.883636 \r\nL 59.523217 45.883636 \r\nL 59.558728 45.883636 \r\nL 59.647505 45.883636 \r\nL 59.700771 45.883636 \r\nL 59.709649 45.883636 \r\nL 59.727405 45.883636 \r\nL 59.762915 45.883636 \r\nL 59.780671 45.883636 \r\nL 59.896081 45.883636 \r\nL 59.904959 45.883636 \r\nL 60.17129 45.883636 \r\nL 60.268945 45.883636 \r\nL 60.286701 45.883636 \r\nL 60.979163 45.883636 \r\nL 61.014673 45.883636 \r\nL 61.112328 45.883636 \r\nL 61.218861 45.883636 \r\nL 61.227739 45.883636 \r\nL 61.369782 45.883636 \r\nL 61.37866 45.883636 \r\nL 61.893567 45.883636 \r\nL 61.911323 45.883636 \r\nL 61.946834 45.883636 \r\nL 62.151021 45.883636 \r\nL 62.381842 45.883636 \r\nL 62.435108 45.883636 \r\nL 63.251858 45.883636 \r\nL 63.287369 45.883636 \r\nL 63.535945 45.883636 \r\nL 63.544823 45.883636 \r\nL 64.352695 45.883636 \r\nL 64.37045 45.883636 \r\nL 64.468105 45.883636 \r\nL 64.512494 45.883636 \r\nL 65.054035 45.883636 \r\nL 65.080668 45.883636 \r\nL 65.355877 45.883636 \r\nL 65.426899 45.883636 \r\nL 65.560064 45.883636 \r\nL 65.595575 45.883636 \r\nL 65.702108 45.883636 \r\nL 65.737619 45.883636 \r\nL 65.853029 45.883636 \r\nL 363.363068 45.883636 \r\n\" style=\"fill:none;stroke:#ff7f0e;stroke-linecap:square;stroke-width:1.5;\"/>\r\n   </g>\r\n   <g id=\"patch_3\">\r\n    <path d=\"M 43.78125 253.44 \r\nL 43.78125 36 \r\n\" style=\"fill:none;stroke:#000000;stroke-linecap:square;stroke-linejoin:miter;stroke-width:0.8;\"/>\r\n   </g>\r\n   <g id=\"patch_4\">\r\n    <path d=\"M 378.58125 253.44 \r\nL 378.58125 36 \r\n\" style=\"fill:none;stroke:#000000;stroke-linecap:square;stroke-linejoin:miter;stroke-width:0.8;\"/>\r\n   </g>\r\n   <g id=\"patch_5\">\r\n    <path d=\"M 43.78125 253.44 \r\nL 378.58125 253.44 \r\n\" style=\"fill:none;stroke:#000000;stroke-linecap:square;stroke-linejoin:miter;stroke-width:0.8;\"/>\r\n   </g>\r\n   <g id=\"patch_6\">\r\n    <path d=\"M 43.78125 36 \r\nL 378.58125 36 \r\n\" style=\"fill:none;stroke:#000000;stroke-linecap:square;stroke-linejoin:miter;stroke-width:0.8;\"/>\r\n   </g>\r\n   <g id=\"legend_1\">\r\n    <g id=\"patch_7\">\r\n     <path d=\"M 152.734375 248.44 \r\nL 371.58125 248.44 \r\nQ 373.58125 248.44 373.58125 246.44 \r\nL 373.58125 218.08375 \r\nQ 373.58125 216.08375 371.58125 216.08375 \r\nL 152.734375 216.08375 \r\nQ 150.734375 216.08375 150.734375 218.08375 \r\nL 150.734375 246.44 \r\nQ 150.734375 248.44 152.734375 248.44 \r\nz\r\n\" style=\"fill:#ffffff;opacity:0.8;stroke:#cccccc;stroke-linejoin:miter;\"/>\r\n    </g>\r\n    <g id=\"line2d_15\">\r\n     <path d=\"M 154.734375 224.182187 \r\nL 174.734375 224.182187 \r\n\" style=\"fill:none;stroke:#1f77b4;stroke-linecap:square;stroke-width:1.5;\"/>\r\n    </g>\r\n    <g id=\"line2d_16\"/>\r\n    <g id=\"text_15\">\r\n     <!-- SVC (AUC = 0.77) -->\r\n     <g transform=\"translate(182.734375 227.682187)scale(0.1 -0.1)\">\r\n      <defs>\r\n       <path d=\"M 53.515625 70.515625 \r\nL 53.515625 60.890625 \r\nQ 47.90625 63.578125 42.921875 64.890625 \r\nQ 37.9375 66.21875 33.296875 66.21875 \r\nQ 25.25 66.21875 20.875 63.09375 \r\nQ 16.5 59.96875 16.5 54.203125 \r\nQ 16.5 49.359375 19.40625 46.890625 \r\nQ 22.3125 44.4375 30.421875 42.921875 \r\nL 36.375 41.703125 \r\nQ 47.40625 39.59375 52.65625 34.296875 \r\nQ 57.90625 29 57.90625 20.125 \r\nQ 57.90625 9.515625 50.796875 4.046875 \r\nQ 43.703125 -1.421875 29.984375 -1.421875 \r\nQ 24.8125 -1.421875 18.96875 -0.25 \r\nQ 13.140625 0.921875 6.890625 3.21875 \r\nL 6.890625 13.375 \r\nQ 12.890625 10.015625 18.65625 8.296875 \r\nQ 24.421875 6.59375 29.984375 6.59375 \r\nQ 38.421875 6.59375 43.015625 9.90625 \r\nQ 47.609375 13.234375 47.609375 19.390625 \r\nQ 47.609375 24.75 44.3125 27.78125 \r\nQ 41.015625 30.8125 33.5 32.328125 \r\nL 27.484375 33.5 \r\nQ 16.453125 35.6875 11.515625 40.375 \r\nQ 6.59375 45.0625 6.59375 53.421875 \r\nQ 6.59375 63.09375 13.40625 68.65625 \r\nQ 20.21875 74.21875 32.171875 74.21875 \r\nQ 37.3125 74.21875 42.625 73.28125 \r\nQ 47.953125 72.359375 53.515625 70.515625 \r\nz\r\n\" id=\"DejaVuSans-83\"/>\r\n       <path d=\"M 28.609375 0 \r\nL 0.78125 72.90625 \r\nL 11.078125 72.90625 \r\nL 34.1875 11.53125 \r\nL 57.328125 72.90625 \r\nL 67.578125 72.90625 \r\nL 39.796875 0 \r\nz\r\n\" id=\"DejaVuSans-86\"/>\r\n       <path d=\"M 64.40625 67.28125 \r\nL 64.40625 56.890625 \r\nQ 59.421875 61.53125 53.78125 63.8125 \r\nQ 48.140625 66.109375 41.796875 66.109375 \r\nQ 29.296875 66.109375 22.65625 58.46875 \r\nQ 16.015625 50.828125 16.015625 36.375 \r\nQ 16.015625 21.96875 22.65625 14.328125 \r\nQ 29.296875 6.6875 41.796875 6.6875 \r\nQ 48.140625 6.6875 53.78125 8.984375 \r\nQ 59.421875 11.28125 64.40625 15.921875 \r\nL 64.40625 5.609375 \r\nQ 59.234375 2.09375 53.4375 0.328125 \r\nQ 47.65625 -1.421875 41.21875 -1.421875 \r\nQ 24.65625 -1.421875 15.125 8.703125 \r\nQ 5.609375 18.84375 5.609375 36.375 \r\nQ 5.609375 53.953125 15.125 64.078125 \r\nQ 24.65625 74.21875 41.21875 74.21875 \r\nQ 47.75 74.21875 53.53125 72.484375 \r\nQ 59.328125 70.75 64.40625 67.28125 \r\nz\r\n\" id=\"DejaVuSans-67\"/>\r\n       <path d=\"M 34.1875 63.1875 \r\nL 20.796875 26.90625 \r\nL 47.609375 26.90625 \r\nz\r\nM 28.609375 72.90625 \r\nL 39.796875 72.90625 \r\nL 67.578125 0 \r\nL 57.328125 0 \r\nL 50.6875 18.703125 \r\nL 17.828125 18.703125 \r\nL 11.1875 0 \r\nL 0.78125 0 \r\nz\r\n\" id=\"DejaVuSans-65\"/>\r\n       <path d=\"M 8.6875 72.90625 \r\nL 18.609375 72.90625 \r\nL 18.609375 28.609375 \r\nQ 18.609375 16.890625 22.84375 11.734375 \r\nQ 27.09375 6.59375 36.625 6.59375 \r\nQ 46.09375 6.59375 50.34375 11.734375 \r\nQ 54.59375 16.890625 54.59375 28.609375 \r\nL 54.59375 72.90625 \r\nL 64.5 72.90625 \r\nL 64.5 27.390625 \r\nQ 64.5 13.140625 57.4375 5.859375 \r\nQ 50.390625 -1.421875 36.625 -1.421875 \r\nQ 22.796875 -1.421875 15.734375 5.859375 \r\nQ 8.6875 13.140625 8.6875 27.390625 \r\nz\r\n\" id=\"DejaVuSans-85\"/>\r\n       <path d=\"M 10.59375 45.40625 \r\nL 73.1875 45.40625 \r\nL 73.1875 37.203125 \r\nL 10.59375 37.203125 \r\nz\r\nM 10.59375 25.484375 \r\nL 73.1875 25.484375 \r\nL 73.1875 17.1875 \r\nL 10.59375 17.1875 \r\nz\r\n\" id=\"DejaVuSans-61\"/>\r\n       <path d=\"M 8.203125 72.90625 \r\nL 55.078125 72.90625 \r\nL 55.078125 68.703125 \r\nL 28.609375 0 \r\nL 18.3125 0 \r\nL 43.21875 64.59375 \r\nL 8.203125 64.59375 \r\nz\r\n\" id=\"DejaVuSans-55\"/>\r\n      </defs>\r\n      <use xlink:href=\"#DejaVuSans-83\"/>\r\n      <use x=\"63.476562\" xlink:href=\"#DejaVuSans-86\"/>\r\n      <use x=\"131.884766\" xlink:href=\"#DejaVuSans-67\"/>\r\n      <use x=\"201.708984\" xlink:href=\"#DejaVuSans-32\"/>\r\n      <use x=\"233.496094\" xlink:href=\"#DejaVuSans-40\"/>\r\n      <use x=\"272.509766\" xlink:href=\"#DejaVuSans-65\"/>\r\n      <use x=\"340.917969\" xlink:href=\"#DejaVuSans-85\"/>\r\n      <use x=\"414.111328\" xlink:href=\"#DejaVuSans-67\"/>\r\n      <use x=\"483.935547\" xlink:href=\"#DejaVuSans-32\"/>\r\n      <use x=\"515.722656\" xlink:href=\"#DejaVuSans-61\"/>\r\n      <use x=\"599.511719\" xlink:href=\"#DejaVuSans-32\"/>\r\n      <use x=\"631.298828\" xlink:href=\"#DejaVuSans-48\"/>\r\n      <use x=\"694.921875\" xlink:href=\"#DejaVuSans-46\"/>\r\n      <use x=\"726.708984\" xlink:href=\"#DejaVuSans-55\"/>\r\n      <use x=\"790.332031\" xlink:href=\"#DejaVuSans-55\"/>\r\n      <use x=\"853.955078\" xlink:href=\"#DejaVuSans-41\"/>\r\n     </g>\r\n    </g>\r\n    <g id=\"line2d_17\">\r\n     <path d=\"M 154.734375 238.860312 \r\nL 174.734375 238.860312 \r\n\" style=\"fill:none;stroke:#ff7f0e;stroke-linecap:square;stroke-width:1.5;\"/>\r\n    </g>\r\n    <g id=\"line2d_18\"/>\r\n    <g id=\"text_16\">\r\n     <!-- RandomForestClassifier (AUC = 1.00) -->\r\n     <g transform=\"translate(182.734375 242.360312)scale(0.1 -0.1)\">\r\n      <defs>\r\n       <path d=\"M 54.890625 33.015625 \r\nL 54.890625 0 \r\nL 45.90625 0 \r\nL 45.90625 32.71875 \r\nQ 45.90625 40.484375 42.875 44.328125 \r\nQ 39.84375 48.1875 33.796875 48.1875 \r\nQ 26.515625 48.1875 22.3125 43.546875 \r\nQ 18.109375 38.921875 18.109375 30.90625 \r\nL 18.109375 0 \r\nL 9.078125 0 \r\nL 9.078125 54.6875 \r\nL 18.109375 54.6875 \r\nL 18.109375 46.1875 \r\nQ 21.34375 51.125 25.703125 53.5625 \r\nQ 30.078125 56 35.796875 56 \r\nQ 45.21875 56 50.046875 50.171875 \r\nQ 54.890625 44.34375 54.890625 33.015625 \r\nz\r\n\" id=\"DejaVuSans-110\"/>\r\n       <path d=\"M 45.40625 46.390625 \r\nL 45.40625 75.984375 \r\nL 54.390625 75.984375 \r\nL 54.390625 0 \r\nL 45.40625 0 \r\nL 45.40625 8.203125 \r\nQ 42.578125 3.328125 38.25 0.953125 \r\nQ 33.9375 -1.421875 27.875 -1.421875 \r\nQ 17.96875 -1.421875 11.734375 6.484375 \r\nQ 5.515625 14.40625 5.515625 27.296875 \r\nQ 5.515625 40.1875 11.734375 48.09375 \r\nQ 17.96875 56 27.875 56 \r\nQ 33.9375 56 38.25 53.625 \r\nQ 42.578125 51.265625 45.40625 46.390625 \r\nz\r\nM 14.796875 27.296875 \r\nQ 14.796875 17.390625 18.875 11.75 \r\nQ 22.953125 6.109375 30.078125 6.109375 \r\nQ 37.203125 6.109375 41.296875 11.75 \r\nQ 45.40625 17.390625 45.40625 27.296875 \r\nQ 45.40625 37.203125 41.296875 42.84375 \r\nQ 37.203125 48.484375 30.078125 48.484375 \r\nQ 22.953125 48.484375 18.875 42.84375 \r\nQ 14.796875 37.203125 14.796875 27.296875 \r\nz\r\n\" id=\"DejaVuSans-100\"/>\r\n       <path d=\"M 52 44.1875 \r\nQ 55.375 50.25 60.0625 53.125 \r\nQ 64.75 56 71.09375 56 \r\nQ 79.640625 56 84.28125 50.015625 \r\nQ 88.921875 44.046875 88.921875 33.015625 \r\nL 88.921875 0 \r\nL 79.890625 0 \r\nL 79.890625 32.71875 \r\nQ 79.890625 40.578125 77.09375 44.375 \r\nQ 74.3125 48.1875 68.609375 48.1875 \r\nQ 61.625 48.1875 57.5625 43.546875 \r\nQ 53.515625 38.921875 53.515625 30.90625 \r\nL 53.515625 0 \r\nL 44.484375 0 \r\nL 44.484375 32.71875 \r\nQ 44.484375 40.625 41.703125 44.40625 \r\nQ 38.921875 48.1875 33.109375 48.1875 \r\nQ 26.21875 48.1875 22.15625 43.53125 \r\nQ 18.109375 38.875 18.109375 30.90625 \r\nL 18.109375 0 \r\nL 9.078125 0 \r\nL 9.078125 54.6875 \r\nL 18.109375 54.6875 \r\nL 18.109375 46.1875 \r\nQ 21.1875 51.21875 25.484375 53.609375 \r\nQ 29.78125 56 35.6875 56 \r\nQ 41.65625 56 45.828125 52.96875 \r\nQ 50 49.953125 52 44.1875 \r\nz\r\n\" id=\"DejaVuSans-109\"/>\r\n       <path d=\"M 37.109375 75.984375 \r\nL 37.109375 68.5 \r\nL 28.515625 68.5 \r\nQ 23.6875 68.5 21.796875 66.546875 \r\nQ 19.921875 64.59375 19.921875 59.515625 \r\nL 19.921875 54.6875 \r\nL 34.71875 54.6875 \r\nL 34.71875 47.703125 \r\nL 19.921875 47.703125 \r\nL 19.921875 0 \r\nL 10.890625 0 \r\nL 10.890625 47.703125 \r\nL 2.296875 47.703125 \r\nL 2.296875 54.6875 \r\nL 10.890625 54.6875 \r\nL 10.890625 58.5 \r\nQ 10.890625 67.625 15.140625 71.796875 \r\nQ 19.390625 75.984375 28.609375 75.984375 \r\nz\r\n\" id=\"DejaVuSans-102\"/>\r\n      </defs>\r\n      <use xlink:href=\"#DejaVuSans-82\"/>\r\n      <use x=\"67.232422\" xlink:href=\"#DejaVuSans-97\"/>\r\n      <use x=\"128.511719\" xlink:href=\"#DejaVuSans-110\"/>\r\n      <use x=\"191.890625\" xlink:href=\"#DejaVuSans-100\"/>\r\n      <use x=\"255.367188\" xlink:href=\"#DejaVuSans-111\"/>\r\n      <use x=\"316.548828\" xlink:href=\"#DejaVuSans-109\"/>\r\n      <use x=\"413.960938\" xlink:href=\"#DejaVuSans-70\"/>\r\n      <use x=\"467.855469\" xlink:href=\"#DejaVuSans-111\"/>\r\n      <use x=\"529.037109\" xlink:href=\"#DejaVuSans-114\"/>\r\n      <use x=\"567.900391\" xlink:href=\"#DejaVuSans-101\"/>\r\n      <use x=\"629.423828\" xlink:href=\"#DejaVuSans-115\"/>\r\n      <use x=\"681.523438\" xlink:href=\"#DejaVuSans-116\"/>\r\n      <use x=\"720.732422\" xlink:href=\"#DejaVuSans-67\"/>\r\n      <use x=\"790.556641\" xlink:href=\"#DejaVuSans-108\"/>\r\n      <use x=\"818.339844\" xlink:href=\"#DejaVuSans-97\"/>\r\n      <use x=\"879.619141\" xlink:href=\"#DejaVuSans-115\"/>\r\n      <use x=\"931.71875\" xlink:href=\"#DejaVuSans-115\"/>\r\n      <use x=\"983.818359\" xlink:href=\"#DejaVuSans-105\"/>\r\n      <use x=\"1011.601562\" xlink:href=\"#DejaVuSans-102\"/>\r\n      <use x=\"1046.806641\" xlink:href=\"#DejaVuSans-105\"/>\r\n      <use x=\"1074.589844\" xlink:href=\"#DejaVuSans-101\"/>\r\n      <use x=\"1136.113281\" xlink:href=\"#DejaVuSans-114\"/>\r\n      <use x=\"1177.226562\" xlink:href=\"#DejaVuSans-32\"/>\r\n      <use x=\"1209.013672\" xlink:href=\"#DejaVuSans-40\"/>\r\n      <use x=\"1248.027344\" xlink:href=\"#DejaVuSans-65\"/>\r\n      <use x=\"1316.435547\" xlink:href=\"#DejaVuSans-85\"/>\r\n      <use x=\"1389.628906\" xlink:href=\"#DejaVuSans-67\"/>\r\n      <use x=\"1459.453125\" xlink:href=\"#DejaVuSans-32\"/>\r\n      <use x=\"1491.240234\" xlink:href=\"#DejaVuSans-61\"/>\r\n      <use x=\"1575.029297\" xlink:href=\"#DejaVuSans-32\"/>\r\n      <use x=\"1606.816406\" xlink:href=\"#DejaVuSans-49\"/>\r\n      <use x=\"1670.439453\" xlink:href=\"#DejaVuSans-46\"/>\r\n      <use x=\"1702.226562\" xlink:href=\"#DejaVuSans-48\"/>\r\n      <use x=\"1765.849609\" xlink:href=\"#DejaVuSans-48\"/>\r\n      <use x=\"1829.472656\" xlink:href=\"#DejaVuSans-41\"/>\r\n     </g>\r\n    </g>\r\n   </g>\r\n  </g>\r\n  <g id=\"text_17\">\r\n   <!-- ROC curve comparison -->\r\n   <g transform=\"translate(137.040937 16.318125)scale(0.12 -0.12)\">\r\n    <defs>\r\n     <path d=\"M 39.40625 66.21875 \r\nQ 28.65625 66.21875 22.328125 58.203125 \r\nQ 16.015625 50.203125 16.015625 36.375 \r\nQ 16.015625 22.609375 22.328125 14.59375 \r\nQ 28.65625 6.59375 39.40625 6.59375 \r\nQ 50.140625 6.59375 56.421875 14.59375 \r\nQ 62.703125 22.609375 62.703125 36.375 \r\nQ 62.703125 50.203125 56.421875 58.203125 \r\nQ 50.140625 66.21875 39.40625 66.21875 \r\nz\r\nM 39.40625 74.21875 \r\nQ 54.734375 74.21875 63.90625 63.9375 \r\nQ 73.09375 53.65625 73.09375 36.375 \r\nQ 73.09375 19.140625 63.90625 8.859375 \r\nQ 54.734375 -1.421875 39.40625 -1.421875 \r\nQ 24.03125 -1.421875 14.8125 8.828125 \r\nQ 5.609375 19.09375 5.609375 36.375 \r\nQ 5.609375 53.65625 14.8125 63.9375 \r\nQ 24.03125 74.21875 39.40625 74.21875 \r\nz\r\n\" id=\"DejaVuSans-79\"/>\r\n     <path d=\"M 48.78125 52.59375 \r\nL 48.78125 44.1875 \r\nQ 44.96875 46.296875 41.140625 47.34375 \r\nQ 37.3125 48.390625 33.40625 48.390625 \r\nQ 24.65625 48.390625 19.8125 42.84375 \r\nQ 14.984375 37.3125 14.984375 27.296875 \r\nQ 14.984375 17.28125 19.8125 11.734375 \r\nQ 24.65625 6.203125 33.40625 6.203125 \r\nQ 37.3125 6.203125 41.140625 7.25 \r\nQ 44.96875 8.296875 48.78125 10.40625 \r\nL 48.78125 2.09375 \r\nQ 45.015625 0.34375 40.984375 -0.53125 \r\nQ 36.96875 -1.421875 32.421875 -1.421875 \r\nQ 20.0625 -1.421875 12.78125 6.34375 \r\nQ 5.515625 14.109375 5.515625 27.296875 \r\nQ 5.515625 40.671875 12.859375 48.328125 \r\nQ 20.21875 56 33.015625 56 \r\nQ 37.15625 56 41.109375 55.140625 \r\nQ 45.0625 54.296875 48.78125 52.59375 \r\nz\r\n\" id=\"DejaVuSans-99\"/>\r\n     <path d=\"M 18.109375 8.203125 \r\nL 18.109375 -20.796875 \r\nL 9.078125 -20.796875 \r\nL 9.078125 54.6875 \r\nL 18.109375 54.6875 \r\nL 18.109375 46.390625 \r\nQ 20.953125 51.265625 25.265625 53.625 \r\nQ 29.59375 56 35.59375 56 \r\nQ 45.5625 56 51.78125 48.09375 \r\nQ 58.015625 40.1875 58.015625 27.296875 \r\nQ 58.015625 14.40625 51.78125 6.484375 \r\nQ 45.5625 -1.421875 35.59375 -1.421875 \r\nQ 29.59375 -1.421875 25.265625 0.953125 \r\nQ 20.953125 3.328125 18.109375 8.203125 \r\nz\r\nM 48.6875 27.296875 \r\nQ 48.6875 37.203125 44.609375 42.84375 \r\nQ 40.53125 48.484375 33.40625 48.484375 \r\nQ 26.265625 48.484375 22.1875 42.84375 \r\nQ 18.109375 37.203125 18.109375 27.296875 \r\nQ 18.109375 17.390625 22.1875 11.75 \r\nQ 26.265625 6.109375 33.40625 6.109375 \r\nQ 40.53125 6.109375 44.609375 11.75 \r\nQ 48.6875 17.390625 48.6875 27.296875 \r\nz\r\n\" id=\"DejaVuSans-112\"/>\r\n    </defs>\r\n    <use xlink:href=\"#DejaVuSans-82\"/>\r\n    <use x=\"69.482422\" xlink:href=\"#DejaVuSans-79\"/>\r\n    <use x=\"148.193359\" xlink:href=\"#DejaVuSans-67\"/>\r\n    <use x=\"218.017578\" xlink:href=\"#DejaVuSans-32\"/>\r\n    <use x=\"249.804688\" xlink:href=\"#DejaVuSans-99\"/>\r\n    <use x=\"304.785156\" xlink:href=\"#DejaVuSans-117\"/>\r\n    <use x=\"368.164062\" xlink:href=\"#DejaVuSans-114\"/>\r\n    <use x=\"409.277344\" xlink:href=\"#DejaVuSans-118\"/>\r\n    <use x=\"468.457031\" xlink:href=\"#DejaVuSans-101\"/>\r\n    <use x=\"529.980469\" xlink:href=\"#DejaVuSans-32\"/>\r\n    <use x=\"561.767578\" xlink:href=\"#DejaVuSans-99\"/>\r\n    <use x=\"616.748047\" xlink:href=\"#DejaVuSans-111\"/>\r\n    <use x=\"677.929688\" xlink:href=\"#DejaVuSans-109\"/>\r\n    <use x=\"775.341797\" xlink:href=\"#DejaVuSans-112\"/>\r\n    <use x=\"838.818359\" xlink:href=\"#DejaVuSans-97\"/>\r\n    <use x=\"900.097656\" xlink:href=\"#DejaVuSans-114\"/>\r\n    <use x=\"941.210938\" xlink:href=\"#DejaVuSans-105\"/>\r\n    <use x=\"968.994141\" xlink:href=\"#DejaVuSans-115\"/>\r\n    <use x=\"1021.09375\" xlink:href=\"#DejaVuSans-111\"/>\r\n    <use x=\"1082.275391\" xlink:href=\"#DejaVuSans-110\"/>\r\n   </g>\r\n  </g>\r\n </g>\r\n <defs>\r\n  <clipPath id=\"p81fd0b64fc\">\r\n   <rect height=\"217.44\" width=\"334.8\" x=\"43.78125\" y=\"36\"/>\r\n  </clipPath>\r\n </defs>\r\n</svg>\r\n",
      "image/png": "[encoded data removed]"
     },
     "metadata": {
      "needs_background": "light"
     }
    }
   ],
   "source": [
    "svc_disp = plot_roc_curve(svc_forest, X_test, y_test)\n",
    "rfc_disp = plot_roc_curve(clf_forest, X_test, y_test, ax=svc_disp.ax_)\n",
    "rfc_disp.figure_.suptitle(\"ROC curve comparison\")"
   ]
  },
  {
   "cell_type": "code",
   "execution_count": 20,
   "metadata": {},
   "outputs": [
    {
     "data": {
      "image/png": "[encoded data removed]",
      "text/plain": [
       "<Figure size 576x432 with 1 Axes>"
      ]
     },
     "metadata": {
      "needs_background": "light"
     },
     "output_type": "display_data"
    }
   ],
   "source": []
  },
  {
   "cell_type": "markdown",
   "metadata": {},
   "source": [
    "### Afficher la matrice de confusion \n",
    "Qu'en pensez vous ? "
   ]
  },
  {
   "cell_type": "code",
   "execution_count": 63,
   "metadata": {},
   "outputs": [
    {
     "output_type": "display_data",
     "data": {
      "text/plain": "<Figure size 432x288 with 2 Axes>",
      "image/svg+xml": "<?xml version=\"1.0\" encoding=\"utf-8\" standalone=\"no\"?>\r\n<!DOCTYPE svg PUBLIC \"-//W3C//DTD SVG 1.1//EN\"\r\n  \"http://www.w3.org/Graphics/SVG/1.1/DTD/svg11.dtd\">\r\n<!-- Created with matplotlib (https://matplotlib.org/) -->\r\n<svg height=\"262.19625pt\" version=\"1.1\" viewBox=\"0 0 325.305125 262.19625\" width=\"325.305125pt\" xmlns=\"http://www.w3.org/2000/svg\" xmlns:xlink=\"http://www.w3.org/1999/xlink\">\r\n <metadata>\r\n  <rdf:RDF xmlns:cc=\"http://creativecommons.org/ns#\" xmlns:dc=\"http://purl.org/dc/elements/1.1/\" xmlns:rdf=\"http://www.w3.org/1999/02/22-rdf-syntax-ns#\">\r\n   <cc:Work>\r\n    <dc:type rdf:resource=\"http://purl.org/dc/dcmitype/StillImage\"/>\r\n    <dc:date>2021-04-15T11:49:30.587214</dc:date>\r\n    <dc:format>image/svg+xml</dc:format>\r\n    <dc:creator>\r\n     <cc:Agent>\r\n      <dc:title>Matplotlib v3.3.3, https://matplotlib.org/</dc:title>\r\n     </cc:Agent>\r\n    </dc:creator>\r\n   </cc:Work>\r\n  </rdf:RDF>\r\n </metadata>\r\n <defs>\r\n  <style type=\"text/css\">*{stroke-linecap:butt;stroke-linejoin:round;}</style>\r\n </defs>\r\n <g id=\"figure_1\">\r\n  <g id=\"patch_1\">\r\n   <path d=\"M 0 262.19625 \r\nL 325.305125 262.19625 \r\nL 325.305125 0 \r\nL 0 0 \r\nz\r\n\" style=\"fill:none;\"/>\r\n  </g>\r\n  <g id=\"axes_1\">\r\n   <g id=\"patch_2\">\r\n    <path d=\"M 34.240625 224.64 \r\nL 251.680625 224.64 \r\nL 251.680625 7.2 \r\nL 34.240625 7.2 \r\nz\r\n\" style=\"fill:#ffffff;\"/>\r\n   </g>\r\n   <g clip-path=\"url(#pcbbb1eb83b)\">\r\n    <image height=\"218\" id=\"imageb5abc414e0\" transform=\"scale(1 -1)translate(0 -218)\" width=\"218\" x=\"34.240625\" xlink:href=\"data:image/png;base64,\r\niVBORw0KGgoAAAANSUhEUgAAANoAAADaCAYAAADAHVzbAAACmElEQVR4nO3VsQ3CQAAEQR66cIbkAigCiQbcf0oVyNTwyb4QMxVcsrrxHMd54afc9vvqCUy6rh4A/0BoEBAaBIQGAaFBQGgQEBoEhAYBoUFAaBAQGgSEBgGhQUBoEBAaBIQGAaFBQGgQEBoEhAYBoUFAaBAQGgSEBgGhQUBoEBAaBIQGAaFBQGgQEBoEhAYBoUFAaBAQGgSEBgGhQUBoEBAaBIQGAaFBQGgQEBoEhAYBoUFAaBAQGgSEBgGhQUBoEBAaBIQGAaFBQGgQEBoEhAYBoUFAaBAQGgSEBgGhQUBoEBAaBIQGAaFBQGgQEBoEhAYBoUFAaBAQGgSEBgGhQUBoEBAaBIQGAaFBQGgQEBoEhAYBoUFAaBAQGgSEBgGhQUBoEBAaBIQGAaFBQGgQEBoEhAYBoUFAaBAQGgSEBgGhQUBoEBAaBIQGAaFBQGgQEBoEhAYBoUFAaBAQGgSEBoHxee/n6hHMeW2P1ROY5NEgIDQICA0CQoOA0CAgNAgIDQJCg4DQICA0CAgNAkKDgNAgIDQICA0CQoOA0CAgNAgIDQJCg4DQICA0CAgNAkKDgNAgIDQICA0CQoOA0CAgNAgIDQJCg4DQICA0CAgNAkKDgNAgIDQICA0CQoOA0CAgNAgIDQJCg4DQICA0CAgNAkKDgNAgIDQICA0CQoOA0CAgNAgIDQJCg4DQICA0CAgNAkKDgNAgIDQICA0CQoOA0CAgNAgIDQJCg4DQICA0CAgNAkKDgNAgIDQICA0CQoOA0CAgNAgIDQJCg4DQICA0CAgNAkKDgNAgIDQICA0CQoOA0CAgNAgIDQJCg4DQICA0CAgNAkKDgNAgIDQICA0CQoOA0CAgNAgIDQJCg4DQICA0CAgNAkKDwBeCgAcrlPQIhwAAAABJRU5ErkJggg==\" y=\"-6.64\"/>\r\n   </g>\r\n   <g id=\"matplotlib.axis_1\">\r\n    <g id=\"xtick_1\">\r\n     <g id=\"line2d_1\">\r\n      <defs>\r\n       <path d=\"M 0 0 \r\nL 0 3.5 \r\n\" id=\"m80f06556e3\" style=\"stroke:#000000;stroke-width:0.8;\"/>\r\n      </defs>\r\n      <g>\r\n       <use style=\"stroke:#000000;stroke-width:0.8;\" x=\"88.600625\" xlink:href=\"#m80f06556e3\" y=\"224.64\"/>\r\n      </g>\r\n     </g>\r\n     <g id=\"text_1\">\r\n      <!-- 0 -->\r\n      <g transform=\"translate(85.419375 239.238437)scale(0.1 -0.1)\">\r\n       <defs>\r\n        <path d=\"M 31.78125 66.40625 \r\nQ 24.171875 66.40625 20.328125 58.90625 \r\nQ 16.5 51.421875 16.5 36.375 \r\nQ 16.5 21.390625 20.328125 13.890625 \r\nQ 24.171875 6.390625 31.78125 6.390625 \r\nQ 39.453125 6.390625 43.28125 13.890625 \r\nQ 47.125 21.390625 47.125 36.375 \r\nQ 47.125 51.421875 43.28125 58.90625 \r\nQ 39.453125 66.40625 31.78125 66.40625 \r\nz\r\nM 31.78125 74.21875 \r\nQ 44.046875 74.21875 50.515625 64.515625 \r\nQ 56.984375 54.828125 56.984375 36.375 \r\nQ 56.984375 17.96875 50.515625 8.265625 \r\nQ 44.046875 -1.421875 31.78125 -1.421875 \r\nQ 19.53125 -1.421875 13.0625 8.265625 \r\nQ 6.59375 17.96875 6.59375 36.375 \r\nQ 6.59375 54.828125 13.0625 64.515625 \r\nQ 19.53125 74.21875 31.78125 74.21875 \r\nz\r\n\" id=\"DejaVuSans-48\"/>\r\n       </defs>\r\n       <use xlink:href=\"#DejaVuSans-48\"/>\r\n      </g>\r\n     </g>\r\n    </g>\r\n    <g id=\"xtick_2\">\r\n     <g id=\"line2d_2\">\r\n      <g>\r\n       <use style=\"stroke:#000000;stroke-width:0.8;\" x=\"197.320625\" xlink:href=\"#m80f06556e3\" y=\"224.64\"/>\r\n      </g>\r\n     </g>\r\n     <g id=\"text_2\">\r\n      <!-- 1 -->\r\n      <g transform=\"translate(194.139375 239.238437)scale(0.1 -0.1)\">\r\n       <defs>\r\n        <path d=\"M 12.40625 8.296875 \r\nL 28.515625 8.296875 \r\nL 28.515625 63.921875 \r\nL 10.984375 60.40625 \r\nL 10.984375 69.390625 \r\nL 28.421875 72.90625 \r\nL 38.28125 72.90625 \r\nL 38.28125 8.296875 \r\nL 54.390625 8.296875 \r\nL 54.390625 0 \r\nL 12.40625 0 \r\nz\r\n\" id=\"DejaVuSans-49\"/>\r\n       </defs>\r\n       <use xlink:href=\"#DejaVuSans-49\"/>\r\n      </g>\r\n     </g>\r\n    </g>\r\n    <g id=\"text_3\">\r\n     <!-- Predicted label -->\r\n     <g transform=\"translate(105.808281 252.916562)scale(0.1 -0.1)\">\r\n      <defs>\r\n       <path d=\"M 19.671875 64.796875 \r\nL 19.671875 37.40625 \r\nL 32.078125 37.40625 \r\nQ 38.96875 37.40625 42.71875 40.96875 \r\nQ 46.484375 44.53125 46.484375 51.125 \r\nQ 46.484375 57.671875 42.71875 61.234375 \r\nQ 38.96875 64.796875 32.078125 64.796875 \r\nz\r\nM 9.8125 72.90625 \r\nL 32.078125 72.90625 \r\nQ 44.34375 72.90625 50.609375 67.359375 \r\nQ 56.890625 61.8125 56.890625 51.125 \r\nQ 56.890625 40.328125 50.609375 34.8125 \r\nQ 44.34375 29.296875 32.078125 29.296875 \r\nL 19.671875 29.296875 \r\nL 19.671875 0 \r\nL 9.8125 0 \r\nz\r\n\" id=\"DejaVuSans-80\"/>\r\n       <path d=\"M 41.109375 46.296875 \r\nQ 39.59375 47.171875 37.8125 47.578125 \r\nQ 36.03125 48 33.890625 48 \r\nQ 26.265625 48 22.1875 43.046875 \r\nQ 18.109375 38.09375 18.109375 28.8125 \r\nL 18.109375 0 \r\nL 9.078125 0 \r\nL 9.078125 54.6875 \r\nL 18.109375 54.6875 \r\nL 18.109375 46.1875 \r\nQ 20.953125 51.171875 25.484375 53.578125 \r\nQ 30.03125 56 36.53125 56 \r\nQ 37.453125 56 38.578125 55.875 \r\nQ 39.703125 55.765625 41.0625 55.515625 \r\nz\r\n\" id=\"DejaVuSans-114\"/>\r\n       <path d=\"M 56.203125 29.59375 \r\nL 56.203125 25.203125 \r\nL 14.890625 25.203125 \r\nQ 15.484375 15.921875 20.484375 11.0625 \r\nQ 25.484375 6.203125 34.421875 6.203125 \r\nQ 39.59375 6.203125 44.453125 7.46875 \r\nQ 49.3125 8.734375 54.109375 11.28125 \r\nL 54.109375 2.78125 \r\nQ 49.265625 0.734375 44.1875 -0.34375 \r\nQ 39.109375 -1.421875 33.890625 -1.421875 \r\nQ 20.796875 -1.421875 13.15625 6.1875 \r\nQ 5.515625 13.8125 5.515625 26.8125 \r\nQ 5.515625 40.234375 12.765625 48.109375 \r\nQ 20.015625 56 32.328125 56 \r\nQ 43.359375 56 49.78125 48.890625 \r\nQ 56.203125 41.796875 56.203125 29.59375 \r\nz\r\nM 47.21875 32.234375 \r\nQ 47.125 39.59375 43.09375 43.984375 \r\nQ 39.0625 48.390625 32.421875 48.390625 \r\nQ 24.90625 48.390625 20.390625 44.140625 \r\nQ 15.875 39.890625 15.1875 32.171875 \r\nz\r\n\" id=\"DejaVuSans-101\"/>\r\n       <path d=\"M 45.40625 46.390625 \r\nL 45.40625 75.984375 \r\nL 54.390625 75.984375 \r\nL 54.390625 0 \r\nL 45.40625 0 \r\nL 45.40625 8.203125 \r\nQ 42.578125 3.328125 38.25 0.953125 \r\nQ 33.9375 -1.421875 27.875 -1.421875 \r\nQ 17.96875 -1.421875 11.734375 6.484375 \r\nQ 5.515625 14.40625 5.515625 27.296875 \r\nQ 5.515625 40.1875 11.734375 48.09375 \r\nQ 17.96875 56 27.875 56 \r\nQ 33.9375 56 38.25 53.625 \r\nQ 42.578125 51.265625 45.40625 46.390625 \r\nz\r\nM 14.796875 27.296875 \r\nQ 14.796875 17.390625 18.875 11.75 \r\nQ 22.953125 6.109375 30.078125 6.109375 \r\nQ 37.203125 6.109375 41.296875 11.75 \r\nQ 45.40625 17.390625 45.40625 27.296875 \r\nQ 45.40625 37.203125 41.296875 42.84375 \r\nQ 37.203125 48.484375 30.078125 48.484375 \r\nQ 22.953125 48.484375 18.875 42.84375 \r\nQ 14.796875 37.203125 14.796875 27.296875 \r\nz\r\n\" id=\"DejaVuSans-100\"/>\r\n       <path d=\"M 9.421875 54.6875 \r\nL 18.40625 54.6875 \r\nL 18.40625 0 \r\nL 9.421875 0 \r\nz\r\nM 9.421875 75.984375 \r\nL 18.40625 75.984375 \r\nL 18.40625 64.59375 \r\nL 9.421875 64.59375 \r\nz\r\n\" id=\"DejaVuSans-105\"/>\r\n       <path d=\"M 48.78125 52.59375 \r\nL 48.78125 44.1875 \r\nQ 44.96875 46.296875 41.140625 47.34375 \r\nQ 37.3125 48.390625 33.40625 48.390625 \r\nQ 24.65625 48.390625 19.8125 42.84375 \r\nQ 14.984375 37.3125 14.984375 27.296875 \r\nQ 14.984375 17.28125 19.8125 11.734375 \r\nQ 24.65625 6.203125 33.40625 6.203125 \r\nQ 37.3125 6.203125 41.140625 7.25 \r\nQ 44.96875 8.296875 48.78125 10.40625 \r\nL 48.78125 2.09375 \r\nQ 45.015625 0.34375 40.984375 -0.53125 \r\nQ 36.96875 -1.421875 32.421875 -1.421875 \r\nQ 20.0625 -1.421875 12.78125 6.34375 \r\nQ 5.515625 14.109375 5.515625 27.296875 \r\nQ 5.515625 40.671875 12.859375 48.328125 \r\nQ 20.21875 56 33.015625 56 \r\nQ 37.15625 56 41.109375 55.140625 \r\nQ 45.0625 54.296875 48.78125 52.59375 \r\nz\r\n\" id=\"DejaVuSans-99\"/>\r\n       <path d=\"M 18.3125 70.21875 \r\nL 18.3125 54.6875 \r\nL 36.8125 54.6875 \r\nL 36.8125 47.703125 \r\nL 18.3125 47.703125 \r\nL 18.3125 18.015625 \r\nQ 18.3125 11.328125 20.140625 9.421875 \r\nQ 21.96875 7.515625 27.59375 7.515625 \r\nL 36.8125 7.515625 \r\nL 36.8125 0 \r\nL 27.59375 0 \r\nQ 17.1875 0 13.234375 3.875 \r\nQ 9.28125 7.765625 9.28125 18.015625 \r\nL 9.28125 47.703125 \r\nL 2.6875 47.703125 \r\nL 2.6875 54.6875 \r\nL 9.28125 54.6875 \r\nL 9.28125 70.21875 \r\nz\r\n\" id=\"DejaVuSans-116\"/>\r\n       <path id=\"DejaVuSans-32\"/>\r\n       <path d=\"M 9.421875 75.984375 \r\nL 18.40625 75.984375 \r\nL 18.40625 0 \r\nL 9.421875 0 \r\nz\r\n\" id=\"DejaVuSans-108\"/>\r\n       <path d=\"M 34.28125 27.484375 \r\nQ 23.390625 27.484375 19.1875 25 \r\nQ 14.984375 22.515625 14.984375 16.5 \r\nQ 14.984375 11.71875 18.140625 8.90625 \r\nQ 21.296875 6.109375 26.703125 6.109375 \r\nQ 34.1875 6.109375 38.703125 11.40625 \r\nQ 43.21875 16.703125 43.21875 25.484375 \r\nL 43.21875 27.484375 \r\nz\r\nM 52.203125 31.203125 \r\nL 52.203125 0 \r\nL 43.21875 0 \r\nL 43.21875 8.296875 \r\nQ 40.140625 3.328125 35.546875 0.953125 \r\nQ 30.953125 -1.421875 24.3125 -1.421875 \r\nQ 15.921875 -1.421875 10.953125 3.296875 \r\nQ 6 8.015625 6 15.921875 \r\nQ 6 25.140625 12.171875 29.828125 \r\nQ 18.359375 34.515625 30.609375 34.515625 \r\nL 43.21875 34.515625 \r\nL 43.21875 35.40625 \r\nQ 43.21875 41.609375 39.140625 45 \r\nQ 35.0625 48.390625 27.6875 48.390625 \r\nQ 23 48.390625 18.546875 47.265625 \r\nQ 14.109375 46.140625 10.015625 43.890625 \r\nL 10.015625 52.203125 \r\nQ 14.9375 54.109375 19.578125 55.046875 \r\nQ 24.21875 56 28.609375 56 \r\nQ 40.484375 56 46.34375 49.84375 \r\nQ 52.203125 43.703125 52.203125 31.203125 \r\nz\r\n\" id=\"DejaVuSans-97\"/>\r\n       <path d=\"M 48.6875 27.296875 \r\nQ 48.6875 37.203125 44.609375 42.84375 \r\nQ 40.53125 48.484375 33.40625 48.484375 \r\nQ 26.265625 48.484375 22.1875 42.84375 \r\nQ 18.109375 37.203125 18.109375 27.296875 \r\nQ 18.109375 17.390625 22.1875 11.75 \r\nQ 26.265625 6.109375 33.40625 6.109375 \r\nQ 40.53125 6.109375 44.609375 11.75 \r\nQ 48.6875 17.390625 48.6875 27.296875 \r\nz\r\nM 18.109375 46.390625 \r\nQ 20.953125 51.265625 25.265625 53.625 \r\nQ 29.59375 56 35.59375 56 \r\nQ 45.5625 56 51.78125 48.09375 \r\nQ 58.015625 40.1875 58.015625 27.296875 \r\nQ 58.015625 14.40625 51.78125 6.484375 \r\nQ 45.5625 -1.421875 35.59375 -1.421875 \r\nQ 29.59375 -1.421875 25.265625 0.953125 \r\nQ 20.953125 3.328125 18.109375 8.203125 \r\nL 18.109375 0 \r\nL 9.078125 0 \r\nL 9.078125 75.984375 \r\nL 18.109375 75.984375 \r\nz\r\n\" id=\"DejaVuSans-98\"/>\r\n      </defs>\r\n      <use xlink:href=\"#DejaVuSans-80\"/>\r\n      <use x=\"58.552734\" xlink:href=\"#DejaVuSans-114\"/>\r\n      <use x=\"97.416016\" xlink:href=\"#DejaVuSans-101\"/>\r\n      <use x=\"158.939453\" xlink:href=\"#DejaVuSans-100\"/>\r\n      <use x=\"222.416016\" xlink:href=\"#DejaVuSans-105\"/>\r\n      <use x=\"250.199219\" xlink:href=\"#DejaVuSans-99\"/>\r\n      <use x=\"305.179688\" xlink:href=\"#DejaVuSans-116\"/>\r\n      <use x=\"344.388672\" xlink:href=\"#DejaVuSans-101\"/>\r\n      <use x=\"405.912109\" xlink:href=\"#DejaVuSans-100\"/>\r\n      <use x=\"469.388672\" xlink:href=\"#DejaVuSans-32\"/>\r\n      <use x=\"501.175781\" xlink:href=\"#DejaVuSans-108\"/>\r\n      <use x=\"528.958984\" xlink:href=\"#DejaVuSans-97\"/>\r\n      <use x=\"590.238281\" xlink:href=\"#DejaVuSans-98\"/>\r\n      <use x=\"653.714844\" xlink:href=\"#DejaVuSans-101\"/>\r\n      <use x=\"715.238281\" xlink:href=\"#DejaVuSans-108\"/>\r\n     </g>\r\n    </g>\r\n   </g>\r\n   <g id=\"matplotlib.axis_2\">\r\n    <g id=\"ytick_1\">\r\n     <g id=\"line2d_3\">\r\n      <defs>\r\n       <path d=\"M 0 0 \r\nL -3.5 0 \r\n\" id=\"m73985bf7b1\" style=\"stroke:#000000;stroke-width:0.8;\"/>\r\n      </defs>\r\n      <g>\r\n       <use style=\"stroke:#000000;stroke-width:0.8;\" x=\"34.240625\" xlink:href=\"#m73985bf7b1\" y=\"61.56\"/>\r\n      </g>\r\n     </g>\r\n     <g id=\"text_4\">\r\n      <!-- 0 -->\r\n      <g transform=\"translate(20.878125 65.359219)scale(0.1 -0.1)\">\r\n       <use xlink:href=\"#DejaVuSans-48\"/>\r\n      </g>\r\n     </g>\r\n    </g>\r\n    <g id=\"ytick_2\">\r\n     <g id=\"line2d_4\">\r\n      <g>\r\n       <use style=\"stroke:#000000;stroke-width:0.8;\" x=\"34.240625\" xlink:href=\"#m73985bf7b1\" y=\"170.28\"/>\r\n      </g>\r\n     </g>\r\n     <g id=\"text_5\">\r\n      <!-- 1 -->\r\n      <g transform=\"translate(20.878125 174.079219)scale(0.1 -0.1)\">\r\n       <use xlink:href=\"#DejaVuSans-49\"/>\r\n      </g>\r\n     </g>\r\n    </g>\r\n    <g id=\"text_6\">\r\n     <!-- True label -->\r\n     <g transform=\"translate(14.798437 140.219219)rotate(-90)scale(0.1 -0.1)\">\r\n      <defs>\r\n       <path d=\"M -0.296875 72.90625 \r\nL 61.375 72.90625 \r\nL 61.375 64.59375 \r\nL 35.5 64.59375 \r\nL 35.5 0 \r\nL 25.59375 0 \r\nL 25.59375 64.59375 \r\nL -0.296875 64.59375 \r\nz\r\n\" id=\"DejaVuSans-84\"/>\r\n       <path d=\"M 8.5 21.578125 \r\nL 8.5 54.6875 \r\nL 17.484375 54.6875 \r\nL 17.484375 21.921875 \r\nQ 17.484375 14.15625 20.5 10.265625 \r\nQ 23.53125 6.390625 29.59375 6.390625 \r\nQ 36.859375 6.390625 41.078125 11.03125 \r\nQ 45.3125 15.671875 45.3125 23.6875 \r\nL 45.3125 54.6875 \r\nL 54.296875 54.6875 \r\nL 54.296875 0 \r\nL 45.3125 0 \r\nL 45.3125 8.40625 \r\nQ 42.046875 3.421875 37.71875 1 \r\nQ 33.40625 -1.421875 27.6875 -1.421875 \r\nQ 18.265625 -1.421875 13.375 4.4375 \r\nQ 8.5 10.296875 8.5 21.578125 \r\nz\r\nM 31.109375 56 \r\nz\r\n\" id=\"DejaVuSans-117\"/>\r\n      </defs>\r\n      <use xlink:href=\"#DejaVuSans-84\"/>\r\n      <use x=\"46.333984\" xlink:href=\"#DejaVuSans-114\"/>\r\n      <use x=\"87.447266\" xlink:href=\"#DejaVuSans-117\"/>\r\n      <use x=\"150.826172\" xlink:href=\"#DejaVuSans-101\"/>\r\n      <use x=\"212.349609\" xlink:href=\"#DejaVuSans-32\"/>\r\n      <use x=\"244.136719\" xlink:href=\"#DejaVuSans-108\"/>\r\n      <use x=\"271.919922\" xlink:href=\"#DejaVuSans-97\"/>\r\n      <use x=\"333.199219\" xlink:href=\"#DejaVuSans-98\"/>\r\n      <use x=\"396.675781\" xlink:href=\"#DejaVuSans-101\"/>\r\n      <use x=\"458.199219\" xlink:href=\"#DejaVuSans-108\"/>\r\n     </g>\r\n    </g>\r\n   </g>\r\n   <g id=\"patch_3\">\r\n    <path d=\"M 34.240625 224.64 \r\nL 34.240625 7.2 \r\n\" style=\"fill:none;stroke:#000000;stroke-linecap:square;stroke-linejoin:miter;stroke-width:0.8;\"/>\r\n   </g>\r\n   <g id=\"patch_4\">\r\n    <path d=\"M 251.680625 224.64 \r\nL 251.680625 7.2 \r\n\" style=\"fill:none;stroke:#000000;stroke-linecap:square;stroke-linejoin:miter;stroke-width:0.8;\"/>\r\n   </g>\r\n   <g id=\"patch_5\">\r\n    <path d=\"M 34.240625 224.64 \r\nL 251.680625 224.64 \r\n\" style=\"fill:none;stroke:#000000;stroke-linecap:square;stroke-linejoin:miter;stroke-width:0.8;\"/>\r\n   </g>\r\n   <g id=\"patch_6\">\r\n    <path d=\"M 34.240625 7.2 \r\nL 251.680625 7.2 \r\n\" style=\"fill:none;stroke:#000000;stroke-linecap:square;stroke-linejoin:miter;stroke-width:0.8;\"/>\r\n   </g>\r\n   <g id=\"text_7\">\r\n    <!-- 34284 -->\r\n    <g style=\"fill:#440154;\" transform=\"translate(72.694375 64.319375)scale(0.1 -0.1)\">\r\n     <defs>\r\n      <path d=\"M 40.578125 39.3125 \r\nQ 47.65625 37.796875 51.625 33 \r\nQ 55.609375 28.21875 55.609375 21.1875 \r\nQ 55.609375 10.40625 48.1875 4.484375 \r\nQ 40.765625 -1.421875 27.09375 -1.421875 \r\nQ 22.515625 -1.421875 17.65625 -0.515625 \r\nQ 12.796875 0.390625 7.625 2.203125 \r\nL 7.625 11.71875 \r\nQ 11.71875 9.328125 16.59375 8.109375 \r\nQ 21.484375 6.890625 26.8125 6.890625 \r\nQ 36.078125 6.890625 40.9375 10.546875 \r\nQ 45.796875 14.203125 45.796875 21.1875 \r\nQ 45.796875 27.640625 41.28125 31.265625 \r\nQ 36.765625 34.90625 28.71875 34.90625 \r\nL 20.21875 34.90625 \r\nL 20.21875 43.015625 \r\nL 29.109375 43.015625 \r\nQ 36.375 43.015625 40.234375 45.921875 \r\nQ 44.09375 48.828125 44.09375 54.296875 \r\nQ 44.09375 59.90625 40.109375 62.90625 \r\nQ 36.140625 65.921875 28.71875 65.921875 \r\nQ 24.65625 65.921875 20.015625 65.03125 \r\nQ 15.375 64.15625 9.8125 62.3125 \r\nL 9.8125 71.09375 \r\nQ 15.4375 72.65625 20.34375 73.4375 \r\nQ 25.25 74.21875 29.59375 74.21875 \r\nQ 40.828125 74.21875 47.359375 69.109375 \r\nQ 53.90625 64.015625 53.90625 55.328125 \r\nQ 53.90625 49.265625 50.4375 45.09375 \r\nQ 46.96875 40.921875 40.578125 39.3125 \r\nz\r\n\" id=\"DejaVuSans-51\"/>\r\n      <path d=\"M 37.796875 64.3125 \r\nL 12.890625 25.390625 \r\nL 37.796875 25.390625 \r\nz\r\nM 35.203125 72.90625 \r\nL 47.609375 72.90625 \r\nL 47.609375 25.390625 \r\nL 58.015625 25.390625 \r\nL 58.015625 17.1875 \r\nL 47.609375 17.1875 \r\nL 47.609375 0 \r\nL 37.796875 0 \r\nL 37.796875 17.1875 \r\nL 4.890625 17.1875 \r\nL 4.890625 26.703125 \r\nz\r\n\" id=\"DejaVuSans-52\"/>\r\n      <path d=\"M 19.1875 8.296875 \r\nL 53.609375 8.296875 \r\nL 53.609375 0 \r\nL 7.328125 0 \r\nL 7.328125 8.296875 \r\nQ 12.9375 14.109375 22.625 23.890625 \r\nQ 32.328125 33.6875 34.8125 36.53125 \r\nQ 39.546875 41.84375 41.421875 45.53125 \r\nQ 43.3125 49.21875 43.3125 52.78125 \r\nQ 43.3125 58.59375 39.234375 62.25 \r\nQ 35.15625 65.921875 28.609375 65.921875 \r\nQ 23.96875 65.921875 18.8125 64.3125 \r\nQ 13.671875 62.703125 7.8125 59.421875 \r\nL 7.8125 69.390625 \r\nQ 13.765625 71.78125 18.9375 73 \r\nQ 24.125 74.21875 28.421875 74.21875 \r\nQ 39.75 74.21875 46.484375 68.546875 \r\nQ 53.21875 62.890625 53.21875 53.421875 \r\nQ 53.21875 48.921875 51.53125 44.890625 \r\nQ 49.859375 40.875 45.40625 35.40625 \r\nQ 44.1875 33.984375 37.640625 27.21875 \r\nQ 31.109375 20.453125 19.1875 8.296875 \r\nz\r\n\" id=\"DejaVuSans-50\"/>\r\n      <path d=\"M 31.78125 34.625 \r\nQ 24.75 34.625 20.71875 30.859375 \r\nQ 16.703125 27.09375 16.703125 20.515625 \r\nQ 16.703125 13.921875 20.71875 10.15625 \r\nQ 24.75 6.390625 31.78125 6.390625 \r\nQ 38.8125 6.390625 42.859375 10.171875 \r\nQ 46.921875 13.96875 46.921875 20.515625 \r\nQ 46.921875 27.09375 42.890625 30.859375 \r\nQ 38.875 34.625 31.78125 34.625 \r\nz\r\nM 21.921875 38.8125 \r\nQ 15.578125 40.375 12.03125 44.71875 \r\nQ 8.5 49.078125 8.5 55.328125 \r\nQ 8.5 64.0625 14.71875 69.140625 \r\nQ 20.953125 74.21875 31.78125 74.21875 \r\nQ 42.671875 74.21875 48.875 69.140625 \r\nQ 55.078125 64.0625 55.078125 55.328125 \r\nQ 55.078125 49.078125 51.53125 44.71875 \r\nQ 48 40.375 41.703125 38.8125 \r\nQ 48.828125 37.15625 52.796875 32.3125 \r\nQ 56.78125 27.484375 56.78125 20.515625 \r\nQ 56.78125 9.90625 50.3125 4.234375 \r\nQ 43.84375 -1.421875 31.78125 -1.421875 \r\nQ 19.734375 -1.421875 13.25 4.234375 \r\nQ 6.78125 9.90625 6.78125 20.515625 \r\nQ 6.78125 27.484375 10.78125 32.3125 \r\nQ 14.796875 37.15625 21.921875 38.8125 \r\nz\r\nM 18.3125 54.390625 \r\nQ 18.3125 48.734375 21.84375 45.5625 \r\nQ 25.390625 42.390625 31.78125 42.390625 \r\nQ 38.140625 42.390625 41.71875 45.5625 \r\nQ 45.3125 48.734375 45.3125 54.390625 \r\nQ 45.3125 60.0625 41.71875 63.234375 \r\nQ 38.140625 66.40625 31.78125 66.40625 \r\nQ 25.390625 66.40625 21.84375 63.234375 \r\nQ 18.3125 60.0625 18.3125 54.390625 \r\nz\r\n\" id=\"DejaVuSans-56\"/>\r\n     </defs>\r\n     <use xlink:href=\"#DejaVuSans-51\"/>\r\n     <use x=\"63.623047\" xlink:href=\"#DejaVuSans-52\"/>\r\n     <use x=\"127.246094\" xlink:href=\"#DejaVuSans-50\"/>\r\n     <use x=\"190.869141\" xlink:href=\"#DejaVuSans-56\"/>\r\n     <use x=\"254.492188\" xlink:href=\"#DejaVuSans-52\"/>\r\n    </g>\r\n   </g>\r\n   <g id=\"text_8\">\r\n    <!-- 0 -->\r\n    <g style=\"fill:#fde725;\" transform=\"translate(194.139375 64.319375)scale(0.1 -0.1)\">\r\n     <use xlink:href=\"#DejaVuSans-48\"/>\r\n    </g>\r\n   </g>\r\n   <g id=\"text_9\">\r\n    <!-- 0 -->\r\n    <g style=\"fill:#fde725;\" transform=\"translate(85.419375 173.039375)scale(0.1 -0.1)\">\r\n     <use xlink:href=\"#DejaVuSans-48\"/>\r\n    </g>\r\n   </g>\r\n   <g id=\"text_10\">\r\n    <!-- 3494 -->\r\n    <g style=\"fill:#fde725;\" transform=\"translate(184.595625 173.039375)scale(0.1 -0.1)\">\r\n     <defs>\r\n      <path d=\"M 10.984375 1.515625 \r\nL 10.984375 10.5 \r\nQ 14.703125 8.734375 18.5 7.8125 \r\nQ 22.3125 6.890625 25.984375 6.890625 \r\nQ 35.75 6.890625 40.890625 13.453125 \r\nQ 46.046875 20.015625 46.78125 33.40625 \r\nQ 43.953125 29.203125 39.59375 26.953125 \r\nQ 35.25 24.703125 29.984375 24.703125 \r\nQ 19.046875 24.703125 12.671875 31.3125 \r\nQ 6.296875 37.9375 6.296875 49.421875 \r\nQ 6.296875 60.640625 12.9375 67.421875 \r\nQ 19.578125 74.21875 30.609375 74.21875 \r\nQ 43.265625 74.21875 49.921875 64.515625 \r\nQ 56.59375 54.828125 56.59375 36.375 \r\nQ 56.59375 19.140625 48.40625 8.859375 \r\nQ 40.234375 -1.421875 26.421875 -1.421875 \r\nQ 22.703125 -1.421875 18.890625 -0.6875 \r\nQ 15.09375 0.046875 10.984375 1.515625 \r\nz\r\nM 30.609375 32.421875 \r\nQ 37.25 32.421875 41.125 36.953125 \r\nQ 45.015625 41.5 45.015625 49.421875 \r\nQ 45.015625 57.28125 41.125 61.84375 \r\nQ 37.25 66.40625 30.609375 66.40625 \r\nQ 23.96875 66.40625 20.09375 61.84375 \r\nQ 16.21875 57.28125 16.21875 49.421875 \r\nQ 16.21875 41.5 20.09375 36.953125 \r\nQ 23.96875 32.421875 30.609375 32.421875 \r\nz\r\n\" id=\"DejaVuSans-57\"/>\r\n     </defs>\r\n     <use xlink:href=\"#DejaVuSans-51\"/>\r\n     <use x=\"63.623047\" xlink:href=\"#DejaVuSans-52\"/>\r\n     <use x=\"127.246094\" xlink:href=\"#DejaVuSans-57\"/>\r\n     <use x=\"190.869141\" xlink:href=\"#DejaVuSans-52\"/>\r\n    </g>\r\n   </g>\r\n  </g>\r\n  <g id=\"axes_2\">\r\n   <g id=\"patch_7\">\r\n    <path clip-path=\"url(#pb946479642)\" d=\"M 268.420625 224.64 \r\nL 268.420625 223.790625 \r\nL 268.420625 8.049375 \r\nL 268.420625 7.2 \r\nL 279.292625 7.2 \r\nL 279.292625 8.049375 \r\nL 279.292625 223.790625 \r\nL 279.292625 224.64 \r\nz\r\n\" style=\"fill:#ffffff;stroke:#ffffff;stroke-linejoin:miter;stroke-width:0.01;\"/>\r\n   </g>\r\n   <image height=\"217\" id=\"image9bc9695158\" transform=\"scale(1 -1)translate(0 -217)\" width=\"11\" x=\"268\" xlink:href=\"data:image/png;base64,\r\niVBORw0KGgoAAAANSUhEUgAAAAsAAADZCAYAAAD2WsoCAAABYUlEQVR4nO3aQW7DMBBDUWkk52Q9Q+9/kLbptkA2egsC4yJZE8QnZ2Q7TuZHfT7H4WfPmqfaseda5+IxC8SCMaYwl2CI86A2qOce1VlAcs6J3238FcfaeK4eAYnZxt0D4/xKkMUQ5yBzynmIMy2/9UwYsTZsgrQbxgziJm0EMXLVUcAupxvE5IwBUxjoHLvI3LKNmPMd2zjX4vPGHSf4/8dNzi3GDRDv0/0iPj/fd9yNNm0Exw3MweoqhdGkDXhESrYxRi4gOM9YQOuZmE0MGNSGYZxTcMBUG6t+OmBUrI0l4hxGE+c1Ydzk3ES87xhQbhPWRn13wCgZih1YYaY2lrWR2jpqY08KmGMWZ+mZnC9pw1Y0thu5oTzmFzjHhlISkJb/koDUM16RyDm1G7T8ts/BgKkb0GPQpUCWn06KBTzWjn3ZgQXnBV8It7zd20t+yCjBuOB9lmKAMzEv+SOQYPwCBCyBaHjgE4oAAAAASUVORK5CYII=\" y=\"-7\"/>\r\n   <g id=\"matplotlib.axis_3\"/>\r\n   <g id=\"matplotlib.axis_4\">\r\n    <g id=\"ytick_3\">\r\n     <g id=\"line2d_5\">\r\n      <defs>\r\n       <path d=\"M 0 0 \r\nL 3.5 0 \r\n\" id=\"m1ed746defd\" style=\"stroke:#000000;stroke-width:0.8;\"/>\r\n      </defs>\r\n      <g>\r\n       <use style=\"stroke:#000000;stroke-width:0.8;\" x=\"279.292625\" xlink:href=\"#m1ed746defd\" y=\"224.64\"/>\r\n      </g>\r\n     </g>\r\n     <g id=\"text_11\">\r\n      <!-- 0 -->\r\n      <g transform=\"translate(286.292625 228.439219)scale(0.1 -0.1)\">\r\n       <use xlink:href=\"#DejaVuSans-48\"/>\r\n      </g>\r\n     </g>\r\n    </g>\r\n    <g id=\"ytick_4\">\r\n     <g id=\"line2d_6\">\r\n      <g>\r\n       <use style=\"stroke:#000000;stroke-width:0.8;\" x=\"279.292625\" xlink:href=\"#m1ed746defd\" y=\"192.928414\"/>\r\n      </g>\r\n     </g>\r\n     <g id=\"text_12\">\r\n      <!-- 5000 -->\r\n      <g transform=\"translate(286.292625 196.727633)scale(0.1 -0.1)\">\r\n       <defs>\r\n        <path d=\"M 10.796875 72.90625 \r\nL 49.515625 72.90625 \r\nL 49.515625 64.59375 \r\nL 19.828125 64.59375 \r\nL 19.828125 46.734375 \r\nQ 21.96875 47.46875 24.109375 47.828125 \r\nQ 26.265625 48.1875 28.421875 48.1875 \r\nQ 40.625 48.1875 47.75 41.5 \r\nQ 54.890625 34.8125 54.890625 23.390625 \r\nQ 54.890625 11.625 47.5625 5.09375 \r\nQ 40.234375 -1.421875 26.90625 -1.421875 \r\nQ 22.3125 -1.421875 17.546875 -0.640625 \r\nQ 12.796875 0.140625 7.71875 1.703125 \r\nL 7.71875 11.625 \r\nQ 12.109375 9.234375 16.796875 8.0625 \r\nQ 21.484375 6.890625 26.703125 6.890625 \r\nQ 35.15625 6.890625 40.078125 11.328125 \r\nQ 45.015625 15.765625 45.015625 23.390625 \r\nQ 45.015625 31 40.078125 35.4375 \r\nQ 35.15625 39.890625 26.703125 39.890625 \r\nQ 22.75 39.890625 18.8125 39.015625 \r\nQ 14.890625 38.140625 10.796875 36.28125 \r\nz\r\n\" id=\"DejaVuSans-53\"/>\r\n       </defs>\r\n       <use xlink:href=\"#DejaVuSans-53\"/>\r\n       <use x=\"63.623047\" xlink:href=\"#DejaVuSans-48\"/>\r\n       <use x=\"127.246094\" xlink:href=\"#DejaVuSans-48\"/>\r\n       <use x=\"190.869141\" xlink:href=\"#DejaVuSans-48\"/>\r\n      </g>\r\n     </g>\r\n    </g>\r\n    <g id=\"ytick_5\">\r\n     <g id=\"line2d_7\">\r\n      <g>\r\n       <use style=\"stroke:#000000;stroke-width:0.8;\" x=\"279.292625\" xlink:href=\"#m1ed746defd\" y=\"161.216829\"/>\r\n      </g>\r\n     </g>\r\n     <g id=\"text_13\">\r\n      <!-- 10000 -->\r\n      <g transform=\"translate(286.292625 165.016048)scale(0.1 -0.1)\">\r\n       <use xlink:href=\"#DejaVuSans-49\"/>\r\n       <use x=\"63.623047\" xlink:href=\"#DejaVuSans-48\"/>\r\n       <use x=\"127.246094\" xlink:href=\"#DejaVuSans-48\"/>\r\n       <use x=\"190.869141\" xlink:href=\"#DejaVuSans-48\"/>\r\n       <use x=\"254.492188\" xlink:href=\"#DejaVuSans-48\"/>\r\n      </g>\r\n     </g>\r\n    </g>\r\n    <g id=\"ytick_6\">\r\n     <g id=\"line2d_8\">\r\n      <g>\r\n       <use style=\"stroke:#000000;stroke-width:0.8;\" x=\"279.292625\" xlink:href=\"#m1ed746defd\" y=\"129.505243\"/>\r\n      </g>\r\n     </g>\r\n     <g id=\"text_14\">\r\n      <!-- 15000 -->\r\n      <g transform=\"translate(286.292625 133.304462)scale(0.1 -0.1)\">\r\n       <use xlink:href=\"#DejaVuSans-49\"/>\r\n       <use x=\"63.623047\" xlink:href=\"#DejaVuSans-53\"/>\r\n       <use x=\"127.246094\" xlink:href=\"#DejaVuSans-48\"/>\r\n       <use x=\"190.869141\" xlink:href=\"#DejaVuSans-48\"/>\r\n       <use x=\"254.492188\" xlink:href=\"#DejaVuSans-48\"/>\r\n      </g>\r\n     </g>\r\n    </g>\r\n    <g id=\"ytick_7\">\r\n     <g id=\"line2d_9\">\r\n      <g>\r\n       <use style=\"stroke:#000000;stroke-width:0.8;\" x=\"279.292625\" xlink:href=\"#m1ed746defd\" y=\"97.793658\"/>\r\n      </g>\r\n     </g>\r\n     <g id=\"text_15\">\r\n      <!-- 20000 -->\r\n      <g transform=\"translate(286.292625 101.592876)scale(0.1 -0.1)\">\r\n       <use xlink:href=\"#DejaVuSans-50\"/>\r\n       <use x=\"63.623047\" xlink:href=\"#DejaVuSans-48\"/>\r\n       <use x=\"127.246094\" xlink:href=\"#DejaVuSans-48\"/>\r\n       <use x=\"190.869141\" xlink:href=\"#DejaVuSans-48\"/>\r\n       <use x=\"254.492188\" xlink:href=\"#DejaVuSans-48\"/>\r\n      </g>\r\n     </g>\r\n    </g>\r\n    <g id=\"ytick_8\">\r\n     <g id=\"line2d_10\">\r\n      <g>\r\n       <use style=\"stroke:#000000;stroke-width:0.8;\" x=\"279.292625\" xlink:href=\"#m1ed746defd\" y=\"66.082072\"/>\r\n      </g>\r\n     </g>\r\n     <g id=\"text_16\">\r\n      <!-- 25000 -->\r\n      <g transform=\"translate(286.292625 69.881291)scale(0.1 -0.1)\">\r\n       <use xlink:href=\"#DejaVuSans-50\"/>\r\n       <use x=\"63.623047\" xlink:href=\"#DejaVuSans-53\"/>\r\n       <use x=\"127.246094\" xlink:href=\"#DejaVuSans-48\"/>\r\n       <use x=\"190.869141\" xlink:href=\"#DejaVuSans-48\"/>\r\n       <use x=\"254.492188\" xlink:href=\"#DejaVuSans-48\"/>\r\n      </g>\r\n     </g>\r\n    </g>\r\n    <g id=\"ytick_9\">\r\n     <g id=\"line2d_11\">\r\n      <g>\r\n       <use style=\"stroke:#000000;stroke-width:0.8;\" x=\"279.292625\" xlink:href=\"#m1ed746defd\" y=\"34.370487\"/>\r\n      </g>\r\n     </g>\r\n     <g id=\"text_17\">\r\n      <!-- 30000 -->\r\n      <g transform=\"translate(286.292625 38.169705)scale(0.1 -0.1)\">\r\n       <use xlink:href=\"#DejaVuSans-51\"/>\r\n       <use x=\"63.623047\" xlink:href=\"#DejaVuSans-48\"/>\r\n       <use x=\"127.246094\" xlink:href=\"#DejaVuSans-48\"/>\r\n       <use x=\"190.869141\" xlink:href=\"#DejaVuSans-48\"/>\r\n       <use x=\"254.492188\" xlink:href=\"#DejaVuSans-48\"/>\r\n      </g>\r\n     </g>\r\n    </g>\r\n   </g>\r\n   <g id=\"patch_8\">\r\n    <path d=\"M 268.420625 224.64 \r\nL 268.420625 223.790625 \r\nL 268.420625 8.049375 \r\nL 268.420625 7.2 \r\nL 279.292625 7.2 \r\nL 279.292625 8.049375 \r\nL 279.292625 223.790625 \r\nL 279.292625 224.64 \r\nz\r\n\" style=\"fill:none;stroke:#000000;stroke-linejoin:miter;stroke-width:0.8;\"/>\r\n   </g>\r\n  </g>\r\n </g>\r\n <defs>\r\n  <clipPath id=\"pcbbb1eb83b\">\r\n   <rect height=\"217.44\" width=\"217.44\" x=\"34.240625\" y=\"7.2\"/>\r\n  </clipPath>\r\n  <clipPath id=\"pb946479642\">\r\n   <rect height=\"217.44\" width=\"10.872\" x=\"268.420625\" y=\"7.2\"/>\r\n  </clipPath>\r\n </defs>\r\n</svg>\r\n",
      "image/png": "[encoded data removed]"
     },
     "metadata": {
      "needs_background": "light"
     }
    }
   ],
   "source": [
    "from sklearn.metrics import confusion_matrix\n",
    "from sklearn.metrics import ConfusionMatrixDisplay\n",
    "\n",
    "y_pred = clf_forest.predict(X_test)\n",
    "cm = confusion_matrix(y_test, y_pred)\n",
    "cm_display = ConfusionMatrixDisplay(cm).plot()"
   ]
  },
  {
   "cell_type": "code",
   "execution_count": 21,
   "metadata": {},
   "outputs": [
    {
     "data": {
      "text/plain": [
       "<matplotlib.axes._subplots.AxesSubplot at 0x1a2d59fd68>"
      ]
     },
     "execution_count": 21,
     "metadata": {},
     "output_type": "execute_result"
    },
    {
     "data": {
      "image/png": "[encoded data removed]",
      "text/plain": [
       "<Figure size 432x288 with 2 Axes>"
      ]
     },
     "metadata": {
      "needs_background": "light"
     },
     "output_type": "display_data"
    }
   ],
   "source": []
  },
  {
   "cell_type": "markdown",
   "metadata": {},
   "source": [
    "### Faire une selection de certaine variables et spliter vos varibales "
   ]
  },
  {
   "cell_type": "code",
   "execution_count": 22,
   "metadata": {},
   "outputs": [
    {
     "name": "stdout",
     "output_type": "stream",
     "text": [
      "Shape du dataset d'entrainement : (105778, 4) | Shape du dataset de test : (45334, 4)\n"
     ]
    }
   ],
   "source": []
  },
  {
   "cell_type": "markdown",
   "metadata": {},
   "source": [
    "### Entrainer un classifieur `LogisticRegression` sur ces variables "
   ]
  },
  {
   "cell_type": "code",
   "execution_count": 67,
   "metadata": {},
   "outputs": [
    {
     "output_type": "execute_result",
     "data": {
      "text/plain": [
       "0.9063542273280746"
      ]
     },
     "metadata": {},
     "execution_count": 67
    }
   ],
   "source": [
    "from sklearn.datasets import load_iris\n",
    "from sklearn.linear_model import LogisticRegression\n",
    "\n",
    "clf = LogisticRegression().fit(df0,y)\n",
    "clf.predict(X_test)\n",
    "clf.predict_proba(X_test)\n",
    "clf.score(df0, y)"
   ]
  },
  {
   "cell_type": "code",
   "execution_count": 23,
   "metadata": {},
   "outputs": [
    {
     "name": "stdout",
     "output_type": "stream",
     "text": [
      "L'accuracy moyenne pour 10 'fold cross validation' est 95.39%\n"
     ]
    }
   ],
   "source": []
  }
 ],
 "metadata": {
  "kernelspec": {
   "name": "python383jvsc74a57bd01baa965d5efe3ac65b79dfc60c0d706280b1da80fedb7760faf2759126c4f253",
   "display_name": "Python 3.8.3 64-bit"
  },
  "language_info": {
   "codemirror_mode": {
    "name": "ipython",
    "version": 3
   },
   "file_extension": ".py",
   "mimetype": "text/x-python",
   "name": "python",
   "nbconvert_exporter": "python",
   "pygments_lexer": "ipython3",
   "version": "3.8.3"
  },
  "latex_envs": {
   "LaTeX_envs_menu_present": true,
   "autoclose": false,
   "autocomplete": true,
   "bibliofile": "biblio.bib",
   "cite_by": "apalike",
   "current_citInitial": 1,
   "eqLabelWithNumbers": true,
   "eqNumInitial": 1,
   "hotkeys": {
    "equation": "Ctrl-E",
    "itemize": "Ctrl-I"
   },
   "labels_anchors": false,
   "latex_user_defs": false,
   "report_style_numbering": false,
   "user_envs_cfg": false
  },
  "toc": {
   "base_numbering": 1,
   "nav_menu": {},
   "number_sections": true,
   "sideBar": true,
   "skip_h1_title": false,
   "title_cell": "Table of Contents",
   "title_sidebar": "Contents",
   "toc_cell": false,
   "toc_position": {},
   "toc_section_display": true,
   "toc_window_display": false
  },
  "varInspector": {
   "cols": {
    "lenName": 16,
    "lenType": 16,
    "lenVar": 40
   },
   "kernels_config": {
    "python": {
     "delete_cmd_postfix": "",
     "delete_cmd_prefix": "del ",
     "library": "var_list.py",
     "varRefreshCmd": "print(var_dic_list())"
    },
    "r": {
     "delete_cmd_postfix": ") ",
     "delete_cmd_prefix": "rm(",
     "library": "var_list.r",
     "varRefreshCmd": "cat(var_dic_list()) "
    }
   },
   "types_to_exclude": [
    "module",
    "function",
    "builtin_function_or_method",
    "instance",
    "_Feature"
   ],
   "window_display": false
  }
 },
 "nbformat": 4,
 "nbformat_minor": 2
}